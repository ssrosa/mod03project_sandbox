{
 "cells": [
  {
   "cell_type": "markdown",
   "metadata": {},
   "source": [
    "# Food Data Analysis"
   ]
  },
  {
   "cell_type": "code",
   "execution_count": null,
   "metadata": {},
   "outputs": [],
   "source": []
  },
  {
   "cell_type": "markdown",
   "metadata": {},
   "source": [
    "<a id = 'top'></a>"
   ]
  },
  {
   "cell_type": "markdown",
   "metadata": {},
   "source": [
    "# Contents\n",
    "\n",
    "- [Libraries and Functions]\n",
    "- [Exploratory Data Analysis](#eda)\n"
   ]
  },
  {
   "cell_type": "markdown",
   "metadata": {},
   "source": [
    "# Libraries and Functions"
   ]
  },
  {
   "cell_type": "code",
   "execution_count": 2,
   "metadata": {},
   "outputs": [],
   "source": [
    "import pandas as pd\n",
    "import matplotlib.pyplot as plt\n",
    "#import sqlite3\n",
    "#For the ORM:\n",
    "#import sqlalchemy\n",
    "##from sqlalchemy import create_engine #To connect to the database\n",
    "#from sqlalchemy.orm import Session, sessionmaker #To interact with the database as object\n",
    "#from sqlalchemy import inspect #To look at tables and column names"
   ]
  },
  {
   "cell_type": "code",
   "execution_count": null,
   "metadata": {},
   "outputs": [],
   "source": [
    "#import plotly.plotly as py\n",
    "#import plotly.figure_factory as ff"
   ]
  },
  {
   "cell_type": "code",
   "execution_count": null,
   "metadata": {},
   "outputs": [],
   "source": [
    "#needs plotly password\n",
    "#df = pd.read_csv(\"https://raw.githubusercontent.com/plotly/datasets/master/school_earnings.csv\")\n",
    "\n",
    "#table = ff.create_table(df)\n",
    "#py.iplot(table, filename='jupyter-table1')"
   ]
  },
  {
   "cell_type": "code",
   "execution_count": 2,
   "metadata": {},
   "outputs": [],
   "source": [
    "#Instantiate a session of the ORM\n",
    "#Connect to the sqlite database file\n",
    "#engine = create_engine('sqlite:///foodb.db', echo = True)\n",
    "#Bind a session factory to the engine\n",
    "#Session = sessionmaker(bind=engine)\n",
    "#Instantiate a session\n",
    "#session = Session()"
   ]
  },
  {
   "cell_type": "code",
   "execution_count": 2,
   "metadata": {},
   "outputs": [],
   "source": [
    "#An object to get a first look at the database\n",
    "#inspector = inspect(engine)"
   ]
  },
  {
   "cell_type": "code",
   "execution_count": 27,
   "metadata": {
    "scrolled": true
   },
   "outputs": [],
   "source": [
    "#Make a dict of list of names of all the columns in all the tables\n",
    "#for easy reference\n",
    "\n",
    "#Get list of all table names\n",
    "#table_names = inspector.get_table_names()\n",
    "\n",
    "#table_columns = dict()\n",
    "#For each table name\n",
    "#for table in table_names:\n",
    "#    column_names = []\n",
    "    #for each column in the table, get just the name\n",
    "#    for column in inspector.get_columns(table):\n",
    "#        column_names.append(column['name'])\n",
    "#    table_columns[table] = column_names"
   ]
  },
  {
   "cell_type": "code",
   "execution_count": 3,
   "metadata": {},
   "outputs": [],
   "source": [
    "def get_value_from_cols(table, value):\n",
    "    for column in table.columns:\n",
    "        print(column, table[table[column] == value].shape[0])"
   ]
  },
  {
   "cell_type": "markdown",
   "metadata": {},
   "source": [
    "<a id = 'eda'></a>"
   ]
  },
  {
   "cell_type": "markdown",
   "metadata": {},
   "source": [
    "[(Back to top)](#top)\n",
    "\n",
    "# Exploratory Data Analysis"
   ]
  },
  {
   "cell_type": "markdown",
   "metadata": {},
   "source": [
    "<a id = 'eda_foods'></a>"
   ]
  },
  {
   "cell_type": "code",
   "execution_count": 6,
   "metadata": {},
   "outputs": [],
   "source": [
    "# connect to db\n",
    "#connection = sqlite3.connect('foodb.db')\n",
    "#cur = connection.cursor()"
   ]
  },
  {
   "cell_type": "code",
   "execution_count": 4,
   "metadata": {},
   "outputs": [
    {
     "name": "stderr",
     "output_type": "stream",
     "text": [
      "/Users/ssrosa/anaconda3/envs/learn-env/lib/python3.6/site-packages/IPython/core/interactiveshell.py:2785: DtypeWarning: Columns (0,3,5,19,20,24,25,26,27,28,36,37,38,39,48) have mixed types. Specify dtype option on import or set low_memory=False.\n",
      "  interactivity=interactivity, compiler=compiler, result=result)\n"
     ]
    }
   ],
   "source": [
    "df = pd.read_csv('food.tsv', sep = '\\t')"
   ]
  },
  {
   "cell_type": "code",
   "execution_count": 5,
   "metadata": {},
   "outputs": [
    {
     "name": "stdout",
     "output_type": "stream",
     "text": [
      "<class 'pandas.core.frame.DataFrame'>\n",
      "RangeIndex: 356027 entries, 0 to 356026\n",
      "Columns: 163 entries, code to water-hardness_100g\n",
      "dtypes: float64(107), object(56)\n",
      "memory usage: 442.8+ MB\n"
     ]
    }
   ],
   "source": [
    "df.info()"
   ]
  },
  {
   "cell_type": "code",
   "execution_count": 10,
   "metadata": {},
   "outputs": [
    {
     "name": "stdout",
     "output_type": "stream",
     "text": [
      "code\n",
      "url\n",
      "creator\n",
      "created_t\n",
      "created_datetime\n",
      "last_modified_t\n",
      "last_modified_datetime\n",
      "product_name\n",
      "generic_name\n",
      "quantity\n",
      "packaging\n",
      "packaging_tags\n",
      "brands\n",
      "brands_tags\n",
      "categories\n",
      "categories_tags\n",
      "categories_en\n",
      "origins\n",
      "origins_tags\n",
      "manufacturing_places\n",
      "manufacturing_places_tags\n",
      "labels\n",
      "labels_tags\n",
      "labels_en\n",
      "emb_codes\n",
      "emb_codes_tags\n",
      "first_packaging_code_geo\n",
      "cities\n",
      "cities_tags\n",
      "purchase_places\n",
      "stores\n",
      "countries\n",
      "countries_tags\n",
      "countries_en\n",
      "ingredients_text\n",
      "allergens\n",
      "allergens_en\n",
      "traces\n",
      "traces_tags\n",
      "traces_en\n",
      "serving_size\n",
      "no_nutriments\n",
      "additives_n\n",
      "additives\n",
      "additives_tags\n",
      "additives_en\n",
      "ingredients_from_palm_oil_n\n",
      "ingredients_from_palm_oil\n",
      "ingredients_from_palm_oil_tags\n",
      "ingredients_that_may_be_from_palm_oil_n\n",
      "ingredients_that_may_be_from_palm_oil\n",
      "ingredients_that_may_be_from_palm_oil_tags\n",
      "nutrition_grade_uk\n",
      "nutrition_grade_fr\n",
      "pnns_groups_1\n",
      "pnns_groups_2\n",
      "states\n",
      "states_tags\n",
      "states_en\n",
      "main_category\n",
      "main_category_en\n",
      "image_url\n",
      "image_small_url\n",
      "energy_100g\n",
      "energy-from-fat_100g\n",
      "fat_100g\n",
      "saturated-fat_100g\n",
      "-butyric-acid_100g\n",
      "-caproic-acid_100g\n",
      "-caprylic-acid_100g\n",
      "-capric-acid_100g\n",
      "-lauric-acid_100g\n",
      "-myristic-acid_100g\n",
      "-palmitic-acid_100g\n",
      "-stearic-acid_100g\n",
      "-arachidic-acid_100g\n",
      "-behenic-acid_100g\n",
      "-lignoceric-acid_100g\n",
      "-cerotic-acid_100g\n",
      "-montanic-acid_100g\n",
      "-melissic-acid_100g\n",
      "monounsaturated-fat_100g\n",
      "polyunsaturated-fat_100g\n",
      "omega-3-fat_100g\n",
      "-alpha-linolenic-acid_100g\n",
      "-eicosapentaenoic-acid_100g\n",
      "-docosahexaenoic-acid_100g\n",
      "omega-6-fat_100g\n",
      "-linoleic-acid_100g\n",
      "-arachidonic-acid_100g\n",
      "-gamma-linolenic-acid_100g\n",
      "-dihomo-gamma-linolenic-acid_100g\n",
      "omega-9-fat_100g\n",
      "-oleic-acid_100g\n",
      "-elaidic-acid_100g\n",
      "-gondoic-acid_100g\n",
      "-mead-acid_100g\n",
      "-erucic-acid_100g\n",
      "-nervonic-acid_100g\n",
      "trans-fat_100g\n",
      "cholesterol_100g\n",
      "carbohydrates_100g\n",
      "sugars_100g\n",
      "-sucrose_100g\n",
      "-glucose_100g\n",
      "-fructose_100g\n",
      "-lactose_100g\n",
      "-maltose_100g\n",
      "-maltodextrins_100g\n",
      "starch_100g\n",
      "polyols_100g\n",
      "fiber_100g\n",
      "proteins_100g\n",
      "casein_100g\n",
      "serum-proteins_100g\n",
      "nucleotides_100g\n",
      "salt_100g\n",
      "sodium_100g\n",
      "alcohol_100g\n",
      "vitamin-a_100g\n",
      "beta-carotene_100g\n",
      "vitamin-d_100g\n",
      "vitamin-e_100g\n",
      "vitamin-k_100g\n",
      "vitamin-c_100g\n",
      "vitamin-b1_100g\n",
      "vitamin-b2_100g\n",
      "vitamin-pp_100g\n",
      "vitamin-b6_100g\n",
      "vitamin-b9_100g\n",
      "folates_100g\n",
      "vitamin-b12_100g\n",
      "biotin_100g\n",
      "pantothenic-acid_100g\n",
      "silica_100g\n",
      "bicarbonate_100g\n",
      "potassium_100g\n",
      "chloride_100g\n",
      "calcium_100g\n",
      "phosphorus_100g\n",
      "iron_100g\n",
      "magnesium_100g\n",
      "zinc_100g\n",
      "copper_100g\n",
      "manganese_100g\n",
      "fluoride_100g\n",
      "selenium_100g\n",
      "chromium_100g\n",
      "molybdenum_100g\n",
      "iodine_100g\n",
      "caffeine_100g\n",
      "taurine_100g\n",
      "ph_100g\n",
      "fruits-vegetables-nuts_100g\n",
      "fruits-vegetables-nuts-estimate_100g\n",
      "collagen-meat-protein-ratio_100g\n",
      "cocoa_100g\n",
      "chlorophyl_100g\n",
      "carbon-footprint_100g\n",
      "nutrition-score-fr_100g\n",
      "nutrition-score-uk_100g\n",
      "glycemic-index_100g\n",
      "water-hardness_100g\n"
     ]
    }
   ],
   "source": [
    "for column in df.columns:\n",
    "    print(column)"
   ]
  },
  {
   "cell_type": "code",
   "execution_count": 12,
   "metadata": {},
   "outputs": [
    {
     "data": {
      "text/plain": [
       "en:plant-based-foods-and-beverages           22950\n",
       "en:beverages                                 14205\n",
       "en:sugary-snacks                             12740\n",
       "en:dairies                                    8086\n",
       "en:groceries                                  6478\n",
       "en:meats                                      5397\n",
       "en:fresh-foods                                3562\n",
       "en:meals                                      3005\n",
       "en:spreads                                    2445\n",
       "en:salty-snacks                               2384\n",
       "en:fruit-juices                               2383\n",
       "en:canned-foods                               1944\n",
       "en:frozen-foods                               1715\n",
       "en:seafood                                    1696\n",
       "en:desserts                                   1383\n",
       "en:fats                                        772\n",
       "en:sandwiches                                  728\n",
       "en:sweeteners                                  628\n",
       "en:farming-products                            568\n",
       "en:baby-foods                                  567\n",
       "en:fruit-juices-and-nectars                    436\n",
       "en:breakfasts                                  358\n",
       "en:dietary-supplements                         337\n",
       "en:dried-products                              328\n",
       "en:vinegars                                    321\n",
       "en:pickles                                     298\n",
       "en:waffles                                     280\n",
       "en:fish-and-meat-and-eggs                      248\n",
       "en:crepes-and-galettes                         215\n",
       "en:green-olives                                214\n",
       "                                             ...  \n",
       "es:preparados-en-polvo-para-natillas             1\n",
       "fr:boulange                                      1\n",
       "fr:phytotherapie                                 1\n",
       "es:boquerones-en-vinagre                         1\n",
       "en:cayenne-pepper-sauce                          1\n",
       "es:agua-mineral                                  1\n",
       "fr:boisson-aux-fruits-a-base-de-concentre        1\n",
       "de:grune-oliven-mit-paprikapaste                 1\n",
       "en:apple-pear-juice                              1\n",
       "pl:zupa                                          1\n",
       "en:chicken-kievs                                 1\n",
       "pt:grao                                          1\n",
       "en:paste                                         1\n",
       "fr:cafe-glace                                    1\n",
       "en:almond-powder                                 1\n",
       "fr:chocolats-en-tablette                         1\n",
       "en:pecans                                        1\n",
       "en:grape-juice-drink                             1\n",
       "fr:kraft                                         1\n",
       "en:crossiants                                    1\n",
       "en:marshmallow-creme                             1\n",
       "es:zumo-de-granada-natural-exprimido             1\n",
       "en:pineapple-slices-in-juice                     1\n",
       "de:fruchtetee                                    1\n",
       "de:halvas                                        1\n",
       "en:basa-fish                                     1\n",
       "de:kaudragees                                    1\n",
       "fr:cranberries-sucrees-et-sechees                1\n",
       "fr:thes-glaces-saveur-mangue                     1\n",
       "en:harengs                                       1\n",
       "Name: main_category, Length: 3639, dtype: int64"
      ]
     },
     "execution_count": 12,
     "metadata": {},
     "output_type": "execute_result"
    }
   ],
   "source": [
    "#Wtf?\n",
    "df['main_category'].value_counts()"
   ]
  },
  {
   "cell_type": "code",
   "execution_count": 8,
   "metadata": {},
   "outputs": [
    {
     "data": {
      "text/plain": [
       "United States                                                                                173159\n",
       "France                                                                                       123961\n",
       "Switzerland                                                                                   14932\n",
       "Germany                                                                                        8470\n",
       "Spain                                                                                          5529\n",
       "United Kingdom                                                                                 5092\n",
       "Belgium                                                                                        2936\n",
       "Australia                                                                                      2201\n",
       "Russia                                                                                         1582\n",
       "France,Switzerland                                                                             1492\n",
       "Italy                                                                                          1433\n",
       "Canada                                                                                          973\n",
       "Belgium,France                                                                                  759\n",
       "Portugal                                                                                        738\n",
       "Netherlands                                                                                     628\n",
       "France,United Kingdom                                                                           580\n",
       "Austria                                                                                         402\n",
       "Czech Republic                                                                                  399\n",
       "Brazil                                                                                          356\n",
       "Sweden                                                                                          341\n",
       "Japan                                                                                           335\n",
       "France,Germany                                                                                  325\n",
       "France,United States                                                                            296\n",
       "Hungary                                                                                         290\n",
       "Serbia                                                                                          273\n",
       "Denmark                                                                                         271\n",
       "France,Spain                                                                                    259\n",
       "Thailand                                                                                        241\n",
       "Romania                                                                                         235\n",
       "Germany,Switzerland                                                                             222\n",
       "                                                                                              ...  \n",
       "Peru,United States                                                                                1\n",
       "Austria,France,Germany,Italy,Switzerland                                                          1\n",
       "Algeria,Belgium,Egypt,France,Morocco,Qatar,Switzerland,Tunisia,United Arab Emirates               1\n",
       "Australia,United Kingdom                                                                          1\n",
       "Colombia,France                                                                                   1\n",
       "Bosnia and Herzegovina,Republic of Macedonia,Serbia                                               1\n",
       "Jersey                                                                                            1\n",
       "Czech Republic,Hungary,Slovakia                                                                   1\n",
       "Belgium,France,Germany,Italy                                                                      1\n",
       "Canada,France,Germany,United Kingdom                                                              1\n",
       "Netherlands,Switzerland                                                                           1\n",
       "Luxembourg,Allemagne                                                                              1\n",
       "Portugal,Romania,Spain                                                                            1\n",
       "Panama,United States                                                                              1\n",
       "France,Taiwan                                                                                     1\n",
       "Bosnia and Herzegovina,Croatia,Montenegro,Republic of Macedonia,Serbia                            1\n",
       "France,New Zealand,Singapore                                                                      1\n",
       "Bulgaria,Czech Republic,Hungary,Lithuania,Moldova,Poland,Romania,Russia,Slovakia,Slovenia         1\n",
       "Germany,Portugal                                                                                  1\n",
       "China,Denmark,France,Spain,Sweden                                                                 1\n",
       "China,France,Vietnam                                                                              1\n",
       "France,Germany,Portugal,Switzerland                                                               1\n",
       "United States,Other-日本,日本                                                                         1\n",
       "Germany,Poland                                                                                    1\n",
       "Australia,India                                                                                   1\n",
       "Denmark,Finland,Greece,Norway,Portugal,Sweden                                                     1\n",
       "France,Saudi Arabia                                                                               1\n",
       "Denmark,Norway,Sweden                                                                             1\n",
       "France,Sint Maarten                                                                               1\n",
       "Germany,Luxembourg                                                                                1\n",
       "Name: countries_en, Length: 779, dtype: int64"
      ]
     },
     "execution_count": 8,
     "metadata": {},
     "output_type": "execute_result"
    }
   ],
   "source": [
    "df['countries_en'].value_counts()"
   ]
  },
  {
   "cell_type": "code",
   "execution_count": null,
   "metadata": {},
   "outputs": [],
   "source": [
    "#Just the plant-based"
   ]
  },
  {
   "cell_type": "code",
   "execution_count": 16,
   "metadata": {},
   "outputs": [],
   "source": [
    "df_plant = df[df['main_category'] == 'en:plant-based-foods-and-beverages']"
   ]
  },
  {
   "cell_type": "code",
   "execution_count": 17,
   "metadata": {},
   "outputs": [
    {
     "name": "stdout",
     "output_type": "stream",
     "text": [
      "<class 'pandas.core.frame.DataFrame'>\n",
      "Int64Index: 22950 entries, 176 to 356020\n",
      "Columns: 163 entries, code to water-hardness_100g\n",
      "dtypes: float64(107), object(56)\n",
      "memory usage: 28.7+ MB\n"
     ]
    }
   ],
   "source": [
    "df_plant.info()"
   ]
  },
  {
   "cell_type": "code",
   "execution_count": 18,
   "metadata": {
    "scrolled": true
   },
   "outputs": [
    {
     "data": {
      "text/plain": [
       "France                                                                      15224\n",
       "España                                                                       2061\n",
       "Deutschland                                                                  1519\n",
       "United Kingdom                                                                487\n",
       "Suisse                                                                        361\n",
       "United States                                                                 317\n",
       "Россия                                                                        282\n",
       "Australia                                                                     232\n",
       "US                                                                            158\n",
       "Belgique                                                                      114\n",
       "Germany                                                                       103\n",
       "France,Suisse                                                                 101\n",
       "France, Suisse                                                                 85\n",
       "Spain                                                                          79\n",
       "Portugal                                                                       72\n",
       "Belgique,France                                                                68\n",
       "Canada                                                                         62\n",
       "Germany,Switzerland                                                            53\n",
       "France,Espagne                                                                 47\n",
       "France,Royaume-Uni                                                             46\n",
       "Sverige                                                                        44\n",
       "Italia                                                                         43\n",
       "Serbia                                                                         40\n",
       "Nederland                                                                      40\n",
       "Switzerland                                                                    38\n",
       "en:spain                                                                       35\n",
       "Österreich                                                                     32\n",
       "France,Allemagne                                                               31\n",
       "Frankreich,Deutschland                                                         28\n",
       "France, en:switzerland                                                         25\n",
       "                                                                            ...  \n",
       "Saint Pierre and Miquelon, en:france, en:belgium                                1\n",
       "France,Vanuatu                                                                  1\n",
       "Albania,France                                                                  1\n",
       "Arabie saoudite                                                                 1\n",
       "Serbia,Belgium                                                                  1\n",
       "Danemark,France,Guadeloupe                                                      1\n",
       "Italy,France                                                                    1\n",
       "Belgium,France,Germany,Ireland,Netherlands,Portugal,Spain,United Kingdom        1\n",
       "Denmark,France, US                                                              1\n",
       "Belgium,France,Portugal                                                         1\n",
       "Österreich,Schweiz                                                              1\n",
       "Saint-Pierre-et-Miquelon, en:france                                             1\n",
       "Autriche                                                                        1\n",
       "França,Portugal                                                                 1\n",
       "République tchèque,France, Suisse                                               1\n",
       "Ireland,United Kingdom, en:france                                               1\n",
       "Australie,France, Suisse                                                        1\n",
       "Irlande                                                                         1\n",
       "Deutschland,Frankreich,Schweden,Dänemark                                        1\n",
       "Germany, en:france,France                                                       1\n",
       "Belgique, en:france, Suisse                                                     1\n",
       "Royaume-Uni, en:france                                                          1\n",
       "Schweiz,Deutschland                                                             1\n",
       "Frankreich,Schweiz                                                              1\n",
       "Danemark,Finlande,France                                                        1\n",
       "Países Baixos,Portugal, en:france                                               1\n",
       "França,Portugal,Espanha                                                         1\n",
       "Francia,Hungría,España,Reino Unido                                              1\n",
       "Canada,États-Unis                                                               1\n",
       "香港                                                                              1\n",
       "Name: countries, Length: 421, dtype: int64"
      ]
     },
     "execution_count": 18,
     "metadata": {},
     "output_type": "execute_result"
    }
   ],
   "source": [
    "df_plant['countries'].value_counts()"
   ]
  },
  {
   "cell_type": "code",
   "execution_count": 19,
   "metadata": {},
   "outputs": [],
   "source": [
    "france = df_plant[df_plant['countries'] == 'France']"
   ]
  },
  {
   "cell_type": "code",
   "execution_count": 20,
   "metadata": {},
   "outputs": [
    {
     "name": "stdout",
     "output_type": "stream",
     "text": [
      "<class 'pandas.core.frame.DataFrame'>\n",
      "Int64Index: 15224 entries, 184 to 356005\n",
      "Columns: 163 entries, code to water-hardness_100g\n",
      "dtypes: float64(107), object(56)\n",
      "memory usage: 19.0+ MB\n"
     ]
    }
   ],
   "source": [
    "france.info()"
   ]
  },
  {
   "cell_type": "code",
   "execution_count": 22,
   "metadata": {},
   "outputs": [
    {
     "data": {
      "text/plain": [
       "blé                                                               863\n",
       "blé, blé                                                          117\n",
       "blé, œufs                                                         109\n",
       "soja                                                               73\n",
       "céleri                                                             64\n",
       "gluten                                                             63\n",
       "lait                                                               60\n",
       "Amandes                                                            53\n",
       "orge                                                               46\n",
       "blé, oeufs                                                         41\n",
       "avoine                                                             40\n",
       "Cacahuètes                                                         38\n",
       "Blé                                                                37\n",
       "blé, gluten de blé                                                 37\n",
       "sésame                                                             35\n",
       "amandes                                                            35\n",
       "blé, blé, blé                                                      32\n",
       "sulfites                                                           28\n",
       "blé, gluten                                                        26\n",
       "Pistaches                                                          26\n",
       "blé, blé, orge                                                     24\n",
       "anhydride sulfureux                                                24\n",
       "crème                                                              23\n",
       "lait, lait                                                         22\n",
       "blé, gluten, blé                                                   21\n",
       "Noix de cajou                                                      20\n",
       "Arachides                                                          20\n",
       "noix                                                               20\n",
       "blé, orge                                                          20\n",
       "gluten, gluten                                                     18\n",
       "                                                                 ... \n",
       "blé, blé, lait, noisette, blé, lait                                 1\n",
       "blé, froment, blé                                                   1\n",
       "blé, soja, lactose, soja, soja, blé, soja, gluten, soja             1\n",
       "vermicelles, blé, œuf, céleri, lait                                 1\n",
       "seigle, orge, sésame                                                1\n",
       "seigle, avoine, orge, froment                                       1\n",
       "blé, blé, œufs, fromage, lactosérum, lactosérum, fromage            1\n",
       "soja, soja, soja, blé, blé                                          1\n",
       "blé, oeufs, lait, emmental, beurre,  blé                            1\n",
       "Blé khorasan                                                        1\n",
       "Avoine, blé, orge, blé, blé                                         1\n",
       "Mozzarella, blé, blé, blé, œufs                                     1\n",
       "soja, blé, œuf, blé, orge                                           1\n",
       "crème, moutarde, moutarde, œuf                                      1\n",
       "orge, blé, lait, beurre, lait, lait, céleri                         1\n",
       "arachide, fruit à coque, sulfites                                   1\n",
       "blé, œufs, lait, lait, blé                                          1\n",
       "blé, beurre, œufs, œufs                                             1\n",
       "blé, blé, blé, gluten de blé                                        1\n",
       "blé, avoine, lactosérum, blé, noisettes                             1\n",
       "avoine, blé, blé, blé, blé, orge, lait                              1\n",
       "Pignon de pin                                                       1\n",
       "blé, oeufs, fromage, comté, emmental, beurre                        1\n",
       "avoine, Noix de cajou, Noisettes, Noix de pécan, Amandes, orge      1\n",
       "blé, lactosérum, protéines de lait, orge                            1\n",
       "céleri, céleri, céleri, blé                                         1\n",
       "blé, œufs, fromage, comté, emmental, œufs, beurre                   1\n",
       "crème, beurre, lactose, lait                                        1\n",
       "avoine, lait, épeautre, avoine, blé, noisettes                      1\n",
       "avoine, blé, blé, sulfites                                          1\n",
       "Name: allergens, Length: 1833, dtype: int64"
      ]
     },
     "execution_count": 22,
     "metadata": {},
     "output_type": "execute_result"
    }
   ],
   "source": [
    "france['allergens'].value_counts()"
   ]
  },
  {
   "cell_type": "markdown",
   "metadata": {},
   "source": [
    "[(Back to top)](#top)\n",
    "\n",
    "# Exploratory data analysis\n"
   ]
  },
  {
   "cell_type": "markdown",
   "metadata": {},
   "source": [
    "<a id = 'eda_enzymes'></a>"
   ]
  },
  {
   "cell_type": "markdown",
   "metadata": {},
   "source": [
    "## something"
   ]
  },
  {
   "cell_type": "code",
   "execution_count": null,
   "metadata": {},
   "outputs": [],
   "source": []
  },
  {
   "cell_type": "code",
   "execution_count": null,
   "metadata": {},
   "outputs": [],
   "source": []
  },
  {
   "cell_type": "code",
   "execution_count": null,
   "metadata": {},
   "outputs": [],
   "source": [
    "###############################################################################################"
   ]
  },
  {
   "cell_type": "code",
   "execution_count": null,
   "metadata": {},
   "outputs": [],
   "source": []
  }
 ],
 "metadata": {
  "kernelspec": {
   "display_name": "learn-env",
   "language": "python",
   "name": "learn-env"
  },
  "language_info": {
   "codemirror_mode": {
    "name": "ipython",
    "version": 3
   },
   "file_extension": ".py",
   "mimetype": "text/x-python",
   "name": "python",
   "nbconvert_exporter": "python",
   "pygments_lexer": "ipython3",
   "version": "3.6.6"
  }
 },
 "nbformat": 4,
 "nbformat_minor": 2
}
