{
 "cells": [
  {
   "cell_type": "markdown",
   "metadata": {},
   "source": [
    "# FooDB.ca Data Analysis"
   ]
  },
  {
   "cell_type": "code",
   "execution_count": null,
   "metadata": {},
   "outputs": [],
   "source": []
  },
  {
   "cell_type": "markdown",
   "metadata": {},
   "source": [
    "<a id = 'top'></a>"
   ]
  },
  {
   "cell_type": "markdown",
   "metadata": {},
   "source": [
    "# Contents\n",
    "\n",
    "- [Libraries and Functions]\n",
    "- [Exploratory Data Analysis](#eda)\n",
    "- [Dropping columns from the db](#droppingcolumns)\n",
    "-- Food Taxonomies table\n",
    "--- [Test query of morels](#test_query_ft)\n",
    "- [Dropping whole tables](#dropping_tables)"
   ]
  },
  {
   "cell_type": "markdown",
   "metadata": {},
   "source": [
    "# Libraries and Functions"
   ]
  },
  {
   "cell_type": "code",
   "execution_count": 1,
   "metadata": {},
   "outputs": [],
   "source": [
    "import pandas as pd\n",
    "import matplotlib.pyplot as plt\n",
    "import sqlite3\n",
    "#For the ORM:\n",
    "import sqlalchemy\n",
    "from sqlalchemy import create_engine #To connect to the database\n",
    "from sqlalchemy.orm import Session, sessionmaker #To interact with the database as object\n",
    "from sqlalchemy import inspect #To look at tables and column names"
   ]
  },
  {
   "cell_type": "code",
   "execution_count": null,
   "metadata": {},
   "outputs": [],
   "source": [
    "#import plotly.plotly as py\n",
    "#import plotly.figure_factory as ff"
   ]
  },
  {
   "cell_type": "code",
   "execution_count": null,
   "metadata": {},
   "outputs": [],
   "source": [
    "#needs plotly password\n",
    "#df = pd.read_csv(\"https://raw.githubusercontent.com/plotly/datasets/master/school_earnings.csv\")\n",
    "\n",
    "#table = ff.create_table(df)\n",
    "#py.iplot(table, filename='jupyter-table1')"
   ]
  },
  {
   "cell_type": "code",
   "execution_count": 2,
   "metadata": {},
   "outputs": [],
   "source": [
    "#Instantiate a session of the ORM\n",
    "#Connect to the sqlite database file\n",
    "engine = create_engine('sqlite:///foodb.db', echo = True)\n",
    "#Bind a session factory to the engine\n",
    "Session = sessionmaker(bind=engine)\n",
    "#Instantiate a session\n",
    "session = Session()"
   ]
  },
  {
   "cell_type": "code",
   "execution_count": 3,
   "metadata": {},
   "outputs": [
    {
     "name": "stdout",
     "output_type": "stream",
     "text": [
      "2019-03-15 12:18:58,658 INFO sqlalchemy.engine.base.Engine SELECT CAST('test plain returns' AS VARCHAR(60)) AS anon_1\n",
      "2019-03-15 12:18:58,668 INFO sqlalchemy.engine.base.Engine ()\n",
      "2019-03-15 12:18:58,668 INFO sqlalchemy.engine.base.Engine SELECT CAST('test unicode returns' AS VARCHAR(60)) AS anon_1\n",
      "2019-03-15 12:18:58,668 INFO sqlalchemy.engine.base.Engine ()\n"
     ]
    }
   ],
   "source": [
    "#An object to get a first look at the database\n",
    "inspector = inspect(engine)"
   ]
  },
  {
   "cell_type": "code",
   "execution_count": 4,
   "metadata": {
    "scrolled": false
   },
   "outputs": [
    {
     "name": "stdout",
     "output_type": "stream",
     "text": [
      "2019-03-15 12:19:01,643 INFO sqlalchemy.engine.base.Engine SELECT name FROM sqlite_master WHERE type='table' ORDER BY name\n",
      "2019-03-15 12:19:01,644 INFO sqlalchemy.engine.base.Engine ()\n",
      "2019-03-15 12:19:01,679 INFO sqlalchemy.engine.base.Engine PRAGMA table_info(\"compound_alternate_parents\")\n",
      "2019-03-15 12:19:01,680 INFO sqlalchemy.engine.base.Engine ()\n",
      "2019-03-15 12:19:01,682 INFO sqlalchemy.engine.base.Engine PRAGMA table_info(\"compound_external_descriptors\")\n",
      "2019-03-15 12:19:01,683 INFO sqlalchemy.engine.base.Engine ()\n",
      "2019-03-15 12:19:01,685 INFO sqlalchemy.engine.base.Engine PRAGMA table_info(\"compound_substituents\")\n",
      "2019-03-15 12:19:01,685 INFO sqlalchemy.engine.base.Engine ()\n",
      "2019-03-15 12:19:01,688 INFO sqlalchemy.engine.base.Engine PRAGMA table_info(\"compound_synonyms\")\n",
      "2019-03-15 12:19:01,689 INFO sqlalchemy.engine.base.Engine ()\n",
      "2019-03-15 12:19:01,690 INFO sqlalchemy.engine.base.Engine PRAGMA table_info(\"compounds\")\n",
      "2019-03-15 12:19:01,691 INFO sqlalchemy.engine.base.Engine ()\n",
      "2019-03-15 12:19:01,694 INFO sqlalchemy.engine.base.Engine PRAGMA table_info(\"compounds_enzymes\")\n",
      "2019-03-15 12:19:01,695 INFO sqlalchemy.engine.base.Engine ()\n",
      "2019-03-15 12:19:01,698 INFO sqlalchemy.engine.base.Engine PRAGMA table_info(\"compounds_flavors\")\n",
      "2019-03-15 12:19:01,699 INFO sqlalchemy.engine.base.Engine ()\n",
      "2019-03-15 12:19:01,702 INFO sqlalchemy.engine.base.Engine PRAGMA table_info(\"compounds_health_effects\")\n",
      "2019-03-15 12:19:01,703 INFO sqlalchemy.engine.base.Engine ()\n",
      "2019-03-15 12:19:01,707 INFO sqlalchemy.engine.base.Engine PRAGMA table_info(\"compounds_pathways\")\n",
      "2019-03-15 12:19:01,708 INFO sqlalchemy.engine.base.Engine ()\n",
      "2019-03-15 12:19:01,710 INFO sqlalchemy.engine.base.Engine PRAGMA table_info(\"enzymes\")\n",
      "2019-03-15 12:19:01,712 INFO sqlalchemy.engine.base.Engine ()\n",
      "2019-03-15 12:19:01,714 INFO sqlalchemy.engine.base.Engine PRAGMA table_info(\"flavors\")\n",
      "2019-03-15 12:19:01,715 INFO sqlalchemy.engine.base.Engine ()\n",
      "2019-03-15 12:19:01,717 INFO sqlalchemy.engine.base.Engine PRAGMA table_info(\"food_taxonomies\")\n",
      "2019-03-15 12:19:01,718 INFO sqlalchemy.engine.base.Engine ()\n",
      "2019-03-15 12:19:01,719 INFO sqlalchemy.engine.base.Engine PRAGMA table_info(\"foodcomex_compound_providers\")\n",
      "2019-03-15 12:19:01,720 INFO sqlalchemy.engine.base.Engine ()\n",
      "2019-03-15 12:19:01,722 INFO sqlalchemy.engine.base.Engine PRAGMA table_info(\"foodcomex_compounds\")\n",
      "2019-03-15 12:19:01,723 INFO sqlalchemy.engine.base.Engine ()\n",
      "2019-03-15 12:19:01,725 INFO sqlalchemy.engine.base.Engine PRAGMA table_info(\"foods\")\n",
      "2019-03-15 12:19:01,726 INFO sqlalchemy.engine.base.Engine ()\n",
      "2019-03-15 12:19:01,728 INFO sqlalchemy.engine.base.Engine PRAGMA table_info(\"foods_copy\")\n",
      "2019-03-15 12:19:01,728 INFO sqlalchemy.engine.base.Engine ()\n",
      "2019-03-15 12:19:01,730 INFO sqlalchemy.engine.base.Engine PRAGMA table_info(\"health_effects\")\n",
      "2019-03-15 12:19:01,732 INFO sqlalchemy.engine.base.Engine ()\n",
      "2019-03-15 12:19:01,734 INFO sqlalchemy.engine.base.Engine PRAGMA table_info(\"nutrients\")\n",
      "2019-03-15 12:19:01,735 INFO sqlalchemy.engine.base.Engine ()\n",
      "2019-03-15 12:19:01,737 INFO sqlalchemy.engine.base.Engine PRAGMA table_info(\"pathways\")\n",
      "2019-03-15 12:19:01,737 INFO sqlalchemy.engine.base.Engine ()\n",
      "2019-03-15 12:19:01,739 INFO sqlalchemy.engine.base.Engine PRAGMA table_info(\"references\")\n",
      "2019-03-15 12:19:01,741 INFO sqlalchemy.engine.base.Engine ()\n"
     ]
    }
   ],
   "source": [
    "#Make a dict of list of names of all the columns in all the tables\n",
    "#for easy reference\n",
    "\n",
    "#Get list of all table names\n",
    "table_names = inspector.get_table_names()\n",
    "\n",
    "tables_columns = dict()\n",
    "#For each table name\n",
    "for table in table_names:\n",
    "    column_names = []\n",
    "    #for each column in the table, get just the name\n",
    "    for column in inspector.get_columns(table):\n",
    "        column_names.append(column['name'])\n",
    "    tables_columns[table] = column_names"
   ]
  },
  {
   "cell_type": "markdown",
   "metadata": {},
   "source": [
    "<a id = 'eda'></a>"
   ]
  },
  {
   "cell_type": "markdown",
   "metadata": {},
   "source": [
    "[(Back to top)](#top)\n",
    "\n",
    "# Exploratory Data Analysis\n",
    "## Foods table"
   ]
  },
  {
   "cell_type": "code",
   "execution_count": 10,
   "metadata": {},
   "outputs": [
    {
     "name": "stdout",
     "output_type": "stream",
     "text": [
      "2019-03-15 12:25:32,098 INFO sqlalchemy.engine.base.Engine SELECT f.* \n",
      "                            FROM foods f\n",
      "                            ;\n",
      "2019-03-15 12:25:32,098 INFO sqlalchemy.engine.base.Engine ()\n"
     ]
    }
   ],
   "source": [
    "foods = pd.read_sql_query('''SELECT f.* \n",
    "                            FROM foods f\n",
    "                            ;''', engine)"
   ]
  },
  {
   "cell_type": "code",
   "execution_count": 27,
   "metadata": {
    "scrolled": false
   },
   "outputs": [
    {
     "data": {
      "text/html": [
       "<div>\n",
       "<style scoped>\n",
       "    .dataframe tbody tr th:only-of-type {\n",
       "        vertical-align: middle;\n",
       "    }\n",
       "\n",
       "    .dataframe tbody tr th {\n",
       "        vertical-align: top;\n",
       "    }\n",
       "\n",
       "    .dataframe thead th {\n",
       "        text-align: right;\n",
       "    }\n",
       "</style>\n",
       "<table border=\"1\" class=\"dataframe\">\n",
       "  <thead>\n",
       "    <tr style=\"text-align: right;\">\n",
       "      <th></th>\n",
       "      <th>id</th>\n",
       "      <th>name</th>\n",
       "      <th>name_scientific</th>\n",
       "      <th>description</th>\n",
       "      <th>itis_id</th>\n",
       "      <th>wikipedia_id</th>\n",
       "      <th>wikipedia_id_img</th>\n",
       "      <th>picture_content_type</th>\n",
       "      <th>picture_file_size</th>\n",
       "      <th>picture_updated_at</th>\n",
       "      <th>...</th>\n",
       "      <th>food_subgroup</th>\n",
       "      <th>food_type</th>\n",
       "      <th>created_at</th>\n",
       "      <th>updated_at</th>\n",
       "      <th>creator_id</th>\n",
       "      <th>updater_id</th>\n",
       "      <th>export_to_afcdb</th>\n",
       "      <th>category</th>\n",
       "      <th>ncbi_taxonomy_id</th>\n",
       "      <th>export_to_foodb</th>\n",
       "    </tr>\n",
       "  </thead>\n",
       "  <tbody>\n",
       "    <tr>\n",
       "      <th>0</th>\n",
       "      <td>1</td>\n",
       "      <td>Angelica</td>\n",
       "      <td>Angelica keiskei</td>\n",
       "      <td>Angelica is a genus of about 60 species of tal...</td>\n",
       "      <td></td>\n",
       "      <td>Angelica</td>\n",
       "      <td>1.jpg</td>\n",
       "      <td>image/jpeg</td>\n",
       "      <td>111325</td>\n",
       "      <td>2012-04-20 09:29:57 UTC</td>\n",
       "      <td>...</td>\n",
       "      <td>Herbs</td>\n",
       "      <td>Type 1</td>\n",
       "      <td>2011-02-09 00:37:14 UTC</td>\n",
       "      <td>2017-06-27 17:13:48 UTC</td>\n",
       "      <td></td>\n",
       "      <td>2</td>\n",
       "      <td>FALSE</td>\n",
       "      <td>specific</td>\n",
       "      <td>357850</td>\n",
       "      <td>TRUE</td>\n",
       "    </tr>\n",
       "    <tr>\n",
       "      <th>1</th>\n",
       "      <td>2</td>\n",
       "      <td>Savoy cabbage</td>\n",
       "      <td>Brassica oleracea var. sabauda</td>\n",
       "      <td>Savoy cabbage (Brassica oleracea convar. capit...</td>\n",
       "      <td></td>\n",
       "      <td>Savoy cabbage</td>\n",
       "      <td>2.jpg</td>\n",
       "      <td>image/jpeg</td>\n",
       "      <td>155178</td>\n",
       "      <td>2012-04-20 09:39:54 UTC</td>\n",
       "      <td>...</td>\n",
       "      <td>Cabbages</td>\n",
       "      <td>Type 1</td>\n",
       "      <td>2011-02-09 00:37:15 UTC</td>\n",
       "      <td>2017-03-20 21:26:22 UTC</td>\n",
       "      <td></td>\n",
       "      <td></td>\n",
       "      <td>FALSE</td>\n",
       "      <td>specific</td>\n",
       "      <td>1216010</td>\n",
       "      <td>TRUE</td>\n",
       "    </tr>\n",
       "    <tr>\n",
       "      <th>2</th>\n",
       "      <td>3</td>\n",
       "      <td>Silver linden</td>\n",
       "      <td>Tilia argentea</td>\n",
       "      <td>Tilia tomentosa (Silver Lime in the UK and Sil...</td>\n",
       "      <td></td>\n",
       "      <td>Tilia tomentosa</td>\n",
       "      <td>3.jpg</td>\n",
       "      <td>image/jpeg</td>\n",
       "      <td>56367</td>\n",
       "      <td>2012-04-20 09:41:25 UTC</td>\n",
       "      <td>...</td>\n",
       "      <td>Herbs</td>\n",
       "      <td>Type 1</td>\n",
       "      <td>2011-02-09 00:37:15 UTC</td>\n",
       "      <td>2015-10-02 21:24:39 UTC</td>\n",
       "      <td></td>\n",
       "      <td></td>\n",
       "      <td>FALSE</td>\n",
       "      <td>specific</td>\n",
       "      <td></td>\n",
       "      <td>TRUE</td>\n",
       "    </tr>\n",
       "    <tr>\n",
       "      <th>3</th>\n",
       "      <td>4</td>\n",
       "      <td>Kiwi</td>\n",
       "      <td>Actinidia chinensis</td>\n",
       "      <td>The kiwifruit, often shortened to kiwi in many...</td>\n",
       "      <td>506775</td>\n",
       "      <td>Kiwifruit</td>\n",
       "      <td>4.jpg</td>\n",
       "      <td>image/jpeg</td>\n",
       "      <td>110661</td>\n",
       "      <td>2012-04-20 09:32:21 UTC</td>\n",
       "      <td>...</td>\n",
       "      <td>Tropical fruits</td>\n",
       "      <td>Type 1</td>\n",
       "      <td>2011-02-09 00:37:15 UTC</td>\n",
       "      <td>2017-03-20 21:26:22 UTC</td>\n",
       "      <td></td>\n",
       "      <td></td>\n",
       "      <td>FALSE</td>\n",
       "      <td>specific</td>\n",
       "      <td>3625</td>\n",
       "      <td>TRUE</td>\n",
       "    </tr>\n",
       "    <tr>\n",
       "      <th>4</th>\n",
       "      <td>5</td>\n",
       "      <td>Allium (Onion)</td>\n",
       "      <td>Allium</td>\n",
       "      <td>Allium haematochiton is a species of wild onio...</td>\n",
       "      <td>42634</td>\n",
       "      <td>Allium haematochiton</td>\n",
       "      <td>5.jpg</td>\n",
       "      <td>image/jpeg</td>\n",
       "      <td>341911</td>\n",
       "      <td>2012-04-20 09:37:44 UTC</td>\n",
       "      <td>...</td>\n",
       "      <td>Onion-family vegetables</td>\n",
       "      <td>Type 1</td>\n",
       "      <td>2011-02-09 00:37:15 UTC</td>\n",
       "      <td>2017-03-20 21:26:22 UTC</td>\n",
       "      <td></td>\n",
       "      <td></td>\n",
       "      <td>FALSE</td>\n",
       "      <td>specific</td>\n",
       "      <td>4678</td>\n",
       "      <td>TRUE</td>\n",
       "    </tr>\n",
       "  </tbody>\n",
       "</table>\n",
       "<p>5 rows × 22 columns</p>\n",
       "</div>"
      ],
      "text/plain": [
       "  id            name                 name_scientific  \\\n",
       "0  1        Angelica                Angelica keiskei   \n",
       "1  2   Savoy cabbage  Brassica oleracea var. sabauda   \n",
       "2  3   Silver linden                  Tilia argentea   \n",
       "3  4            Kiwi             Actinidia chinensis   \n",
       "4  5  Allium (Onion)                          Allium   \n",
       "\n",
       "                                         description itis_id  \\\n",
       "0  Angelica is a genus of about 60 species of tal...           \n",
       "1  Savoy cabbage (Brassica oleracea convar. capit...           \n",
       "2  Tilia tomentosa (Silver Lime in the UK and Sil...           \n",
       "3  The kiwifruit, often shortened to kiwi in many...  506775   \n",
       "4  Allium haematochiton is a species of wild onio...   42634   \n",
       "\n",
       "           wikipedia_id wikipedia_id_img picture_content_type  \\\n",
       "0              Angelica            1.jpg           image/jpeg   \n",
       "1         Savoy cabbage            2.jpg           image/jpeg   \n",
       "2       Tilia tomentosa            3.jpg           image/jpeg   \n",
       "3             Kiwifruit            4.jpg           image/jpeg   \n",
       "4  Allium haematochiton            5.jpg           image/jpeg   \n",
       "\n",
       "  picture_file_size       picture_updated_at       ...        \\\n",
       "0            111325  2012-04-20 09:29:57 UTC       ...         \n",
       "1            155178  2012-04-20 09:39:54 UTC       ...         \n",
       "2             56367  2012-04-20 09:41:25 UTC       ...         \n",
       "3            110661  2012-04-20 09:32:21 UTC       ...         \n",
       "4            341911  2012-04-20 09:37:44 UTC       ...         \n",
       "\n",
       "             food_subgroup food_type               created_at  \\\n",
       "0                    Herbs    Type 1  2011-02-09 00:37:14 UTC   \n",
       "1                 Cabbages    Type 1  2011-02-09 00:37:15 UTC   \n",
       "2                    Herbs    Type 1  2011-02-09 00:37:15 UTC   \n",
       "3          Tropical fruits    Type 1  2011-02-09 00:37:15 UTC   \n",
       "4  Onion-family vegetables    Type 1  2011-02-09 00:37:15 UTC   \n",
       "\n",
       "                updated_at creator_id updater_id export_to_afcdb  category  \\\n",
       "0  2017-06-27 17:13:48 UTC                     2           FALSE  specific   \n",
       "1  2017-03-20 21:26:22 UTC                                 FALSE  specific   \n",
       "2  2015-10-02 21:24:39 UTC                                 FALSE  specific   \n",
       "3  2017-03-20 21:26:22 UTC                                 FALSE  specific   \n",
       "4  2017-03-20 21:26:22 UTC                                 FALSE  specific   \n",
       "\n",
       "  ncbi_taxonomy_id export_to_foodb  \n",
       "0           357850            TRUE  \n",
       "1          1216010            TRUE  \n",
       "2                             TRUE  \n",
       "3             3625            TRUE  \n",
       "4             4678            TRUE  \n",
       "\n",
       "[5 rows x 22 columns]"
      ]
     },
     "execution_count": 27,
     "metadata": {},
     "output_type": "execute_result"
    }
   ],
   "source": [
    "foods.head()"
   ]
  },
  {
   "cell_type": "code",
   "execution_count": 69,
   "metadata": {},
   "outputs": [
    {
     "name": "stdout",
     "output_type": "stream",
     "text": [
      "<class 'pandas.core.frame.DataFrame'>\n",
      "RangeIndex: 907 entries, 0 to 906\n",
      "Data columns (total 22 columns):\n",
      "id                      907 non-null object\n",
      "name                    907 non-null object\n",
      "name_scientific         907 non-null object\n",
      "description             907 non-null object\n",
      "itis_id                 907 non-null object\n",
      "wikipedia_id            907 non-null object\n",
      "wikipedia_id_img        907 non-null object\n",
      "picture_content_type    907 non-null object\n",
      "picture_file_size       907 non-null object\n",
      "picture_updated_at      907 non-null object\n",
      "legacy_id               907 non-null object\n",
      "food_group              907 non-null object\n",
      "food_subgroup           907 non-null object\n",
      "food_type               907 non-null object\n",
      "created_at              907 non-null object\n",
      "updated_at              907 non-null object\n",
      "creator_id              907 non-null object\n",
      "updater_id              907 non-null object\n",
      "export_to_afcdb         907 non-null object\n",
      "category                907 non-null object\n",
      "ncbi_taxonomy_id        907 non-null object\n",
      "export_to_foodb         907 non-null object\n",
      "dtypes: object(22)\n",
      "memory usage: 156.0+ KB\n"
     ]
    }
   ],
   "source": [
    "foods.info()"
   ]
  },
  {
   "cell_type": "markdown",
   "metadata": {},
   "source": [
    "Columns to drop:\n",
    "\n",
    "picture_updated_at\t\n",
    "\n",
    "created_at\n",
    "\n",
    "updated_at\n",
    "\n",
    "creator_id\n",
    "\n",
    "updater_id\n",
    "\n",
    "export_to_afcdb\n",
    "\n",
    "export_to_foodb"
   ]
  },
  {
   "cell_type": "code",
   "execution_count": 24,
   "metadata": {},
   "outputs": [
    {
     "data": {
      "text/plain": [
       "(907, 22)"
      ]
     },
     "execution_count": 24,
     "metadata": {},
     "output_type": "execute_result"
    }
   ],
   "source": [
    "foods.shape"
   ]
  },
  {
   "cell_type": "code",
   "execution_count": 25,
   "metadata": {},
   "outputs": [
    {
     "data": {
      "text/plain": [
       "(907, 907, 907)"
      ]
     },
     "execution_count": 25,
     "metadata": {},
     "output_type": "execute_result"
    }
   ],
   "source": [
    "foods['name'].value_counts().sum(), foods['name'].value_counts().sum(), foods['id'].value_counts().sum()"
   ]
  },
  {
   "cell_type": "markdown",
   "metadata": {},
   "source": [
    "### There are 907 foods in the database."
   ]
  },
  {
   "cell_type": "code",
   "execution_count": 9,
   "metadata": {
    "scrolled": true
   },
   "outputs": [
    {
     "data": {
      "text/plain": [
       "['id',\n",
       " 'name',\n",
       " 'name_scientific',\n",
       " 'description',\n",
       " 'itis_id',\n",
       " 'wikipedia_id',\n",
       " 'wikipedia_id_img',\n",
       " 'picture_content_type',\n",
       " 'picture_file_size',\n",
       " 'picture_updated_at',\n",
       " 'legacy_id',\n",
       " 'food_group',\n",
       " 'food_subgroup',\n",
       " 'food_type',\n",
       " 'created_at',\n",
       " 'updated_at',\n",
       " 'creator_id',\n",
       " 'updater_id',\n",
       " 'export_to_afcdb',\n",
       " 'category',\n",
       " 'ncbi_taxonomy_id',\n",
       " 'export_to_foodb']"
      ]
     },
     "execution_count": 9,
     "metadata": {},
     "output_type": "execute_result"
    }
   ],
   "source": [
    "tables_columns['foods']"
   ]
  },
  {
   "cell_type": "code",
   "execution_count": 28,
   "metadata": {},
   "outputs": [],
   "source": [
    "#alterante for food subgroup valuecounts\n",
    "#pd.read_sql_query('''SELECT f.food_subgroup, \n",
    "#                        COUNT(f.name) foods\n",
    " #                       FROM foods f\n",
    " #                       GROUP BY f.food_subgroup\n",
    "  #                      ORDER BY foods DESC\n",
    "  #                  ;''', engine)"
   ]
  },
  {
   "cell_type": "markdown",
   "metadata": {},
   "source": [
    "### Investigating Type 1 and Type 2"
   ]
  },
  {
   "cell_type": "code",
   "execution_count": 29,
   "metadata": {},
   "outputs": [
    {
     "name": "stdout",
     "output_type": "stream",
     "text": [
      "2019-03-12 19:13:32,229 INFO sqlalchemy.engine.base.Engine SELECT f.food_subgroup, \n",
      "                        COUNT(f.food_subgroup) subgroup\n",
      "                        FROM foods f\n",
      "                        WHERE f.food_type == 'Type 1'\n",
      "                        GROUP BY f.food_subgroup\n",
      "                    ;\n",
      "2019-03-12 19:13:32,230 INFO sqlalchemy.engine.base.Engine ()\n"
     ]
    },
    {
     "data": {
      "text/html": [
       "<div>\n",
       "<style scoped>\n",
       "    .dataframe tbody tr th:only-of-type {\n",
       "        vertical-align: middle;\n",
       "    }\n",
       "\n",
       "    .dataframe tbody tr th {\n",
       "        vertical-align: top;\n",
       "    }\n",
       "\n",
       "    .dataframe thead th {\n",
       "        text-align: right;\n",
       "    }\n",
       "</style>\n",
       "<table border=\"1\" class=\"dataframe\">\n",
       "  <thead>\n",
       "    <tr style=\"text-align: right;\">\n",
       "      <th></th>\n",
       "      <th>food_subgroup</th>\n",
       "      <th>subgroup</th>\n",
       "    </tr>\n",
       "  </thead>\n",
       "  <tbody>\n",
       "    <tr>\n",
       "      <th>0</th>\n",
       "      <td>Amphibians</td>\n",
       "      <td>1</td>\n",
       "    </tr>\n",
       "    <tr>\n",
       "      <th>1</th>\n",
       "      <td>Beans</td>\n",
       "      <td>14</td>\n",
       "    </tr>\n",
       "    <tr>\n",
       "      <th>2</th>\n",
       "      <td>Berries</td>\n",
       "      <td>55</td>\n",
       "    </tr>\n",
       "    <tr>\n",
       "      <th>3</th>\n",
       "      <td>Bovines</td>\n",
       "      <td>4</td>\n",
       "    </tr>\n",
       "    <tr>\n",
       "      <th>4</th>\n",
       "      <td>Cabbages</td>\n",
       "      <td>20</td>\n",
       "    </tr>\n",
       "    <tr>\n",
       "      <th>5</th>\n",
       "      <td>Caprae</td>\n",
       "      <td>1</td>\n",
       "    </tr>\n",
       "    <tr>\n",
       "      <th>6</th>\n",
       "      <td>Cereals</td>\n",
       "      <td>18</td>\n",
       "    </tr>\n",
       "    <tr>\n",
       "      <th>7</th>\n",
       "      <td>Cetaceans</td>\n",
       "      <td>3</td>\n",
       "    </tr>\n",
       "    <tr>\n",
       "      <th>8</th>\n",
       "      <td>Citrus</td>\n",
       "      <td>8</td>\n",
       "    </tr>\n",
       "    <tr>\n",
       "      <th>9</th>\n",
       "      <td>Cocoa</td>\n",
       "      <td>1</td>\n",
       "    </tr>\n",
       "    <tr>\n",
       "      <th>10</th>\n",
       "      <td>Coffee</td>\n",
       "      <td>3</td>\n",
       "    </tr>\n",
       "    <tr>\n",
       "      <th>11</th>\n",
       "      <td>Crustaceans</td>\n",
       "      <td>11</td>\n",
       "    </tr>\n",
       "    <tr>\n",
       "      <th>12</th>\n",
       "      <td>Drupes</td>\n",
       "      <td>9</td>\n",
       "    </tr>\n",
       "    <tr>\n",
       "      <th>13</th>\n",
       "      <td>Equines</td>\n",
       "      <td>1</td>\n",
       "    </tr>\n",
       "    <tr>\n",
       "      <th>14</th>\n",
       "      <td>Fishes</td>\n",
       "      <td>110</td>\n",
       "    </tr>\n",
       "    <tr>\n",
       "      <th>15</th>\n",
       "      <td>Fruit vegetables</td>\n",
       "      <td>19</td>\n",
       "    </tr>\n",
       "    <tr>\n",
       "      <th>16</th>\n",
       "      <td>Gourds</td>\n",
       "      <td>16</td>\n",
       "    </tr>\n",
       "    <tr>\n",
       "      <th>17</th>\n",
       "      <td>Herbal teas</td>\n",
       "      <td>2</td>\n",
       "    </tr>\n",
       "    <tr>\n",
       "      <th>18</th>\n",
       "      <td>Herbs</td>\n",
       "      <td>61</td>\n",
       "    </tr>\n",
       "    <tr>\n",
       "      <th>19</th>\n",
       "      <td>Lagomorphs</td>\n",
       "      <td>3</td>\n",
       "    </tr>\n",
       "    <tr>\n",
       "      <th>20</th>\n",
       "      <td>Leaf vegetables</td>\n",
       "      <td>19</td>\n",
       "    </tr>\n",
       "    <tr>\n",
       "      <th>21</th>\n",
       "      <td>Lentils</td>\n",
       "      <td>1</td>\n",
       "    </tr>\n",
       "    <tr>\n",
       "      <th>22</th>\n",
       "      <td>Marsupials</td>\n",
       "      <td>1</td>\n",
       "    </tr>\n",
       "    <tr>\n",
       "      <th>23</th>\n",
       "      <td>Mollusks</td>\n",
       "      <td>17</td>\n",
       "    </tr>\n",
       "    <tr>\n",
       "      <th>24</th>\n",
       "      <td>Mushrooms</td>\n",
       "      <td>9</td>\n",
       "    </tr>\n",
       "    <tr>\n",
       "      <th>25</th>\n",
       "      <td>Nuts</td>\n",
       "      <td>25</td>\n",
       "    </tr>\n",
       "    <tr>\n",
       "      <th>26</th>\n",
       "      <td>Oilseed crops</td>\n",
       "      <td>15</td>\n",
       "    </tr>\n",
       "    <tr>\n",
       "      <th>27</th>\n",
       "      <td>Onion-family vegetables</td>\n",
       "      <td>6</td>\n",
       "    </tr>\n",
       "    <tr>\n",
       "      <th>28</th>\n",
       "      <td>Other aquatic foods</td>\n",
       "      <td>4</td>\n",
       "    </tr>\n",
       "    <tr>\n",
       "      <th>29</th>\n",
       "      <td>Other fruits</td>\n",
       "      <td>3</td>\n",
       "    </tr>\n",
       "    <tr>\n",
       "      <th>30</th>\n",
       "      <td>Other mammals</td>\n",
       "      <td>4</td>\n",
       "    </tr>\n",
       "    <tr>\n",
       "      <th>31</th>\n",
       "      <td>Other pulses</td>\n",
       "      <td>2</td>\n",
       "    </tr>\n",
       "    <tr>\n",
       "      <th>32</th>\n",
       "      <td>Other seeds</td>\n",
       "      <td>7</td>\n",
       "    </tr>\n",
       "    <tr>\n",
       "      <th>33</th>\n",
       "      <td>Other vegetables</td>\n",
       "      <td>12</td>\n",
       "    </tr>\n",
       "    <tr>\n",
       "      <th>34</th>\n",
       "      <td>Ovis</td>\n",
       "      <td>1</td>\n",
       "    </tr>\n",
       "    <tr>\n",
       "      <th>35</th>\n",
       "      <td>Peas</td>\n",
       "      <td>8</td>\n",
       "    </tr>\n",
       "    <tr>\n",
       "      <th>36</th>\n",
       "      <td>Pinnipeds</td>\n",
       "      <td>6</td>\n",
       "    </tr>\n",
       "    <tr>\n",
       "      <th>37</th>\n",
       "      <td>Pomes</td>\n",
       "      <td>6</td>\n",
       "    </tr>\n",
       "    <tr>\n",
       "      <th>38</th>\n",
       "      <td>Poultry</td>\n",
       "      <td>15</td>\n",
       "    </tr>\n",
       "    <tr>\n",
       "      <th>39</th>\n",
       "      <td>Rodents</td>\n",
       "      <td>4</td>\n",
       "    </tr>\n",
       "    <tr>\n",
       "      <th>40</th>\n",
       "      <td>Root vegetables</td>\n",
       "      <td>23</td>\n",
       "    </tr>\n",
       "    <tr>\n",
       "      <th>41</th>\n",
       "      <td>Seaweed</td>\n",
       "      <td>8</td>\n",
       "    </tr>\n",
       "    <tr>\n",
       "      <th>42</th>\n",
       "      <td>Shoot vegetables</td>\n",
       "      <td>5</td>\n",
       "    </tr>\n",
       "    <tr>\n",
       "      <th>43</th>\n",
       "      <td>Soy</td>\n",
       "      <td>1</td>\n",
       "    </tr>\n",
       "    <tr>\n",
       "      <th>44</th>\n",
       "      <td>Spices</td>\n",
       "      <td>23</td>\n",
       "    </tr>\n",
       "    <tr>\n",
       "      <th>45</th>\n",
       "      <td>Stalk vegetables</td>\n",
       "      <td>3</td>\n",
       "    </tr>\n",
       "    <tr>\n",
       "      <th>46</th>\n",
       "      <td>Swine</td>\n",
       "      <td>2</td>\n",
       "    </tr>\n",
       "    <tr>\n",
       "      <th>47</th>\n",
       "      <td>Teas</td>\n",
       "      <td>1</td>\n",
       "    </tr>\n",
       "    <tr>\n",
       "      <th>48</th>\n",
       "      <td>Tropical fruits</td>\n",
       "      <td>43</td>\n",
       "    </tr>\n",
       "    <tr>\n",
       "      <th>49</th>\n",
       "      <td>Tubers</td>\n",
       "      <td>8</td>\n",
       "    </tr>\n",
       "    <tr>\n",
       "      <th>50</th>\n",
       "      <td>Venison</td>\n",
       "      <td>6</td>\n",
       "    </tr>\n",
       "  </tbody>\n",
       "</table>\n",
       "</div>"
      ],
      "text/plain": [
       "              food_subgroup  subgroup\n",
       "0                Amphibians         1\n",
       "1                     Beans        14\n",
       "2                   Berries        55\n",
       "3                   Bovines         4\n",
       "4                  Cabbages        20\n",
       "5                    Caprae         1\n",
       "6                   Cereals        18\n",
       "7                 Cetaceans         3\n",
       "8                    Citrus         8\n",
       "9                     Cocoa         1\n",
       "10                   Coffee         3\n",
       "11              Crustaceans        11\n",
       "12                   Drupes         9\n",
       "13                  Equines         1\n",
       "14                   Fishes       110\n",
       "15         Fruit vegetables        19\n",
       "16                   Gourds        16\n",
       "17              Herbal teas         2\n",
       "18                    Herbs        61\n",
       "19               Lagomorphs         3\n",
       "20          Leaf vegetables        19\n",
       "21                  Lentils         1\n",
       "22               Marsupials         1\n",
       "23                 Mollusks        17\n",
       "24                Mushrooms         9\n",
       "25                     Nuts        25\n",
       "26            Oilseed crops        15\n",
       "27  Onion-family vegetables         6\n",
       "28      Other aquatic foods         4\n",
       "29             Other fruits         3\n",
       "30            Other mammals         4\n",
       "31             Other pulses         2\n",
       "32              Other seeds         7\n",
       "33         Other vegetables        12\n",
       "34                     Ovis         1\n",
       "35                     Peas         8\n",
       "36                Pinnipeds         6\n",
       "37                    Pomes         6\n",
       "38                  Poultry        15\n",
       "39                  Rodents         4\n",
       "40          Root vegetables        23\n",
       "41                  Seaweed         8\n",
       "42         Shoot vegetables         5\n",
       "43                      Soy         1\n",
       "44                   Spices        23\n",
       "45         Stalk vegetables         3\n",
       "46                    Swine         2\n",
       "47                     Teas         1\n",
       "48          Tropical fruits        43\n",
       "49                   Tubers         8\n",
       "50                  Venison         6"
      ]
     },
     "execution_count": 29,
     "metadata": {},
     "output_type": "execute_result"
    }
   ],
   "source": [
    "pd.read_sql_query('''SELECT f.food_subgroup, \n",
    "                        COUNT(f.food_subgroup) subgroup\n",
    "                        FROM foods f\n",
    "                        WHERE f.food_type == 'Type 1'\n",
    "                        GROUP BY f.food_subgroup\n",
    "                    ;''', engine)"
   ]
  },
  {
   "cell_type": "code",
   "execution_count": 30,
   "metadata": {
    "scrolled": true
   },
   "outputs": [
    {
     "name": "stdout",
     "output_type": "stream",
     "text": [
      "2019-03-12 19:14:06,827 INFO sqlalchemy.engine.base.Engine SELECT f.food_subgroup, \n",
      "                        COUNT(f.food_subgroup) subgroup\n",
      "                        FROM foods f\n",
      "                        WHERE f.food_type == 'Type 2'\n",
      "                        GROUP BY f.food_subgroup\n",
      "                    ;\n",
      "2019-03-12 19:14:06,830 INFO sqlalchemy.engine.base.Engine ()\n"
     ]
    },
    {
     "data": {
      "text/html": [
       "<div>\n",
       "<style scoped>\n",
       "    .dataframe tbody tr th:only-of-type {\n",
       "        vertical-align: middle;\n",
       "    }\n",
       "\n",
       "    .dataframe tbody tr th {\n",
       "        vertical-align: top;\n",
       "    }\n",
       "\n",
       "    .dataframe thead th {\n",
       "        text-align: right;\n",
       "    }\n",
       "</style>\n",
       "<table border=\"1\" class=\"dataframe\">\n",
       "  <thead>\n",
       "    <tr style=\"text-align: right;\">\n",
       "      <th></th>\n",
       "      <th>food_subgroup</th>\n",
       "      <th>subgroup</th>\n",
       "    </tr>\n",
       "  </thead>\n",
       "  <tbody>\n",
       "    <tr>\n",
       "      <th>0</th>\n",
       "      <td>Alcoholic beverages</td>\n",
       "      <td>2</td>\n",
       "    </tr>\n",
       "    <tr>\n",
       "      <th>1</th>\n",
       "      <td>American cuisine</td>\n",
       "      <td>3</td>\n",
       "    </tr>\n",
       "    <tr>\n",
       "      <th>2</th>\n",
       "      <td>Animal fats</td>\n",
       "      <td>4</td>\n",
       "    </tr>\n",
       "    <tr>\n",
       "      <th>3</th>\n",
       "      <td>Asian cuisine</td>\n",
       "      <td>2</td>\n",
       "    </tr>\n",
       "    <tr>\n",
       "      <th>4</th>\n",
       "      <td>Baby foods</td>\n",
       "      <td>1</td>\n",
       "    </tr>\n",
       "    <tr>\n",
       "      <th>5</th>\n",
       "      <td>Baking goods</td>\n",
       "      <td>13</td>\n",
       "    </tr>\n",
       "    <tr>\n",
       "      <th>6</th>\n",
       "      <td>Berber cuisine</td>\n",
       "      <td>1</td>\n",
       "    </tr>\n",
       "    <tr>\n",
       "      <th>7</th>\n",
       "      <td>Bread products</td>\n",
       "      <td>1</td>\n",
       "    </tr>\n",
       "    <tr>\n",
       "      <th>8</th>\n",
       "      <td>Candies</td>\n",
       "      <td>8</td>\n",
       "    </tr>\n",
       "    <tr>\n",
       "      <th>9</th>\n",
       "      <td>Cereal products</td>\n",
       "      <td>8</td>\n",
       "    </tr>\n",
       "    <tr>\n",
       "      <th>10</th>\n",
       "      <td>Cocoa products</td>\n",
       "      <td>6</td>\n",
       "    </tr>\n",
       "    <tr>\n",
       "      <th>11</th>\n",
       "      <td>Coffee products</td>\n",
       "      <td>1</td>\n",
       "    </tr>\n",
       "    <tr>\n",
       "      <th>12</th>\n",
       "      <td>Condiments</td>\n",
       "      <td>4</td>\n",
       "    </tr>\n",
       "    <tr>\n",
       "      <th>13</th>\n",
       "      <td>Desserts</td>\n",
       "      <td>7</td>\n",
       "    </tr>\n",
       "    <tr>\n",
       "      <th>14</th>\n",
       "      <td>Distilled beverages</td>\n",
       "      <td>6</td>\n",
       "    </tr>\n",
       "    <tr>\n",
       "      <th>15</th>\n",
       "      <td>Doughs</td>\n",
       "      <td>2</td>\n",
       "    </tr>\n",
       "    <tr>\n",
       "      <th>16</th>\n",
       "      <td>Dressings</td>\n",
       "      <td>1</td>\n",
       "    </tr>\n",
       "    <tr>\n",
       "      <th>17</th>\n",
       "      <td>Fermented beverages</td>\n",
       "      <td>6</td>\n",
       "    </tr>\n",
       "    <tr>\n",
       "      <th>18</th>\n",
       "      <td>Fermented milk products</td>\n",
       "      <td>4</td>\n",
       "    </tr>\n",
       "    <tr>\n",
       "      <th>19</th>\n",
       "      <td>Fermented milks</td>\n",
       "      <td>3</td>\n",
       "    </tr>\n",
       "    <tr>\n",
       "      <th>20</th>\n",
       "      <td>Fish products</td>\n",
       "      <td>1</td>\n",
       "    </tr>\n",
       "    <tr>\n",
       "      <th>21</th>\n",
       "      <td>Flat breads</td>\n",
       "      <td>6</td>\n",
       "    </tr>\n",
       "    <tr>\n",
       "      <th>22</th>\n",
       "      <td>Fortified wines</td>\n",
       "      <td>5</td>\n",
       "    </tr>\n",
       "    <tr>\n",
       "      <th>23</th>\n",
       "      <td>Frozen desserts</td>\n",
       "      <td>4</td>\n",
       "    </tr>\n",
       "    <tr>\n",
       "      <th>24</th>\n",
       "      <td>Fruit products</td>\n",
       "      <td>3</td>\n",
       "    </tr>\n",
       "    <tr>\n",
       "      <th>25</th>\n",
       "      <td>Gourds</td>\n",
       "      <td>1</td>\n",
       "    </tr>\n",
       "    <tr>\n",
       "      <th>26</th>\n",
       "      <td>Ground meat</td>\n",
       "      <td>5</td>\n",
       "    </tr>\n",
       "    <tr>\n",
       "      <th>27</th>\n",
       "      <td>Herb and spice mixtures</td>\n",
       "      <td>1</td>\n",
       "    </tr>\n",
       "    <tr>\n",
       "      <th>28</th>\n",
       "      <td>Jewish cuisine</td>\n",
       "      <td>1</td>\n",
       "    </tr>\n",
       "    <tr>\n",
       "      <th>29</th>\n",
       "      <td>Latin American cuisine</td>\n",
       "      <td>4</td>\n",
       "    </tr>\n",
       "    <tr>\n",
       "      <th>...</th>\n",
       "      <td>...</td>\n",
       "      <td>...</td>\n",
       "    </tr>\n",
       "    <tr>\n",
       "      <th>33</th>\n",
       "      <td>Mexican cuisine</td>\n",
       "      <td>4</td>\n",
       "    </tr>\n",
       "    <tr>\n",
       "      <th>34</th>\n",
       "      <td>Milk desserts</td>\n",
       "      <td>2</td>\n",
       "    </tr>\n",
       "    <tr>\n",
       "      <th>35</th>\n",
       "      <td>Nutritional beverages</td>\n",
       "      <td>2</td>\n",
       "    </tr>\n",
       "    <tr>\n",
       "      <th>36</th>\n",
       "      <td>Nuts</td>\n",
       "      <td>1</td>\n",
       "    </tr>\n",
       "    <tr>\n",
       "      <th>37</th>\n",
       "      <td>Oilseed crops</td>\n",
       "      <td>1</td>\n",
       "    </tr>\n",
       "    <tr>\n",
       "      <th>38</th>\n",
       "      <td>Other aquatic foods</td>\n",
       "      <td>1</td>\n",
       "    </tr>\n",
       "    <tr>\n",
       "      <th>39</th>\n",
       "      <td>Other beverages</td>\n",
       "      <td>6</td>\n",
       "    </tr>\n",
       "    <tr>\n",
       "      <th>40</th>\n",
       "      <td>Other breads</td>\n",
       "      <td>2</td>\n",
       "    </tr>\n",
       "    <tr>\n",
       "      <th>41</th>\n",
       "      <td>Other confectioneries</td>\n",
       "      <td>6</td>\n",
       "    </tr>\n",
       "    <tr>\n",
       "      <th>42</th>\n",
       "      <td>Other dishes</td>\n",
       "      <td>13</td>\n",
       "    </tr>\n",
       "    <tr>\n",
       "      <th>43</th>\n",
       "      <td>Other milk products</td>\n",
       "      <td>8</td>\n",
       "    </tr>\n",
       "    <tr>\n",
       "      <th>44</th>\n",
       "      <td>Pasta dishes</td>\n",
       "      <td>4</td>\n",
       "    </tr>\n",
       "    <tr>\n",
       "      <th>45</th>\n",
       "      <td>Potato dishes</td>\n",
       "      <td>3</td>\n",
       "    </tr>\n",
       "    <tr>\n",
       "      <th>46</th>\n",
       "      <td>Roe</td>\n",
       "      <td>1</td>\n",
       "    </tr>\n",
       "    <tr>\n",
       "      <th>47</th>\n",
       "      <td>Sandwiches</td>\n",
       "      <td>6</td>\n",
       "    </tr>\n",
       "    <tr>\n",
       "      <th>48</th>\n",
       "      <td>Sauces</td>\n",
       "      <td>1</td>\n",
       "    </tr>\n",
       "    <tr>\n",
       "      <th>49</th>\n",
       "      <td>Seasonings</td>\n",
       "      <td>3</td>\n",
       "    </tr>\n",
       "    <tr>\n",
       "      <th>50</th>\n",
       "      <td>Snack foods</td>\n",
       "      <td>8</td>\n",
       "    </tr>\n",
       "    <tr>\n",
       "      <th>51</th>\n",
       "      <td>Soy products</td>\n",
       "      <td>8</td>\n",
       "    </tr>\n",
       "    <tr>\n",
       "      <th>52</th>\n",
       "      <td>Spreads</td>\n",
       "      <td>2</td>\n",
       "    </tr>\n",
       "    <tr>\n",
       "      <th>53</th>\n",
       "      <td>Substitutes</td>\n",
       "      <td>6</td>\n",
       "    </tr>\n",
       "    <tr>\n",
       "      <th>54</th>\n",
       "      <td>Sugars</td>\n",
       "      <td>1</td>\n",
       "    </tr>\n",
       "    <tr>\n",
       "      <th>55</th>\n",
       "      <td>Sweet breads</td>\n",
       "      <td>1</td>\n",
       "    </tr>\n",
       "    <tr>\n",
       "      <th>56</th>\n",
       "      <td>Tex-Mex cuisine</td>\n",
       "      <td>4</td>\n",
       "    </tr>\n",
       "    <tr>\n",
       "      <th>57</th>\n",
       "      <td>Unclassified</td>\n",
       "      <td>1</td>\n",
       "    </tr>\n",
       "    <tr>\n",
       "      <th>58</th>\n",
       "      <td>Unfermented milks</td>\n",
       "      <td>7</td>\n",
       "    </tr>\n",
       "    <tr>\n",
       "      <th>59</th>\n",
       "      <td>Vegetable fats</td>\n",
       "      <td>3</td>\n",
       "    </tr>\n",
       "    <tr>\n",
       "      <th>60</th>\n",
       "      <td>Vegetable products</td>\n",
       "      <td>1</td>\n",
       "    </tr>\n",
       "    <tr>\n",
       "      <th>61</th>\n",
       "      <td>Waters</td>\n",
       "      <td>1</td>\n",
       "    </tr>\n",
       "    <tr>\n",
       "      <th>62</th>\n",
       "      <td>Wrappers</td>\n",
       "      <td>4</td>\n",
       "    </tr>\n",
       "  </tbody>\n",
       "</table>\n",
       "<p>63 rows × 2 columns</p>\n",
       "</div>"
      ],
      "text/plain": [
       "              food_subgroup  subgroup\n",
       "0       Alcoholic beverages         2\n",
       "1          American cuisine         3\n",
       "2               Animal fats         4\n",
       "3             Asian cuisine         2\n",
       "4                Baby foods         1\n",
       "5              Baking goods        13\n",
       "6            Berber cuisine         1\n",
       "7            Bread products         1\n",
       "8                   Candies         8\n",
       "9           Cereal products         8\n",
       "10           Cocoa products         6\n",
       "11          Coffee products         1\n",
       "12               Condiments         4\n",
       "13                 Desserts         7\n",
       "14      Distilled beverages         6\n",
       "15                   Doughs         2\n",
       "16                Dressings         1\n",
       "17      Fermented beverages         6\n",
       "18  Fermented milk products         4\n",
       "19          Fermented milks         3\n",
       "20            Fish products         1\n",
       "21              Flat breads         6\n",
       "22          Fortified wines         5\n",
       "23          Frozen desserts         4\n",
       "24           Fruit products         3\n",
       "25                   Gourds         1\n",
       "26              Ground meat         5\n",
       "27  Herb and spice mixtures         1\n",
       "28           Jewish cuisine         1\n",
       "29   Latin American cuisine         4\n",
       "..                      ...       ...\n",
       "33          Mexican cuisine         4\n",
       "34            Milk desserts         2\n",
       "35    Nutritional beverages         2\n",
       "36                     Nuts         1\n",
       "37            Oilseed crops         1\n",
       "38      Other aquatic foods         1\n",
       "39          Other beverages         6\n",
       "40             Other breads         2\n",
       "41    Other confectioneries         6\n",
       "42             Other dishes        13\n",
       "43      Other milk products         8\n",
       "44             Pasta dishes         4\n",
       "45            Potato dishes         3\n",
       "46                      Roe         1\n",
       "47               Sandwiches         6\n",
       "48                   Sauces         1\n",
       "49               Seasonings         3\n",
       "50              Snack foods         8\n",
       "51             Soy products         8\n",
       "52                  Spreads         2\n",
       "53              Substitutes         6\n",
       "54                   Sugars         1\n",
       "55             Sweet breads         1\n",
       "56          Tex-Mex cuisine         4\n",
       "57             Unclassified         1\n",
       "58        Unfermented milks         7\n",
       "59           Vegetable fats         3\n",
       "60       Vegetable products         1\n",
       "61                   Waters         1\n",
       "62                 Wrappers         4\n",
       "\n",
       "[63 rows x 2 columns]"
      ]
     },
     "execution_count": 30,
     "metadata": {},
     "output_type": "execute_result"
    }
   ],
   "source": [
    "pd.read_sql_query('''SELECT f.food_subgroup, \n",
    "                        COUNT(f.food_subgroup) subgroup\n",
    "                        FROM foods f\n",
    "                        WHERE f.food_type == 'Type 2'\n",
    "                        GROUP BY f.food_subgroup\n",
    "                    ;''', engine)"
   ]
  },
  {
   "cell_type": "markdown",
   "metadata": {},
   "source": [
    "### Type 1 looks like unprocessed or unprepared foods. Type 2 foods are processed or prepared."
   ]
  },
  {
   "cell_type": "code",
   "execution_count": 51,
   "metadata": {},
   "outputs": [],
   "source": [
    "#foods[foods['food_subgroup'] == 'Marsupials']\n"
   ]
  },
  {
   "cell_type": "code",
   "execution_count": null,
   "metadata": {},
   "outputs": [],
   "source": [
    "#to drop: id 694 (subgroup Unclassified)\n",
    "#id 685 (subgroup waters)"
   ]
  },
  {
   "cell_type": "markdown",
   "metadata": {},
   "source": [
    "### Investigating NCBI Taxonomy ID"
   ]
  },
  {
   "cell_type": "code",
   "execution_count": 60,
   "metadata": {
    "scrolled": true
   },
   "outputs": [
    {
     "data": {
      "text/plain": [
       "0"
      ]
     },
     "execution_count": 60,
     "metadata": {},
     "output_type": "execute_result"
    }
   ],
   "source": [
    "#Says no NA values but I see some in the head\n",
    "foods['ncbi_taxonomy_id'].isna().sum()"
   ]
  },
  {
   "cell_type": "code",
   "execution_count": 72,
   "metadata": {
    "scrolled": true
   },
   "outputs": [
    {
     "data": {
      "text/plain": [
       "           276\n",
       "4072         6\n",
       "3885         3\n",
       "13427        3\n",
       "135518       2\n",
       "41679        2\n",
       "4682         2\n",
       "183260       2\n",
       "190544       2\n",
       "4679         2\n",
       "3661         2\n",
       "138011       2\n",
       "37656        2\n",
       "3714         2\n",
       "16718        1\n",
       "357850       1\n",
       "34256        1\n",
       "8113         1\n",
       "66014        1\n",
       "888065       1\n",
       "9031         1\n",
       "59166        1\n",
       "37796        1\n",
       "6565         1\n",
       "9721         1\n",
       "7797         1\n",
       "167592       1\n",
       "109171       1\n",
       "2763         1\n",
       "225387       1\n",
       "          ... \n",
       "49390        1\n",
       "33637        1\n",
       "195615       1\n",
       "397755       1\n",
       "36066        1\n",
       "8112         1\n",
       "106975       1\n",
       "36181        1\n",
       "42229        1\n",
       "9103         1\n",
       "4071         1\n",
       "334483       1\n",
       "4558         1\n",
       "32219        1\n",
       "6763         1\n",
       "29780        1\n",
       "1042646      1\n",
       "4039         1\n",
       "119950       1\n",
       "7935         1\n",
       "8017         1\n",
       "3891         1\n",
       "13493        1\n",
       "30850        1\n",
       "485725       1\n",
       "103480       1\n",
       "24663        1\n",
       "403101       1\n",
       "4681         1\n",
       "66656        1\n",
       "Name: ncbi_taxonomy_id, Length: 613, dtype: int64"
      ]
     },
     "execution_count": 72,
     "metadata": {},
     "output_type": "execute_result"
    }
   ],
   "source": [
    "foods['ncbi_taxonomy_id'].value_counts()b"
   ]
  },
  {
   "cell_type": "code",
   "execution_count": 57,
   "metadata": {
    "scrolled": true
   },
   "outputs": [
    {
     "data": {
      "text/html": [
       "<div>\n",
       "<style scoped>\n",
       "    .dataframe tbody tr th:only-of-type {\n",
       "        vertical-align: middle;\n",
       "    }\n",
       "\n",
       "    .dataframe tbody tr th {\n",
       "        vertical-align: top;\n",
       "    }\n",
       "\n",
       "    .dataframe thead th {\n",
       "        text-align: right;\n",
       "    }\n",
       "</style>\n",
       "<table border=\"1\" class=\"dataframe\">\n",
       "  <thead>\n",
       "    <tr style=\"text-align: right;\">\n",
       "      <th></th>\n",
       "      <th>id</th>\n",
       "      <th>name</th>\n",
       "      <th>name_scientific</th>\n",
       "      <th>description</th>\n",
       "      <th>itis_id</th>\n",
       "      <th>wikipedia_id</th>\n",
       "      <th>wikipedia_id_img</th>\n",
       "      <th>picture_content_type</th>\n",
       "      <th>picture_file_size</th>\n",
       "      <th>picture_updated_at</th>\n",
       "      <th>...</th>\n",
       "      <th>food_subgroup</th>\n",
       "      <th>food_type</th>\n",
       "      <th>created_at</th>\n",
       "      <th>updated_at</th>\n",
       "      <th>creator_id</th>\n",
       "      <th>updater_id</th>\n",
       "      <th>export_to_afcdb</th>\n",
       "      <th>category</th>\n",
       "      <th>ncbi_taxonomy_id</th>\n",
       "      <th>export_to_foodb</th>\n",
       "    </tr>\n",
       "  </thead>\n",
       "  <tbody>\n",
       "    <tr>\n",
       "      <th>39</th>\n",
       "      <td>40</td>\n",
       "      <td>Pepper (C. annuum)</td>\n",
       "      <td>Capsicum annuum</td>\n",
       "      <td>&lt;i&gt;Capsicum annuum&lt;/i&gt; is a domesticated speci...</td>\n",
       "      <td>30492</td>\n",
       "      <td>Capsicum_annuum</td>\n",
       "      <td>40.jpg</td>\n",
       "      <td>image/jpeg</td>\n",
       "      <td>45222</td>\n",
       "      <td>2012-04-20 09:37:27 UTC</td>\n",
       "      <td>...</td>\n",
       "      <td>Fruit vegetables</td>\n",
       "      <td>Type 1</td>\n",
       "      <td>2011-02-09 00:37:17 UTC</td>\n",
       "      <td>2017-03-20 21:26:23 UTC</td>\n",
       "      <td></td>\n",
       "      <td>2</td>\n",
       "      <td>FALSE</td>\n",
       "      <td>specific</td>\n",
       "      <td>4072</td>\n",
       "      <td>TRUE</td>\n",
       "    </tr>\n",
       "    <tr>\n",
       "      <th>891</th>\n",
       "      <td>909</td>\n",
       "      <td>Green bell pepper</td>\n",
       "      <td>Capsicum annuum</td>\n",
       "      <td>Green bell peppers are members of the domestic...</td>\n",
       "      <td>30492</td>\n",
       "      <td>Capsicum_annuum</td>\n",
       "      <td>428px-Green-Bell-Pepper.jpg</td>\n",
       "      <td>image/jpeg</td>\n",
       "      <td>26784</td>\n",
       "      <td>2015-02-26 18:37:27 UTC</td>\n",
       "      <td>...</td>\n",
       "      <td>Fruit vegetables</td>\n",
       "      <td>Type 1</td>\n",
       "      <td>2015-02-26 18:37:27 UTC</td>\n",
       "      <td>2017-03-20 21:26:33 UTC</td>\n",
       "      <td></td>\n",
       "      <td></td>\n",
       "      <td>TRUE</td>\n",
       "      <td>specific</td>\n",
       "      <td>4072</td>\n",
       "      <td>TRUE</td>\n",
       "    </tr>\n",
       "    <tr>\n",
       "      <th>892</th>\n",
       "      <td>910</td>\n",
       "      <td>Yellow bell pepper</td>\n",
       "      <td>Capsicum annuum</td>\n",
       "      <td>Yellow bell peppers are members of the domesti...</td>\n",
       "      <td>30492</td>\n",
       "      <td>Capsicum_annuum</td>\n",
       "      <td>bell_pepper_yellow_2.png</td>\n",
       "      <td>image/png</td>\n",
       "      <td>25165</td>\n",
       "      <td>2015-02-26 18:42:45 UTC</td>\n",
       "      <td>...</td>\n",
       "      <td>Fruit vegetables</td>\n",
       "      <td>Type 1</td>\n",
       "      <td>2015-02-26 18:42:45 UTC</td>\n",
       "      <td>2017-03-20 21:26:34 UTC</td>\n",
       "      <td></td>\n",
       "      <td></td>\n",
       "      <td>TRUE</td>\n",
       "      <td>specific</td>\n",
       "      <td>4072</td>\n",
       "      <td>TRUE</td>\n",
       "    </tr>\n",
       "    <tr>\n",
       "      <th>893</th>\n",
       "      <td>911</td>\n",
       "      <td>Orange bell pepper</td>\n",
       "      <td>Capsicum annuum</td>\n",
       "      <td>Orange bell peppers are members of the domesti...</td>\n",
       "      <td>30492</td>\n",
       "      <td>Capsicum_annuum</td>\n",
       "      <td>orange-bell-pepper-02.jpg</td>\n",
       "      <td>image/jpeg</td>\n",
       "      <td>6881</td>\n",
       "      <td>2015-02-26 18:44:18 UTC</td>\n",
       "      <td>...</td>\n",
       "      <td>Fruit vegetables</td>\n",
       "      <td>Type 1</td>\n",
       "      <td>2015-02-26 18:44:18 UTC</td>\n",
       "      <td>2017-03-20 21:26:34 UTC</td>\n",
       "      <td></td>\n",
       "      <td></td>\n",
       "      <td>TRUE</td>\n",
       "      <td>specific</td>\n",
       "      <td>4072</td>\n",
       "      <td>TRUE</td>\n",
       "    </tr>\n",
       "    <tr>\n",
       "      <th>894</th>\n",
       "      <td>912</td>\n",
       "      <td>Red bell pepper</td>\n",
       "      <td>Capsicum annuum</td>\n",
       "      <td>Red bell peppers are members of the domesticat...</td>\n",
       "      <td>30492</td>\n",
       "      <td>Capsicum_annuum</td>\n",
       "      <td>red-bell-pepper.jpg</td>\n",
       "      <td>image/jpeg</td>\n",
       "      <td>76376</td>\n",
       "      <td>2015-02-26 18:47:15 UTC</td>\n",
       "      <td>...</td>\n",
       "      <td>Fruit vegetables</td>\n",
       "      <td>Type 1</td>\n",
       "      <td>2015-02-26 18:47:16 UTC</td>\n",
       "      <td>2017-03-20 21:26:34 UTC</td>\n",
       "      <td></td>\n",
       "      <td></td>\n",
       "      <td>TRUE</td>\n",
       "      <td>specific</td>\n",
       "      <td>4072</td>\n",
       "      <td>TRUE</td>\n",
       "    </tr>\n",
       "    <tr>\n",
       "      <th>895</th>\n",
       "      <td>913</td>\n",
       "      <td>Italian sweet red pepper</td>\n",
       "      <td>Capsicum annuum</td>\n",
       "      <td>The Italian sweet pepper is a variety of the s...</td>\n",
       "      <td></td>\n",
       "      <td>Italian sweet pepper</td>\n",
       "      <td>939px-Italian_sweet_peppers.jpg</td>\n",
       "      <td>image/jpeg</td>\n",
       "      <td>124244</td>\n",
       "      <td>2015-02-26 18:54:22 UTC</td>\n",
       "      <td>...</td>\n",
       "      <td>Fruit vegetables</td>\n",
       "      <td>Type 1</td>\n",
       "      <td>2015-02-26 18:54:23 UTC</td>\n",
       "      <td>2017-03-20 21:26:34 UTC</td>\n",
       "      <td></td>\n",
       "      <td></td>\n",
       "      <td>TRUE</td>\n",
       "      <td>specific</td>\n",
       "      <td>4072</td>\n",
       "      <td>TRUE</td>\n",
       "    </tr>\n",
       "  </tbody>\n",
       "</table>\n",
       "<p>6 rows × 22 columns</p>\n",
       "</div>"
      ],
      "text/plain": [
       "      id                      name  name_scientific  \\\n",
       "39    40        Pepper (C. annuum)  Capsicum annuum   \n",
       "891  909         Green bell pepper  Capsicum annuum   \n",
       "892  910        Yellow bell pepper  Capsicum annuum   \n",
       "893  911        Orange bell pepper  Capsicum annuum   \n",
       "894  912           Red bell pepper  Capsicum annuum   \n",
       "895  913  Italian sweet red pepper  Capsicum annuum   \n",
       "\n",
       "                                           description itis_id  \\\n",
       "39   <i>Capsicum annuum</i> is a domesticated speci...   30492   \n",
       "891  Green bell peppers are members of the domestic...   30492   \n",
       "892  Yellow bell peppers are members of the domesti...   30492   \n",
       "893  Orange bell peppers are members of the domesti...   30492   \n",
       "894  Red bell peppers are members of the domesticat...   30492   \n",
       "895  The Italian sweet pepper is a variety of the s...           \n",
       "\n",
       "             wikipedia_id                 wikipedia_id_img  \\\n",
       "39        Capsicum_annuum                           40.jpg   \n",
       "891       Capsicum_annuum      428px-Green-Bell-Pepper.jpg   \n",
       "892       Capsicum_annuum         bell_pepper_yellow_2.png   \n",
       "893       Capsicum_annuum        orange-bell-pepper-02.jpg   \n",
       "894       Capsicum_annuum              red-bell-pepper.jpg   \n",
       "895  Italian sweet pepper  939px-Italian_sweet_peppers.jpg   \n",
       "\n",
       "    picture_content_type picture_file_size       picture_updated_at  \\\n",
       "39            image/jpeg             45222  2012-04-20 09:37:27 UTC   \n",
       "891           image/jpeg             26784  2015-02-26 18:37:27 UTC   \n",
       "892            image/png             25165  2015-02-26 18:42:45 UTC   \n",
       "893           image/jpeg              6881  2015-02-26 18:44:18 UTC   \n",
       "894           image/jpeg             76376  2015-02-26 18:47:15 UTC   \n",
       "895           image/jpeg            124244  2015-02-26 18:54:22 UTC   \n",
       "\n",
       "          ...           food_subgroup food_type               created_at  \\\n",
       "39        ...        Fruit vegetables    Type 1  2011-02-09 00:37:17 UTC   \n",
       "891       ...        Fruit vegetables    Type 1  2015-02-26 18:37:27 UTC   \n",
       "892       ...        Fruit vegetables    Type 1  2015-02-26 18:42:45 UTC   \n",
       "893       ...        Fruit vegetables    Type 1  2015-02-26 18:44:18 UTC   \n",
       "894       ...        Fruit vegetables    Type 1  2015-02-26 18:47:16 UTC   \n",
       "895       ...        Fruit vegetables    Type 1  2015-02-26 18:54:23 UTC   \n",
       "\n",
       "                  updated_at creator_id updater_id export_to_afcdb  category  \\\n",
       "39   2017-03-20 21:26:23 UTC                     2           FALSE  specific   \n",
       "891  2017-03-20 21:26:33 UTC                                  TRUE  specific   \n",
       "892  2017-03-20 21:26:34 UTC                                  TRUE  specific   \n",
       "893  2017-03-20 21:26:34 UTC                                  TRUE  specific   \n",
       "894  2017-03-20 21:26:34 UTC                                  TRUE  specific   \n",
       "895  2017-03-20 21:26:34 UTC                                  TRUE  specific   \n",
       "\n",
       "    ncbi_taxonomy_id export_to_foodb  \n",
       "39              4072            TRUE  \n",
       "891             4072            TRUE  \n",
       "892             4072            TRUE  \n",
       "893             4072            TRUE  \n",
       "894             4072            TRUE  \n",
       "895             4072            TRUE  \n",
       "\n",
       "[6 rows x 22 columns]"
      ]
     },
     "execution_count": 57,
     "metadata": {},
     "output_type": "execute_result"
    }
   ],
   "source": [
    "foods[foods['ncbi_taxonomy_id'] == '4072']"
   ]
  },
  {
   "cell_type": "markdown",
   "metadata": {},
   "source": [
    "### Some ncbis are repeated but all foods seem to have one."
   ]
  },
  {
   "cell_type": "markdown",
   "metadata": {},
   "source": [
    "### Investigating Category"
   ]
  },
  {
   "cell_type": "code",
   "execution_count": 74,
   "metadata": {},
   "outputs": [
    {
     "data": {
      "text/plain": [
       "specific    881\n",
       "generic      26\n",
       "Name: category, dtype: int64"
      ]
     },
     "execution_count": 74,
     "metadata": {},
     "output_type": "execute_result"
    }
   ],
   "source": [
    "foods['category'].value_counts()"
   ]
  },
  {
   "cell_type": "code",
   "execution_count": 100,
   "metadata": {},
   "outputs": [],
   "source": [
    "generics = list(foods['name'][foods['category'] == 'generic'])\n",
    "subgroups = list(set(foods['food_subgroup']))"
   ]
  },
  {
   "cell_type": "code",
   "execution_count": 106,
   "metadata": {
    "scrolled": true
   },
   "outputs": [
    {
     "data": {
      "text/plain": [
       "26"
      ]
     },
     "execution_count": 106,
     "metadata": {},
     "output_type": "execute_result"
    }
   ],
   "source": [
    "len(generics)"
   ]
  },
  {
   "cell_type": "code",
   "execution_count": 103,
   "metadata": {},
   "outputs": [],
   "source": [
    "generic_subgroups = []\n",
    "\n",
    "for sub in subgroups:\n",
    "    if any(generic in sub for generic in generics):\n",
    "        generic_subgroups.append(sub)"
   ]
  },
  {
   "cell_type": "code",
   "execution_count": 109,
   "metadata": {},
   "outputs": [
    {
     "data": {
      "text/plain": [
       "27"
      ]
     },
     "execution_count": 109,
     "metadata": {},
     "output_type": "execute_result"
    }
   ],
   "source": [
    "len(set(generic_subgroups))"
   ]
  },
  {
   "cell_type": "markdown",
   "metadata": {},
   "source": [
    "### The \"generic\" category is just 26 of the subgroups with a bit more information about each."
   ]
  },
  {
   "cell_type": "markdown",
   "metadata": {},
   "source": [
    "# Exploratory data analysis\n",
    "## Enzymes table"
   ]
  },
  {
   "cell_type": "code",
   "execution_count": 23,
   "metadata": {},
   "outputs": [
    {
     "name": "stdout",
     "output_type": "stream",
     "text": [
      "2019-03-15 12:48:57,422 INFO sqlalchemy.engine.base.Engine SELECT e.* \n",
      "                            FROM enzymes e\n",
      "                            ;\n"
     ]
    },
    {
     "name": "stderr",
     "output_type": "stream",
     "text": [
      "INFO:sqlalchemy.engine.base.Engine:SELECT e.* \n",
      "                            FROM enzymes e\n",
      "                            ;\n"
     ]
    },
    {
     "name": "stdout",
     "output_type": "stream",
     "text": [
      "2019-03-15 12:48:57,422 INFO sqlalchemy.engine.base.Engine ()\n"
     ]
    },
    {
     "name": "stderr",
     "output_type": "stream",
     "text": [
      "INFO:sqlalchemy.engine.base.Engine:()\n"
     ]
    }
   ],
   "source": [
    "enzymes = pd.read_sql_query('''SELECT e.* \n",
    "                            FROM enzymes e\n",
    "                            ;''', engine)"
   ]
  },
  {
   "cell_type": "code",
   "execution_count": 119,
   "metadata": {},
   "outputs": [
    {
     "data": {
      "text/plain": [
       "(1744, 32)"
      ]
     },
     "execution_count": 119,
     "metadata": {},
     "output_type": "execute_result"
    }
   ],
   "source": [
    "enzymes.shape"
   ]
  },
  {
   "cell_type": "code",
   "execution_count": 125,
   "metadata": {
    "scrolled": true
   },
   "outputs": [
    {
     "name": "stdout",
     "output_type": "stream",
     "text": [
      "<class 'pandas.core.frame.DataFrame'>\n",
      "RangeIndex: 1744 entries, 0 to 1743\n",
      "Data columns (total 32 columns):\n",
      "id                       1744 non-null object\n",
      "name                     1744 non-null object\n",
      "gene_name                1744 non-null object\n",
      "description              1744 non-null object\n",
      "go_classification        1744 non-null object\n",
      "general_function         1744 non-null object\n",
      "specific_function        1744 non-null object\n",
      "pathway                  1744 non-null object\n",
      "reaction                 1744 non-null object\n",
      "cellular_location        1744 non-null object\n",
      "signals                  1744 non-null object\n",
      "transmembrane_regions    1744 non-null object\n",
      "molecular_weight         1744 non-null object\n",
      "theoretical_pi           1744 non-null object\n",
      "locus                    1744 non-null object\n",
      "chromosome               1744 non-null object\n",
      "uniprot_name             1744 non-null object\n",
      "uniprot_id               1744 non-null object\n",
      "pdb_id                   1744 non-null object\n",
      "genbank_protein_id       1744 non-null object\n",
      "genbank_gene_id          1744 non-null object\n",
      "genecard_id              1744 non-null object\n",
      "genatlas_id              1744 non-null object\n",
      "hgnc_id                  1744 non-null object\n",
      "hprd_id                  1744 non-null object\n",
      "organism                 1744 non-null object\n",
      "general_citations        1744 non-null object\n",
      "comments                 1744 non-null object\n",
      "creator_id               1744 non-null object\n",
      "updater_id               1744 non-null object\n",
      "created_at               1744 non-null object\n",
      "updated_at               1744 non-null object\n",
      "dtypes: object(32)\n",
      "memory usage: 436.1+ KB\n"
     ]
    }
   ],
   "source": [
    "enzymes.info()"
   ]
  },
  {
   "cell_type": "code",
   "execution_count": 137,
   "metadata": {
    "scrolled": true
   },
   "outputs": [
    {
     "data": {
      "text/plain": [
       "(1744, 1744)"
      ]
     },
     "execution_count": 137,
     "metadata": {},
     "output_type": "execute_result"
    }
   ],
   "source": [
    "enzymes['name'].value_counts().sum(), enzymes['gene_name'].value_counts().sum()"
   ]
  },
  {
   "cell_type": "markdown",
   "metadata": {},
   "source": [
    "### 1744 unique names and gene names. Linked to compounds."
   ]
  },
  {
   "cell_type": "markdown",
   "metadata": {},
   "source": [
    "### How many null values?"
   ]
  },
  {
   "cell_type": "code",
   "execution_count": 112,
   "metadata": {
    "scrolled": false
   },
   "outputs": [
    {
     "data": {
      "text/html": [
       "<div>\n",
       "<style scoped>\n",
       "    .dataframe tbody tr th:only-of-type {\n",
       "        vertical-align: middle;\n",
       "    }\n",
       "\n",
       "    .dataframe tbody tr th {\n",
       "        vertical-align: top;\n",
       "    }\n",
       "\n",
       "    .dataframe thead th {\n",
       "        text-align: right;\n",
       "    }\n",
       "</style>\n",
       "<table border=\"1\" class=\"dataframe\">\n",
       "  <thead>\n",
       "    <tr style=\"text-align: right;\">\n",
       "      <th></th>\n",
       "      <th>id</th>\n",
       "      <th>name</th>\n",
       "      <th>gene_name</th>\n",
       "      <th>description</th>\n",
       "      <th>go_classification</th>\n",
       "      <th>general_function</th>\n",
       "      <th>specific_function</th>\n",
       "      <th>pathway</th>\n",
       "      <th>reaction</th>\n",
       "      <th>cellular_location</th>\n",
       "      <th>...</th>\n",
       "      <th>genatlas_id</th>\n",
       "      <th>hgnc_id</th>\n",
       "      <th>hprd_id</th>\n",
       "      <th>organism</th>\n",
       "      <th>general_citations</th>\n",
       "      <th>comments</th>\n",
       "      <th>creator_id</th>\n",
       "      <th>updater_id</th>\n",
       "      <th>created_at</th>\n",
       "      <th>updated_at</th>\n",
       "    </tr>\n",
       "  </thead>\n",
       "  <tbody>\n",
       "    <tr>\n",
       "      <th>0</th>\n",
       "      <td>1</td>\n",
       "      <td>UDP-glucuronosyltransferase 2B28</td>\n",
       "      <td>UGT2B28</td>\n",
       "      <td>NULL</td>\n",
       "      <td>NULL</td>\n",
       "      <td>NULL</td>\n",
       "      <td>NULL</td>\n",
       "      <td>NULL</td>\n",
       "      <td>NULL</td>\n",
       "      <td>NULL</td>\n",
       "      <td>...</td>\n",
       "      <td>NULL</td>\n",
       "      <td>NULL</td>\n",
       "      <td>NULL</td>\n",
       "      <td>NULL</td>\n",
       "      <td>NULL</td>\n",
       "      <td>NULL</td>\n",
       "      <td>NULL</td>\n",
       "      <td>NULL</td>\n",
       "      <td>2015-02-23 22:40:56</td>\n",
       "      <td>2015-02-23 22:40:56</td>\n",
       "    </tr>\n",
       "    <tr>\n",
       "      <th>1</th>\n",
       "      <td>2</td>\n",
       "      <td>Estrogen receptor beta</td>\n",
       "      <td>ESR2</td>\n",
       "      <td>NULL</td>\n",
       "      <td>NULL</td>\n",
       "      <td>NULL</td>\n",
       "      <td>NULL</td>\n",
       "      <td>NULL</td>\n",
       "      <td>NULL</td>\n",
       "      <td>NULL</td>\n",
       "      <td>...</td>\n",
       "      <td>NULL</td>\n",
       "      <td>NULL</td>\n",
       "      <td>NULL</td>\n",
       "      <td>NULL</td>\n",
       "      <td>NULL</td>\n",
       "      <td>NULL</td>\n",
       "      <td>NULL</td>\n",
       "      <td>NULL</td>\n",
       "      <td>2015-02-23 22:40:57</td>\n",
       "      <td>2015-02-23 22:40:57</td>\n",
       "    </tr>\n",
       "    <tr>\n",
       "      <th>2</th>\n",
       "      <td>3</td>\n",
       "      <td>UDP-glucuronosyltransferase 2B4</td>\n",
       "      <td>UGT2B4</td>\n",
       "      <td>NULL</td>\n",
       "      <td>NULL</td>\n",
       "      <td>NULL</td>\n",
       "      <td>NULL</td>\n",
       "      <td>NULL</td>\n",
       "      <td>NULL</td>\n",
       "      <td>NULL</td>\n",
       "      <td>...</td>\n",
       "      <td>NULL</td>\n",
       "      <td>NULL</td>\n",
       "      <td>NULL</td>\n",
       "      <td>NULL</td>\n",
       "      <td>NULL</td>\n",
       "      <td>NULL</td>\n",
       "      <td>NULL</td>\n",
       "      <td>NULL</td>\n",
       "      <td>2015-02-23 22:40:57</td>\n",
       "      <td>2015-02-23 22:40:57</td>\n",
       "    </tr>\n",
       "  </tbody>\n",
       "</table>\n",
       "<p>3 rows × 32 columns</p>\n",
       "</div>"
      ],
      "text/plain": [
       "  id                              name gene_name description  \\\n",
       "0  1  UDP-glucuronosyltransferase 2B28   UGT2B28        NULL   \n",
       "1  2            Estrogen receptor beta      ESR2        NULL   \n",
       "2  3   UDP-glucuronosyltransferase 2B4    UGT2B4        NULL   \n",
       "\n",
       "  go_classification general_function specific_function pathway reaction  \\\n",
       "0              NULL             NULL              NULL    NULL     NULL   \n",
       "1              NULL             NULL              NULL    NULL     NULL   \n",
       "2              NULL             NULL              NULL    NULL     NULL   \n",
       "\n",
       "  cellular_location         ...          genatlas_id hgnc_id hprd_id organism  \\\n",
       "0              NULL         ...                 NULL    NULL    NULL     NULL   \n",
       "1              NULL         ...                 NULL    NULL    NULL     NULL   \n",
       "2              NULL         ...                 NULL    NULL    NULL     NULL   \n",
       "\n",
       "  general_citations comments creator_id updater_id           created_at  \\\n",
       "0              NULL     NULL       NULL       NULL  2015-02-23 22:40:56   \n",
       "1              NULL     NULL       NULL       NULL  2015-02-23 22:40:57   \n",
       "2              NULL     NULL       NULL       NULL  2015-02-23 22:40:57   \n",
       "\n",
       "            updated_at  \n",
       "0  2015-02-23 22:40:56  \n",
       "1  2015-02-23 22:40:57  \n",
       "2  2015-02-23 22:40:57  \n",
       "\n",
       "[3 rows x 32 columns]"
      ]
     },
     "execution_count": 112,
     "metadata": {},
     "output_type": "execute_result"
    }
   ],
   "source": [
    "enzymes.head(3)"
   ]
  },
  {
   "cell_type": "code",
   "execution_count": 117,
   "metadata": {},
   "outputs": [],
   "source": [
    "null_enzyme_descriptions = enzymes['description'] == 'NULL'"
   ]
  },
  {
   "cell_type": "code",
   "execution_count": 118,
   "metadata": {},
   "outputs": [
    {
     "data": {
      "text/plain": [
       "1744"
      ]
     },
     "execution_count": 118,
     "metadata": {},
     "output_type": "execute_result"
    }
   ],
   "source": [
    "null_enzyme_descriptions.sum()"
   ]
  },
  {
   "cell_type": "code",
   "execution_count": 121,
   "metadata": {},
   "outputs": [
    {
     "data": {
      "text/plain": [
       "(1744, 32)"
      ]
     },
     "execution_count": 121,
     "metadata": {},
     "output_type": "execute_result"
    }
   ],
   "source": [
    "enzymes[enzymes['description'] == 'NULL'].shape"
   ]
  },
  {
   "cell_type": "code",
   "execution_count": 122,
   "metadata": {},
   "outputs": [
    {
     "data": {
      "text/plain": [
       "(1744, 32)"
      ]
     },
     "execution_count": 122,
     "metadata": {},
     "output_type": "execute_result"
    }
   ],
   "source": [
    "enzymes[enzymes['go_classification'] == 'NULL'].shape"
   ]
  },
  {
   "cell_type": "code",
   "execution_count": 123,
   "metadata": {},
   "outputs": [
    {
     "data": {
      "text/plain": [
       "(1744, 32)"
      ]
     },
     "execution_count": 123,
     "metadata": {},
     "output_type": "execute_result"
    }
   ],
   "source": [
    "enzymes[enzymes['general_function'] == 'NULL'].shape"
   ]
  },
  {
   "cell_type": "code",
   "execution_count": 124,
   "metadata": {},
   "outputs": [
    {
     "data": {
      "text/plain": [
       "(1744, 32)"
      ]
     },
     "execution_count": 124,
     "metadata": {},
     "output_type": "execute_result"
    }
   ],
   "source": [
    "enzymes[enzymes['specific_function'] == 'NULL'].shape"
   ]
  },
  {
   "cell_type": "code",
   "execution_count": 131,
   "metadata": {
    "scrolled": false
   },
   "outputs": [
    {
     "name": "stdout",
     "output_type": "stream",
     "text": [
      "id 0\n",
      "name 0\n",
      "gene_name 0\n",
      "description 1744\n",
      "go_classification 1744\n",
      "general_function 1744\n",
      "specific_function 1744\n",
      "pathway 1744\n",
      "reaction 1744\n",
      "cellular_location 1744\n",
      "signals 1744\n",
      "transmembrane_regions 1744\n",
      "molecular_weight 1744\n",
      "theoretical_pi 1744\n",
      "locus 1744\n",
      "chromosome 1744\n",
      "uniprot_name 1744\n",
      "uniprot_id 0\n",
      "pdb_id 1744\n",
      "genbank_protein_id 1744\n",
      "genbank_gene_id 1744\n",
      "genecard_id 1744\n",
      "genatlas_id 1744\n",
      "hgnc_id 1744\n",
      "hprd_id 1744\n",
      "organism 1744\n",
      "general_citations 1744\n",
      "comments 1744\n",
      "creator_id 1744\n",
      "updater_id 1744\n",
      "created_at 0\n",
      "updated_at 0\n"
     ]
    }
   ],
   "source": [
    "for column in enzymes.columns:\n",
    "    print(column, enzymes[enzymes[column] == 'NULL'].shape[0])"
   ]
  },
  {
   "cell_type": "markdown",
   "metadata": {},
   "source": [
    "### Drop all columns except id, name, and gene_name."
   ]
  },
  {
   "cell_type": "code",
   "execution_count": 136,
   "metadata": {},
   "outputs": [
    {
     "data": {
      "text/plain": [
       "1744"
      ]
     },
     "execution_count": 136,
     "metadata": {},
     "output_type": "execute_result"
    }
   ],
   "source": [
    "enzymes['gene_name'].value_counts().sum()"
   ]
  },
  {
   "cell_type": "code",
   "execution_count": null,
   "metadata": {},
   "outputs": [],
   "source": []
  },
  {
   "cell_type": "markdown",
   "metadata": {},
   "source": [
    "# Exploratory data analysis\n",
    "## flavors table"
   ]
  },
  {
   "cell_type": "code",
   "execution_count": 139,
   "metadata": {},
   "outputs": [
    {
     "name": "stdout",
     "output_type": "stream",
     "text": [
      "2019-03-12 20:53:19,169 INFO sqlalchemy.engine.base.Engine SELECT fl.* \n",
      "                            FROM flavors fl\n",
      "                            ;\n",
      "2019-03-12 20:53:19,170 INFO sqlalchemy.engine.base.Engine ()\n"
     ]
    }
   ],
   "source": [
    "flavors = pd.read_sql_query('''SELECT fl.* \n",
    "                            FROM flavors fl\n",
    "                            ;''', engine)"
   ]
  },
  {
   "cell_type": "code",
   "execution_count": 146,
   "metadata": {},
   "outputs": [
    {
     "data": {
      "text/html": [
       "<div>\n",
       "<style scoped>\n",
       "    .dataframe tbody tr th:only-of-type {\n",
       "        vertical-align: middle;\n",
       "    }\n",
       "\n",
       "    .dataframe tbody tr th {\n",
       "        vertical-align: top;\n",
       "    }\n",
       "\n",
       "    .dataframe thead th {\n",
       "        text-align: right;\n",
       "    }\n",
       "</style>\n",
       "<table border=\"1\" class=\"dataframe\">\n",
       "  <thead>\n",
       "    <tr style=\"text-align: right;\">\n",
       "      <th></th>\n",
       "      <th>id</th>\n",
       "      <th>name</th>\n",
       "      <th>flavor_group</th>\n",
       "      <th>category</th>\n",
       "      <th>created_at</th>\n",
       "      <th>updated_at</th>\n",
       "      <th>creator_id</th>\n",
       "      <th>updater_id</th>\n",
       "    </tr>\n",
       "  </thead>\n",
       "  <tbody>\n",
       "    <tr>\n",
       "      <th>0</th>\n",
       "      <td>1</td>\n",
       "      <td>celery</td>\n",
       "      <td>vegetable</td>\n",
       "      <td>odor</td>\n",
       "      <td>2011-10-02 06:10:04</td>\n",
       "      <td>2011-10-02 06:10:04</td>\n",
       "      <td>NULL</td>\n",
       "      <td>NULL</td>\n",
       "    </tr>\n",
       "    <tr>\n",
       "      <th>1</th>\n",
       "      <td>2</td>\n",
       "      <td>corn</td>\n",
       "      <td>vegetable</td>\n",
       "      <td>odor</td>\n",
       "      <td>2011-10-02 06:10:04</td>\n",
       "      <td>2011-10-02 06:10:04</td>\n",
       "      <td>NULL</td>\n",
       "      <td>NULL</td>\n",
       "    </tr>\n",
       "    <tr>\n",
       "      <th>2</th>\n",
       "      <td>3</td>\n",
       "      <td>cucumber</td>\n",
       "      <td>vegetable</td>\n",
       "      <td>odor</td>\n",
       "      <td>2011-10-02 06:10:04</td>\n",
       "      <td>2011-10-02 06:10:04</td>\n",
       "      <td>NULL</td>\n",
       "      <td>NULL</td>\n",
       "    </tr>\n",
       "    <tr>\n",
       "      <th>3</th>\n",
       "      <td>4</td>\n",
       "      <td>horseradish</td>\n",
       "      <td>vegetable</td>\n",
       "      <td>odor</td>\n",
       "      <td>2011-10-02 06:10:05</td>\n",
       "      <td>2011-10-02 06:10:05</td>\n",
       "      <td>NULL</td>\n",
       "      <td>NULL</td>\n",
       "    </tr>\n",
       "    <tr>\n",
       "      <th>4</th>\n",
       "      <td>5</td>\n",
       "      <td>vegetable</td>\n",
       "      <td>vegetable</td>\n",
       "      <td>odor</td>\n",
       "      <td>2011-10-02 06:10:05</td>\n",
       "      <td>2011-10-02 06:10:05</td>\n",
       "      <td>NULL</td>\n",
       "      <td>NULL</td>\n",
       "    </tr>\n",
       "  </tbody>\n",
       "</table>\n",
       "</div>"
      ],
      "text/plain": [
       "  id         name flavor_group category           created_at  \\\n",
       "0  1       celery    vegetable     odor  2011-10-02 06:10:04   \n",
       "1  2         corn    vegetable     odor  2011-10-02 06:10:04   \n",
       "2  3     cucumber    vegetable     odor  2011-10-02 06:10:04   \n",
       "3  4  horseradish    vegetable     odor  2011-10-02 06:10:05   \n",
       "4  5    vegetable    vegetable     odor  2011-10-02 06:10:05   \n",
       "\n",
       "            updated_at creator_id updater_id  \n",
       "0  2011-10-02 06:10:04       NULL       NULL  \n",
       "1  2011-10-02 06:10:04       NULL       NULL  \n",
       "2  2011-10-02 06:10:04       NULL       NULL  \n",
       "3  2011-10-02 06:10:05       NULL       NULL  \n",
       "4  2011-10-02 06:10:05       NULL       NULL  "
      ]
     },
     "execution_count": 146,
     "metadata": {},
     "output_type": "execute_result"
    }
   ],
   "source": [
    "flavors.head()"
   ]
  },
  {
   "cell_type": "code",
   "execution_count": 150,
   "metadata": {},
   "outputs": [
    {
     "data": {
      "text/plain": [
       "citral                         1\n",
       "fungal                         1\n",
       "dill                           1\n",
       "clean                          1\n",
       "paint                          1\n",
       "maple syrup                    1\n",
       "coriander                      1\n",
       "prune                          1\n",
       "heliotropin                    1\n",
       "flower shop                    1\n",
       "laundered cloths               1\n",
       "cardamom                       1\n",
       "green leaf                     1\n",
       "paper                          1\n",
       "burnt almonds                  1\n",
       "laundry                        1\n",
       "fecal                          1\n",
       "waxy                           1\n",
       "bark                           1\n",
       "peppery                        1\n",
       "cayloxol                       1\n",
       "benzyl propionate              1\n",
       "lemongrass                     1\n",
       "linseed                        1\n",
       "syrup                          1\n",
       "cereal                         1\n",
       "apple skin                     1\n",
       "mild cooling                   1\n",
       "pistachio                      1\n",
       "freshly bruised sage leaves    1\n",
       "                              ..\n",
       "clove                          1\n",
       "beer                           1\n",
       "ground                         1\n",
       "soil                           1\n",
       "cabbage                        1\n",
       "feta cheese                    1\n",
       "egg                            1\n",
       "lime blossom                   1\n",
       "citric                         1\n",
       "jam                            1\n",
       "feet                           1\n",
       "smoky                          1\n",
       "red hots                       1\n",
       "iodine                         1\n",
       "fennel                         1\n",
       "rosy                           1\n",
       "boiled beef                    1\n",
       "clover                         1\n",
       "rotten                         1\n",
       "hawthorn                       1\n",
       "orange blossom                 1\n",
       "clary                          1\n",
       "cauliflower                    1\n",
       "casky                          1\n",
       "metal                          1\n",
       "violet-leaf                    1\n",
       "cherry                         1\n",
       "cardboard                      1\n",
       "dried berry                    1\n",
       "curry                          1\n",
       "Name: name, Length: 856, dtype: int64"
      ]
     },
     "execution_count": 150,
     "metadata": {},
     "output_type": "execute_result"
    }
   ],
   "source": [
    "flavors['name'].value_counts()"
   ]
  },
  {
   "cell_type": "code",
   "execution_count": 151,
   "metadata": {},
   "outputs": [
    {
     "data": {
      "text/plain": [
       "NULL             743\n",
       "fruity            24\n",
       "floral            14\n",
       "balsamic          10\n",
       "vegetable          8\n",
       "fatty              7\n",
       "wine_like          5\n",
       "herbaceous         5\n",
       "citrus             5\n",
       "nutty              5\n",
       "woody              4\n",
       "chemical           3\n",
       "meaty              3\n",
       "green              3\n",
       "earthy             3\n",
       "spicy              2\n",
       "musky              1\n",
       "tobacco            1\n",
       "smoky              1\n",
       "minty              1\n",
       "medicinal          1\n",
       "camphoraceous      1\n",
       "mossy              1\n",
       "fishy              1\n",
       "pepper             1\n",
       "seedy              1\n",
       "animal             1\n",
       "soapy              1\n",
       "Name: flavor_group, dtype: int64"
      ]
     },
     "execution_count": 151,
     "metadata": {},
     "output_type": "execute_result"
    }
   ],
   "source": [
    "flavors['flavor_group'].value_counts()"
   ]
  },
  {
   "cell_type": "code",
   "execution_count": 153,
   "metadata": {},
   "outputs": [
    {
     "data": {
      "text/plain": [
       "odor    856\n",
       "Name: category, dtype: int64"
      ]
     },
     "execution_count": 153,
     "metadata": {},
     "output_type": "execute_result"
    }
   ],
   "source": [
    "flavors['category'].value_counts()"
   ]
  },
  {
   "cell_type": "code",
   "execution_count": 156,
   "metadata": {},
   "outputs": [
    {
     "data": {
      "text/plain": [
       "['compound_alternate_parents',\n",
       " 'compound_external_descriptors',\n",
       " 'compound_substituents',\n",
       " 'compound_synonyms',\n",
       " 'compounds',\n",
       " 'compounds_enzymes',\n",
       " 'compounds_flavors',\n",
       " 'compounds_health_effects',\n",
       " 'compounds_pathways',\n",
       " 'enzymes',\n",
       " 'flavors',\n",
       " 'food_taxonomies',\n",
       " 'foodcomex_compound_providers',\n",
       " 'foodcomex_compounds',\n",
       " 'foods',\n",
       " 'health_effects',\n",
       " 'nutrients',\n",
       " 'pathways',\n",
       " 'references']"
      ]
     },
     "execution_count": 156,
     "metadata": {},
     "output_type": "execute_result"
    }
   ],
   "source": [
    "table_names"
   ]
  },
  {
   "cell_type": "markdown",
   "metadata": {},
   "source": [
    "### Drop all columns except id, name, and flavor_group\n",
    "### Will have to see later how compounds are connected to these descriptions of flavor. Disappointed that there are 856 unique descriptors ('name') and very few useful flavor_group designations."
   ]
  },
  {
   "cell_type": "code",
   "execution_count": null,
   "metadata": {},
   "outputs": [],
   "source": []
  },
  {
   "cell_type": "code",
   "execution_count": null,
   "metadata": {},
   "outputs": [],
   "source": []
  },
  {
   "cell_type": "code",
   "execution_count": null,
   "metadata": {},
   "outputs": [],
   "source": []
  },
  {
   "cell_type": "markdown",
   "metadata": {},
   "source": [
    "# Exploratory Data Analysis\n",
    "## Health effects table"
   ]
  },
  {
   "cell_type": "code",
   "execution_count": 157,
   "metadata": {},
   "outputs": [
    {
     "name": "stdout",
     "output_type": "stream",
     "text": [
      "2019-03-12 21:02:44,726 INFO sqlalchemy.engine.base.Engine SELECT he.* \n",
      "                            FROM health_effects he\n",
      "                            ;\n",
      "2019-03-12 21:02:44,728 INFO sqlalchemy.engine.base.Engine ()\n"
     ]
    }
   ],
   "source": [
    "health_effects = pd.read_sql_query('''SELECT he.* \n",
    "                            FROM health_effects he\n",
    "                            ;''', engine)"
   ]
  },
  {
   "cell_type": "code",
   "execution_count": 158,
   "metadata": {},
   "outputs": [
    {
     "data": {
      "text/plain": [
       "(1435, 10)"
      ]
     },
     "execution_count": 158,
     "metadata": {},
     "output_type": "execute_result"
    }
   ],
   "source": [
    "health_effects.shape"
   ]
  },
  {
   "cell_type": "code",
   "execution_count": 159,
   "metadata": {
    "scrolled": true
   },
   "outputs": [
    {
     "name": "stdout",
     "output_type": "stream",
     "text": [
      "<class 'pandas.core.frame.DataFrame'>\n",
      "RangeIndex: 1435 entries, 0 to 1434\n",
      "Data columns (total 10 columns):\n",
      "id                  1435 non-null object\n",
      "name                1435 non-null object\n",
      "description         1435 non-null object\n",
      "chebi_name          1435 non-null object\n",
      "chebi_id            1435 non-null object\n",
      "created_at          1435 non-null object\n",
      "updated_at          1435 non-null object\n",
      "creator_id          1435 non-null object\n",
      "updater_id          1435 non-null object\n",
      "chebi_definition    1435 non-null object\n",
      "dtypes: object(10)\n",
      "memory usage: 112.2+ KB\n"
     ]
    }
   ],
   "source": [
    "health_effects.info()"
   ]
  },
  {
   "cell_type": "code",
   "execution_count": 160,
   "metadata": {},
   "outputs": [
    {
     "data": {
      "text/html": [
       "<div>\n",
       "<style scoped>\n",
       "    .dataframe tbody tr th:only-of-type {\n",
       "        vertical-align: middle;\n",
       "    }\n",
       "\n",
       "    .dataframe tbody tr th {\n",
       "        vertical-align: top;\n",
       "    }\n",
       "\n",
       "    .dataframe thead th {\n",
       "        text-align: right;\n",
       "    }\n",
       "</style>\n",
       "<table border=\"1\" class=\"dataframe\">\n",
       "  <thead>\n",
       "    <tr style=\"text-align: right;\">\n",
       "      <th></th>\n",
       "      <th>id</th>\n",
       "      <th>name</th>\n",
       "      <th>description</th>\n",
       "      <th>chebi_name</th>\n",
       "      <th>chebi_id</th>\n",
       "      <th>created_at</th>\n",
       "      <th>updated_at</th>\n",
       "      <th>creator_id</th>\n",
       "      <th>updater_id</th>\n",
       "      <th>chebi_definition</th>\n",
       "    </tr>\n",
       "  </thead>\n",
       "  <tbody>\n",
       "    <tr>\n",
       "      <th>0</th>\n",
       "      <td>1</td>\n",
       "      <td>(+)-inotropic</td>\n",
       "      <td>An agent that alters the force or energy of mu...</td>\n",
       "      <td>NULL</td>\n",
       "      <td>NULL</td>\n",
       "      <td>2012-04-10 10:05:13</td>\n",
       "      <td>2015-11-11 02:32:19</td>\n",
       "      <td>NULL</td>\n",
       "      <td>NULL</td>\n",
       "      <td>NULL</td>\n",
       "    </tr>\n",
       "    <tr>\n",
       "      <th>1</th>\n",
       "      <td>2</td>\n",
       "      <td>(-)-chronotropic</td>\n",
       "      <td>An agent that may change theÂ heartÂ rate by a...</td>\n",
       "      <td>NULL</td>\n",
       "      <td>NULL</td>\n",
       "      <td>2012-04-10 10:05:13</td>\n",
       "      <td>2015-11-11 02:32:19</td>\n",
       "      <td>NULL</td>\n",
       "      <td>NULL</td>\n",
       "      <td>NULL</td>\n",
       "    </tr>\n",
       "    <tr>\n",
       "      <th>2</th>\n",
       "      <td>3</td>\n",
       "      <td>(-)-inotropic</td>\n",
       "      <td>An agent that alters the force or energy of mu...</td>\n",
       "      <td>NULL</td>\n",
       "      <td>NULL</td>\n",
       "      <td>2012-04-10 10:05:13</td>\n",
       "      <td>2015-11-11 02:32:19</td>\n",
       "      <td>NULL</td>\n",
       "      <td>NULL</td>\n",
       "      <td>NULL</td>\n",
       "    </tr>\n",
       "    <tr>\n",
       "      <th>3</th>\n",
       "      <td>4</td>\n",
       "      <td>11beta-hydroxysteroid-dehydrogenase inhibitor</td>\n",
       "      <td>NULL</td>\n",
       "      <td>enzyme inhibitor</td>\n",
       "      <td>23924</td>\n",
       "      <td>2012-04-10 10:05:13</td>\n",
       "      <td>2015-10-27 17:47:35</td>\n",
       "      <td>NULL</td>\n",
       "      <td>NULL</td>\n",
       "      <td>A compound or agent that combines with an enzy...</td>\n",
       "    </tr>\n",
       "    <tr>\n",
       "      <th>4</th>\n",
       "      <td>5</td>\n",
       "      <td>12-lipoxygenase inhibitor</td>\n",
       "      <td>NULL</td>\n",
       "      <td>enzyme inhibitor</td>\n",
       "      <td>23924</td>\n",
       "      <td>2012-04-10 10:05:13</td>\n",
       "      <td>2015-10-27 17:47:36</td>\n",
       "      <td>NULL</td>\n",
       "      <td>NULL</td>\n",
       "      <td>A compound or agent that combines with an enzy...</td>\n",
       "    </tr>\n",
       "  </tbody>\n",
       "</table>\n",
       "</div>"
      ],
      "text/plain": [
       "  id                                           name  \\\n",
       "0  1                                  (+)-inotropic   \n",
       "1  2                               (-)-chronotropic   \n",
       "2  3                                  (-)-inotropic   \n",
       "3  4  11beta-hydroxysteroid-dehydrogenase inhibitor   \n",
       "4  5                      12-lipoxygenase inhibitor   \n",
       "\n",
       "                                         description        chebi_name  \\\n",
       "0  An agent that alters the force or energy of mu...              NULL   \n",
       "1  An agent that may change theÂ heartÂ rate by a...              NULL   \n",
       "2  An agent that alters the force or energy of mu...              NULL   \n",
       "3                                               NULL  enzyme inhibitor   \n",
       "4                                               NULL  enzyme inhibitor   \n",
       "\n",
       "  chebi_id           created_at           updated_at creator_id updater_id  \\\n",
       "0     NULL  2012-04-10 10:05:13  2015-11-11 02:32:19       NULL       NULL   \n",
       "1     NULL  2012-04-10 10:05:13  2015-11-11 02:32:19       NULL       NULL   \n",
       "2     NULL  2012-04-10 10:05:13  2015-11-11 02:32:19       NULL       NULL   \n",
       "3    23924  2012-04-10 10:05:13  2015-10-27 17:47:35       NULL       NULL   \n",
       "4    23924  2012-04-10 10:05:13  2015-10-27 17:47:36       NULL       NULL   \n",
       "\n",
       "                                    chebi_definition  \n",
       "0                                               NULL  \n",
       "1                                               NULL  \n",
       "2                                               NULL  \n",
       "3  A compound or agent that combines with an enzy...  \n",
       "4  A compound or agent that combines with an enzy...  "
      ]
     },
     "execution_count": 160,
     "metadata": {},
     "output_type": "execute_result"
    }
   ],
   "source": [
    "health_effects.head()"
   ]
  },
  {
   "cell_type": "code",
   "execution_count": 161,
   "metadata": {},
   "outputs": [
    {
     "name": "stdout",
     "output_type": "stream",
     "text": [
      "id 1435\n",
      "name 1435\n",
      "description 619\n",
      "chebi_name 710\n",
      "chebi_id 710\n",
      "created_at 1435\n",
      "updated_at 1435\n",
      "creator_id 0\n",
      "updater_id 0\n",
      "chebi_definition 698\n"
     ]
    }
   ],
   "source": [
    "for column in health_effects.columns:\n",
    "    print(column, health_effects[health_effects[column] != 'NULL'].shape[0])"
   ]
  },
  {
   "cell_type": "code",
   "execution_count": 162,
   "metadata": {},
   "outputs": [],
   "source": [
    "#Are the rows with a non-null chebi_id the same as the rows with a non-null chebi_name?\n",
    "chebi_ids = health_effects[health_effects['chebi_id'] != 'NULL']"
   ]
  },
  {
   "cell_type": "code",
   "execution_count": 165,
   "metadata": {},
   "outputs": [],
   "source": [
    "chebi_name = health_effects[health_effects['chebi_name'] != 'NULL']"
   ]
  },
  {
   "cell_type": "code",
   "execution_count": 167,
   "metadata": {},
   "outputs": [],
   "source": [
    "trues = chebi_ids == chebi_name"
   ]
  },
  {
   "cell_type": "markdown",
   "metadata": {},
   "source": [
    "### Drop created_at, updated_at, creator_id, updater_id"
   ]
  },
  {
   "cell_type": "markdown",
   "metadata": {},
   "source": [
    "# Exploratory Data Analysis\n",
    "## Nutrients table"
   ]
  },
  {
   "cell_type": "code",
   "execution_count": 55,
   "metadata": {},
   "outputs": [
    {
     "name": "stdout",
     "output_type": "stream",
     "text": [
      "2019-03-15 13:29:47,268 INFO sqlalchemy.engine.base.Engine SELECT n.* \n",
      "                            FROM nutrients n\n",
      "                            ;\n"
     ]
    },
    {
     "name": "stderr",
     "output_type": "stream",
     "text": [
      "INFO:sqlalchemy.engine.base.Engine:SELECT n.* \n",
      "                            FROM nutrients n\n",
      "                            ;\n"
     ]
    },
    {
     "name": "stdout",
     "output_type": "stream",
     "text": [
      "2019-03-15 13:29:47,268 INFO sqlalchemy.engine.base.Engine ()\n"
     ]
    },
    {
     "name": "stderr",
     "output_type": "stream",
     "text": [
      "INFO:sqlalchemy.engine.base.Engine:()\n"
     ]
    }
   ],
   "source": [
    "nutrients = pd.read_sql_query('''SELECT n.* \n",
    "                            FROM nutrients n\n",
    "                            ;''', engine)"
   ]
  },
  {
   "cell_type": "code",
   "execution_count": 67,
   "metadata": {},
   "outputs": [
    {
     "data": {
      "text/html": [
       "<div>\n",
       "<style scoped>\n",
       "    .dataframe tbody tr th:only-of-type {\n",
       "        vertical-align: middle;\n",
       "    }\n",
       "\n",
       "    .dataframe tbody tr th {\n",
       "        vertical-align: top;\n",
       "    }\n",
       "\n",
       "    .dataframe thead th {\n",
       "        text-align: right;\n",
       "    }\n",
       "</style>\n",
       "<table border=\"1\" class=\"dataframe\">\n",
       "  <thead>\n",
       "    <tr style=\"text-align: right;\">\n",
       "      <th></th>\n",
       "      <th>id</th>\n",
       "      <th>legacy_id</th>\n",
       "      <th>type</th>\n",
       "      <th>public_id</th>\n",
       "      <th>name</th>\n",
       "      <th>export</th>\n",
       "      <th>state</th>\n",
       "      <th>annotation_quality</th>\n",
       "      <th>description</th>\n",
       "      <th>wikipedia_id</th>\n",
       "      <th>...</th>\n",
       "      <th>eafus_id</th>\n",
       "      <th>dfc_name</th>\n",
       "      <th>compound_source</th>\n",
       "      <th>metabolism</th>\n",
       "      <th>synthesis_citations</th>\n",
       "      <th>general_citations</th>\n",
       "      <th>creator_id</th>\n",
       "      <th>updater_id</th>\n",
       "      <th>created_at</th>\n",
       "      <th>updated_at</th>\n",
       "    </tr>\n",
       "  </thead>\n",
       "  <tbody>\n",
       "    <tr>\n",
       "      <th>0</th>\n",
       "      <td>1</td>\n",
       "      <td>10930</td>\n",
       "      <td>Nutrient</td>\n",
       "      <td>FDBN00001</td>\n",
       "      <td>Fat</td>\n",
       "      <td>0</td>\n",
       "      <td>NULL</td>\n",
       "      <td>low</td>\n",
       "      <td>NULL</td>\n",
       "      <td>NULL</td>\n",
       "      <td>...</td>\n",
       "      <td>NULL</td>\n",
       "      <td>NULL</td>\n",
       "      <td>DUKE</td>\n",
       "      <td>NULL</td>\n",
       "      <td>NULL</td>\n",
       "      <td>NULL</td>\n",
       "      <td>NULL</td>\n",
       "      <td>NULL</td>\n",
       "      <td>2014-11-05 13:42:10</td>\n",
       "      <td>2014-11-05 13:42:10</td>\n",
       "    </tr>\n",
       "    <tr>\n",
       "      <th>1</th>\n",
       "      <td>2</td>\n",
       "      <td>10946</td>\n",
       "      <td>Nutrient</td>\n",
       "      <td>FDBN00002</td>\n",
       "      <td>Proteins</td>\n",
       "      <td>0</td>\n",
       "      <td>NULL</td>\n",
       "      <td>low</td>\n",
       "      <td>NULL</td>\n",
       "      <td>NULL</td>\n",
       "      <td>...</td>\n",
       "      <td>NULL</td>\n",
       "      <td>NULL</td>\n",
       "      <td>DUKE</td>\n",
       "      <td>NULL</td>\n",
       "      <td>NULL</td>\n",
       "      <td>NULL</td>\n",
       "      <td>NULL</td>\n",
       "      <td>NULL</td>\n",
       "      <td>2014-11-05 13:42:15</td>\n",
       "      <td>2014-11-05 13:42:15</td>\n",
       "    </tr>\n",
       "    <tr>\n",
       "      <th>2</th>\n",
       "      <td>3</td>\n",
       "      <td>16037</td>\n",
       "      <td>Nutrient</td>\n",
       "      <td>FDBN00003</td>\n",
       "      <td>Carbohydrate</td>\n",
       "      <td>0</td>\n",
       "      <td>NULL</td>\n",
       "      <td>low</td>\n",
       "      <td>Carbohydrates (or saccharides) are organic com...</td>\n",
       "      <td>Carbohydrate</td>\n",
       "      <td>...</td>\n",
       "      <td>NULL</td>\n",
       "      <td>NULL</td>\n",
       "      <td>DUKE</td>\n",
       "      <td>NULL</td>\n",
       "      <td>NULL</td>\n",
       "      <td>NULL</td>\n",
       "      <td>NULL</td>\n",
       "      <td>NULL</td>\n",
       "      <td>2014-11-05 13:44:06</td>\n",
       "      <td>2014-11-05 13:44:06</td>\n",
       "    </tr>\n",
       "    <tr>\n",
       "      <th>3</th>\n",
       "      <td>4</td>\n",
       "      <td>23404</td>\n",
       "      <td>Nutrient</td>\n",
       "      <td>FDBN00004</td>\n",
       "      <td>Fatty acids</td>\n",
       "      <td>0</td>\n",
       "      <td>NULL</td>\n",
       "      <td>low</td>\n",
       "      <td>NULL</td>\n",
       "      <td>NULL</td>\n",
       "      <td>...</td>\n",
       "      <td>1335</td>\n",
       "      <td>NULL</td>\n",
       "      <td>EAFUS</td>\n",
       "      <td>NULL</td>\n",
       "      <td>NULL</td>\n",
       "      <td>NULL</td>\n",
       "      <td>NULL</td>\n",
       "      <td>NULL</td>\n",
       "      <td>2014-11-05 13:46:00</td>\n",
       "      <td>2014-11-05 13:46:00</td>\n",
       "    </tr>\n",
       "    <tr>\n",
       "      <th>4</th>\n",
       "      <td>5</td>\n",
       "      <td>11134</td>\n",
       "      <td>Nutrient</td>\n",
       "      <td>FDBN00005</td>\n",
       "      <td>Fiber (dietary)</td>\n",
       "      <td>0</td>\n",
       "      <td>NULL</td>\n",
       "      <td>low</td>\n",
       "      <td>NULL</td>\n",
       "      <td>NULL</td>\n",
       "      <td>...</td>\n",
       "      <td>NULL</td>\n",
       "      <td>NULL</td>\n",
       "      <td>DUKE</td>\n",
       "      <td>NULL</td>\n",
       "      <td>NULL</td>\n",
       "      <td>NULL</td>\n",
       "      <td>NULL</td>\n",
       "      <td>NULL</td>\n",
       "      <td>2014-11-05 13:47:36</td>\n",
       "      <td>2014-11-05 13:47:36</td>\n",
       "    </tr>\n",
       "  </tbody>\n",
       "</table>\n",
       "<p>5 rows × 23 columns</p>\n",
       "</div>"
      ],
      "text/plain": [
       "  id legacy_id      type  public_id             name export state  \\\n",
       "0  1     10930  Nutrient  FDBN00001              Fat      0  NULL   \n",
       "1  2     10946  Nutrient  FDBN00002         Proteins      0  NULL   \n",
       "2  3     16037  Nutrient  FDBN00003     Carbohydrate      0  NULL   \n",
       "3  4     23404  Nutrient  FDBN00004      Fatty acids      0  NULL   \n",
       "4  5     11134  Nutrient  FDBN00005  Fiber (dietary)      0  NULL   \n",
       "\n",
       "  annotation_quality                                        description  \\\n",
       "0                low                                               NULL   \n",
       "1                low                                               NULL   \n",
       "2                low  Carbohydrates (or saccharides) are organic com...   \n",
       "3                low                                               NULL   \n",
       "4                low                                               NULL   \n",
       "\n",
       "   wikipedia_id         ...          eafus_id dfc_name compound_source  \\\n",
       "0          NULL         ...              NULL     NULL            DUKE   \n",
       "1          NULL         ...              NULL     NULL            DUKE   \n",
       "2  Carbohydrate         ...              NULL     NULL            DUKE   \n",
       "3          NULL         ...              1335     NULL           EAFUS   \n",
       "4          NULL         ...              NULL     NULL            DUKE   \n",
       "\n",
       "  metabolism synthesis_citations general_citations creator_id updater_id  \\\n",
       "0       NULL                NULL              NULL       NULL       NULL   \n",
       "1       NULL                NULL              NULL       NULL       NULL   \n",
       "2       NULL                NULL              NULL       NULL       NULL   \n",
       "3       NULL                NULL              NULL       NULL       NULL   \n",
       "4       NULL                NULL              NULL       NULL       NULL   \n",
       "\n",
       "            created_at           updated_at  \n",
       "0  2014-11-05 13:42:10  2014-11-05 13:42:10  \n",
       "1  2014-11-05 13:42:15  2014-11-05 13:42:15  \n",
       "2  2014-11-05 13:44:06  2014-11-05 13:44:06  \n",
       "3  2014-11-05 13:46:00  2014-11-05 13:46:00  \n",
       "4  2014-11-05 13:47:36  2014-11-05 13:47:36  \n",
       "\n",
       "[5 rows x 23 columns]"
      ]
     },
     "execution_count": 67,
     "metadata": {},
     "output_type": "execute_result"
    }
   ],
   "source": [
    "nutrients.head()"
   ]
  },
  {
   "cell_type": "code",
   "execution_count": 60,
   "metadata": {
    "collapsed": true
   },
   "outputs": [
    {
     "name": "stdout",
     "output_type": "stream",
     "text": [
      "id 0\n",
      "legacy_id 0\n",
      "type 0\n",
      "public_id 0\n",
      "name 0\n",
      "export 0\n",
      "state 38\n",
      "annotation_quality 0\n",
      "description 37\n",
      "wikipedia_id 37\n",
      "comments 38\n",
      "dfc_id 38\n",
      "duke_id 33\n",
      "eafus_id 37\n",
      "dfc_name 38\n",
      "compound_source 0\n",
      "metabolism 38\n",
      "synthesis_citations 38\n",
      "general_citations 38\n",
      "creator_id 38\n",
      "updater_id 38\n",
      "created_at 0\n",
      "updated_at 0\n"
     ]
    }
   ],
   "source": [
    "for column in nutrients.columns:\n",
    "    print(column, nutrients[nutrients[column] == 'NULL'].shape[0])"
   ]
  },
  {
   "cell_type": "markdown",
   "metadata": {},
   "source": [
    "### Drop whole table?"
   ]
  },
  {
   "cell_type": "code",
   "execution_count": null,
   "metadata": {},
   "outputs": [],
   "source": []
  },
  {
   "cell_type": "code",
   "execution_count": null,
   "metadata": {},
   "outputs": [],
   "source": []
  },
  {
   "cell_type": "markdown",
   "metadata": {},
   "source": [
    "# Exploratory data analysis\n",
    "## Pathways table"
   ]
  },
  {
   "cell_type": "code",
   "execution_count": 68,
   "metadata": {},
   "outputs": [
    {
     "name": "stdout",
     "output_type": "stream",
     "text": [
      "2019-03-15 13:36:23,979 INFO sqlalchemy.engine.base.Engine SELECT pa.* \n",
      "                            FROM pathways pa\n",
      "                            ;\n"
     ]
    },
    {
     "name": "stderr",
     "output_type": "stream",
     "text": [
      "INFO:sqlalchemy.engine.base.Engine:SELECT pa.* \n",
      "                            FROM pathways pa\n",
      "                            ;\n"
     ]
    },
    {
     "name": "stdout",
     "output_type": "stream",
     "text": [
      "2019-03-15 13:36:23,979 INFO sqlalchemy.engine.base.Engine ()\n"
     ]
    },
    {
     "name": "stderr",
     "output_type": "stream",
     "text": [
      "INFO:sqlalchemy.engine.base.Engine:()\n"
     ]
    }
   ],
   "source": [
    "pathways = pd.read_sql_query('''SELECT pa.* \n",
    "                            FROM pathways pa\n",
    "                            ;''', engine)"
   ]
  },
  {
   "cell_type": "code",
   "execution_count": 69,
   "metadata": {},
   "outputs": [
    {
     "data": {
      "text/html": [
       "<div>\n",
       "<style scoped>\n",
       "    .dataframe tbody tr th:only-of-type {\n",
       "        vertical-align: middle;\n",
       "    }\n",
       "\n",
       "    .dataframe tbody tr th {\n",
       "        vertical-align: top;\n",
       "    }\n",
       "\n",
       "    .dataframe thead th {\n",
       "        text-align: right;\n",
       "    }\n",
       "</style>\n",
       "<table border=\"1\" class=\"dataframe\">\n",
       "  <thead>\n",
       "    <tr style=\"text-align: right;\">\n",
       "      <th></th>\n",
       "      <th>id</th>\n",
       "      <th>smpdb_id</th>\n",
       "      <th>kegg_map_id</th>\n",
       "      <th>name</th>\n",
       "      <th>created_at</th>\n",
       "      <th>updated_at</th>\n",
       "    </tr>\n",
       "  </thead>\n",
       "  <tbody>\n",
       "    <tr>\n",
       "      <th>0</th>\n",
       "      <td>1</td>\n",
       "      <td>SMP00006</td>\n",
       "      <td>map00350</td>\n",
       "      <td>Tyrosine Metabolism</td>\n",
       "      <td>2015-02-23 22:40:48</td>\n",
       "      <td>2015-02-23 22:40:48</td>\n",
       "    </tr>\n",
       "    <tr>\n",
       "      <th>1</th>\n",
       "      <td>2</td>\n",
       "      <td>SMP00068</td>\n",
       "      <td>map00150</td>\n",
       "      <td>Androgen and Estrogen Metabolism</td>\n",
       "      <td>2015-02-23 22:40:58</td>\n",
       "      <td>2015-02-23 22:40:58</td>\n",
       "    </tr>\n",
       "    <tr>\n",
       "      <th>2</th>\n",
       "      <td>3</td>\n",
       "      <td>SMP00011</td>\n",
       "      <td>map00562</td>\n",
       "      <td>Inositol Metabolism</td>\n",
       "      <td>2015-02-23 22:41:14</td>\n",
       "      <td>2015-02-23 22:41:14</td>\n",
       "    </tr>\n",
       "    <tr>\n",
       "      <th>3</th>\n",
       "      <td>4</td>\n",
       "      <td>SMP00462</td>\n",
       "      <td>map00562</td>\n",
       "      <td>Inositol Phosphate Metabolism</td>\n",
       "      <td>2015-02-23 22:41:14</td>\n",
       "      <td>2015-02-23 22:41:14</td>\n",
       "    </tr>\n",
       "    <tr>\n",
       "      <th>4</th>\n",
       "      <td>5</td>\n",
       "      <td>SMP00012</td>\n",
       "      <td>map00350</td>\n",
       "      <td>Catecholamine Biosynthesis</td>\n",
       "      <td>2015-02-23 22:42:38</td>\n",
       "      <td>2015-02-23 22:42:38</td>\n",
       "    </tr>\n",
       "    <tr>\n",
       "      <th>5</th>\n",
       "      <td>6</td>\n",
       "      <td>SMP00008</td>\n",
       "      <td>map00360</td>\n",
       "      <td>Phenylalanine and Tyrosine Metabolism</td>\n",
       "      <td>2015-02-23 22:42:38</td>\n",
       "      <td>2015-02-23 22:42:38</td>\n",
       "    </tr>\n",
       "    <tr>\n",
       "      <th>6</th>\n",
       "      <td>7</td>\n",
       "      <td>SMP00019</td>\n",
       "      <td></td>\n",
       "      <td>Transcription/Translation</td>\n",
       "      <td>2015-02-23 22:42:38</td>\n",
       "      <td>2015-02-23 22:42:38</td>\n",
       "    </tr>\n",
       "    <tr>\n",
       "      <th>7</th>\n",
       "      <td>8</td>\n",
       "      <td>SMP00028</td>\n",
       "      <td>map00232</td>\n",
       "      <td>Caffeine Metabolism</td>\n",
       "      <td>2015-02-23 22:42:49</td>\n",
       "      <td>2015-02-23 22:42:49</td>\n",
       "    </tr>\n",
       "    <tr>\n",
       "      <th>8</th>\n",
       "      <td>9</td>\n",
       "      <td>SMP00037</td>\n",
       "      <td>map00310</td>\n",
       "      <td>Lysine Degradation</td>\n",
       "      <td>2015-02-23 22:42:58</td>\n",
       "      <td>2015-02-23 22:42:58</td>\n",
       "    </tr>\n",
       "    <tr>\n",
       "      <th>9</th>\n",
       "      <td>10</td>\n",
       "      <td>SMP00016</td>\n",
       "      <td>map00640</td>\n",
       "      <td>Propanoate Metabolism</td>\n",
       "      <td>2015-02-23 22:43:04</td>\n",
       "      <td>2015-02-23 22:43:04</td>\n",
       "    </tr>\n",
       "    <tr>\n",
       "      <th>10</th>\n",
       "      <td>11</td>\n",
       "      <td>SMP00032</td>\n",
       "      <td>map00280</td>\n",
       "      <td>Valine, Leucine and Isoleucine Degradation</td>\n",
       "      <td>2015-02-23 22:43:04</td>\n",
       "      <td>2015-02-23 22:43:04</td>\n",
       "    </tr>\n",
       "    <tr>\n",
       "      <th>11</th>\n",
       "      <td>12</td>\n",
       "      <td>SMP00066</td>\n",
       "      <td>map00780</td>\n",
       "      <td>Biotin Metabolism</td>\n",
       "      <td>2015-02-23 22:43:17</td>\n",
       "      <td>2015-02-23 22:43:17</td>\n",
       "    </tr>\n",
       "    <tr>\n",
       "      <th>12</th>\n",
       "      <td>13</td>\n",
       "      <td>SMP00465</td>\n",
       "      <td></td>\n",
       "      <td>Carnitine Synthesis</td>\n",
       "      <td>2015-02-23 22:43:17</td>\n",
       "      <td>2015-02-23 22:43:17</td>\n",
       "    </tr>\n",
       "    <tr>\n",
       "      <th>13</th>\n",
       "      <td>14</td>\n",
       "      <td>SMP00055</td>\n",
       "      <td>map00250</td>\n",
       "      <td>Alanine Metabolism</td>\n",
       "      <td>2015-02-23 22:43:32</td>\n",
       "      <td>2015-02-23 22:43:32</td>\n",
       "    </tr>\n",
       "    <tr>\n",
       "      <th>14</th>\n",
       "      <td>15</td>\n",
       "      <td>SMP00009</td>\n",
       "      <td>map00910</td>\n",
       "      <td>Ammonia Recycling</td>\n",
       "      <td>2015-02-23 22:43:32</td>\n",
       "      <td>2015-02-23 22:43:32</td>\n",
       "    </tr>\n",
       "    <tr>\n",
       "      <th>15</th>\n",
       "      <td>16</td>\n",
       "      <td>SMP00035</td>\n",
       "      <td>map00120</td>\n",
       "      <td>Bile Acid Biosynthesis</td>\n",
       "      <td>2015-02-23 22:43:32</td>\n",
       "      <td>2015-02-23 22:43:32</td>\n",
       "    </tr>\n",
       "    <tr>\n",
       "      <th>16</th>\n",
       "      <td>17</td>\n",
       "      <td>SMP00015</td>\n",
       "      <td>map00480</td>\n",
       "      <td>Glutathione Metabolism</td>\n",
       "      <td>2015-02-23 22:43:32</td>\n",
       "      <td>2015-02-23 22:43:32</td>\n",
       "    </tr>\n",
       "    <tr>\n",
       "      <th>17</th>\n",
       "      <td>18</td>\n",
       "      <td>SMP00004</td>\n",
       "      <td>map00260</td>\n",
       "      <td>Glycine and Serine Metabolism</td>\n",
       "      <td>2015-02-23 22:43:32</td>\n",
       "      <td>2015-02-23 22:43:32</td>\n",
       "    </tr>\n",
       "    <tr>\n",
       "      <th>18</th>\n",
       "      <td>19</td>\n",
       "      <td>SMP00033</td>\n",
       "      <td>map00270</td>\n",
       "      <td>Methionine Metabolism</td>\n",
       "      <td>2015-02-23 22:43:32</td>\n",
       "      <td>2015-02-23 22:43:32</td>\n",
       "    </tr>\n",
       "    <tr>\n",
       "      <th>19</th>\n",
       "      <td>20</td>\n",
       "      <td>SMP00024</td>\n",
       "      <td>map00860</td>\n",
       "      <td>Porphyrin Metabolism</td>\n",
       "      <td>2015-02-23 22:43:32</td>\n",
       "      <td>2015-02-23 22:43:32</td>\n",
       "    </tr>\n",
       "  </tbody>\n",
       "</table>\n",
       "</div>"
      ],
      "text/plain": [
       "    id  smpdb_id kegg_map_id                                        name  \\\n",
       "0    1  SMP00006    map00350                         Tyrosine Metabolism   \n",
       "1    2  SMP00068    map00150            Androgen and Estrogen Metabolism   \n",
       "2    3  SMP00011    map00562                         Inositol Metabolism   \n",
       "3    4  SMP00462    map00562               Inositol Phosphate Metabolism   \n",
       "4    5  SMP00012    map00350                  Catecholamine Biosynthesis   \n",
       "5    6  SMP00008    map00360       Phenylalanine and Tyrosine Metabolism   \n",
       "6    7  SMP00019                               Transcription/Translation   \n",
       "7    8  SMP00028    map00232                         Caffeine Metabolism   \n",
       "8    9  SMP00037    map00310                          Lysine Degradation   \n",
       "9   10  SMP00016    map00640                       Propanoate Metabolism   \n",
       "10  11  SMP00032    map00280  Valine, Leucine and Isoleucine Degradation   \n",
       "11  12  SMP00066    map00780                           Biotin Metabolism   \n",
       "12  13  SMP00465                                     Carnitine Synthesis   \n",
       "13  14  SMP00055    map00250                          Alanine Metabolism   \n",
       "14  15  SMP00009    map00910                           Ammonia Recycling   \n",
       "15  16  SMP00035    map00120                      Bile Acid Biosynthesis   \n",
       "16  17  SMP00015    map00480                      Glutathione Metabolism   \n",
       "17  18  SMP00004    map00260               Glycine and Serine Metabolism   \n",
       "18  19  SMP00033    map00270                       Methionine Metabolism   \n",
       "19  20  SMP00024    map00860                        Porphyrin Metabolism   \n",
       "\n",
       "             created_at           updated_at  \n",
       "0   2015-02-23 22:40:48  2015-02-23 22:40:48  \n",
       "1   2015-02-23 22:40:58  2015-02-23 22:40:58  \n",
       "2   2015-02-23 22:41:14  2015-02-23 22:41:14  \n",
       "3   2015-02-23 22:41:14  2015-02-23 22:41:14  \n",
       "4   2015-02-23 22:42:38  2015-02-23 22:42:38  \n",
       "5   2015-02-23 22:42:38  2015-02-23 22:42:38  \n",
       "6   2015-02-23 22:42:38  2015-02-23 22:42:38  \n",
       "7   2015-02-23 22:42:49  2015-02-23 22:42:49  \n",
       "8   2015-02-23 22:42:58  2015-02-23 22:42:58  \n",
       "9   2015-02-23 22:43:04  2015-02-23 22:43:04  \n",
       "10  2015-02-23 22:43:04  2015-02-23 22:43:04  \n",
       "11  2015-02-23 22:43:17  2015-02-23 22:43:17  \n",
       "12  2015-02-23 22:43:17  2015-02-23 22:43:17  \n",
       "13  2015-02-23 22:43:32  2015-02-23 22:43:32  \n",
       "14  2015-02-23 22:43:32  2015-02-23 22:43:32  \n",
       "15  2015-02-23 22:43:32  2015-02-23 22:43:32  \n",
       "16  2015-02-23 22:43:32  2015-02-23 22:43:32  \n",
       "17  2015-02-23 22:43:32  2015-02-23 22:43:32  \n",
       "18  2015-02-23 22:43:32  2015-02-23 22:43:32  \n",
       "19  2015-02-23 22:43:32  2015-02-23 22:43:32  "
      ]
     },
     "execution_count": 69,
     "metadata": {},
     "output_type": "execute_result"
    }
   ],
   "source": [
    "pathways.head(20)"
   ]
  },
  {
   "cell_type": "markdown",
   "metadata": {},
   "source": [
    "### Drop created_at, updated_at"
   ]
  },
  {
   "cell_type": "markdown",
   "metadata": {},
   "source": [
    "# Exploratory data analysis\n",
    "## References table"
   ]
  },
  {
   "cell_type": "code",
   "execution_count": 79,
   "metadata": {},
   "outputs": [
    {
     "name": "stdout",
     "output_type": "stream",
     "text": [
      "2019-03-15 13:42:27,331 INFO sqlalchemy.engine.base.Engine SELECT r.* \n",
      "                            FROM [references] r\n",
      "                            ;\n"
     ]
    },
    {
     "name": "stderr",
     "output_type": "stream",
     "text": [
      "INFO:sqlalchemy.engine.base.Engine:SELECT r.* \n",
      "                            FROM [references] r\n",
      "                            ;\n"
     ]
    },
    {
     "name": "stdout",
     "output_type": "stream",
     "text": [
      "2019-03-15 13:42:27,333 INFO sqlalchemy.engine.base.Engine ()\n"
     ]
    },
    {
     "name": "stderr",
     "output_type": "stream",
     "text": [
      "INFO:sqlalchemy.engine.base.Engine:()\n"
     ]
    }
   ],
   "source": [
    "references = pd.read_sql_query('''SELECT r.* \n",
    "                            FROM [references] r\n",
    "                            ;''', engine)"
   ]
  },
  {
   "cell_type": "code",
   "execution_count": 78,
   "metadata": {},
   "outputs": [
    {
     "data": {
      "text/plain": [
       "['compound_alternate_parents',\n",
       " 'compound_external_descriptors',\n",
       " 'compound_substituents',\n",
       " 'compound_synonyms',\n",
       " 'compounds',\n",
       " 'compounds_enzymes',\n",
       " 'compounds_flavors',\n",
       " 'compounds_health_effects',\n",
       " 'compounds_pathways',\n",
       " 'enzymes',\n",
       " 'flavors',\n",
       " 'food_taxonomies',\n",
       " 'foodcomex_compound_providers',\n",
       " 'foodcomex_compounds',\n",
       " 'foods',\n",
       " 'foods_copy',\n",
       " 'health_effects',\n",
       " 'nutrients',\n",
       " 'pathways',\n",
       " 'references']"
      ]
     },
     "execution_count": 78,
     "metadata": {},
     "output_type": "execute_result"
    }
   ],
   "source": [
    "table_names"
   ]
  },
  {
   "cell_type": "code",
   "execution_count": 80,
   "metadata": {},
   "outputs": [
    {
     "data": {
      "text/html": [
       "<div>\n",
       "<style scoped>\n",
       "    .dataframe tbody tr th:only-of-type {\n",
       "        vertical-align: middle;\n",
       "    }\n",
       "\n",
       "    .dataframe tbody tr th {\n",
       "        vertical-align: top;\n",
       "    }\n",
       "\n",
       "    .dataframe thead th {\n",
       "        text-align: right;\n",
       "    }\n",
       "</style>\n",
       "<table border=\"1\" class=\"dataframe\">\n",
       "  <thead>\n",
       "    <tr style=\"text-align: right;\">\n",
       "      <th></th>\n",
       "      <th>id</th>\n",
       "      <th>ref_type</th>\n",
       "      <th>text</th>\n",
       "      <th>pubmed_id</th>\n",
       "      <th>link</th>\n",
       "      <th>title</th>\n",
       "      <th>creator_id</th>\n",
       "      <th>updater_id</th>\n",
       "      <th>created_at</th>\n",
       "      <th>updated_at</th>\n",
       "      <th>source_id</th>\n",
       "      <th>source_type</th>\n",
       "    </tr>\n",
       "  </thead>\n",
       "  <tbody>\n",
       "    <tr>\n",
       "      <th>0</th>\n",
       "      <td>1</td>\n",
       "      <td>general</td>\n",
       "      <td>Yannai, Shmuel. (2004) Dictionary of food comp...</td>\n",
       "      <td></td>\n",
       "      <td></td>\n",
       "      <td></td>\n",
       "      <td>NULL</td>\n",
       "      <td>NULL</td>\n",
       "      <td>2015-02-23 22:39:47</td>\n",
       "      <td>2015-02-23 22:39:47</td>\n",
       "      <td>1</td>\n",
       "      <td>Compound</td>\n",
       "    </tr>\n",
       "    <tr>\n",
       "      <th>1</th>\n",
       "      <td>2</td>\n",
       "      <td>general</td>\n",
       "      <td>Neveu V, Perez-Jimenez J, Vos F, Crespy V, du ...</td>\n",
       "      <td></td>\n",
       "      <td></td>\n",
       "      <td></td>\n",
       "      <td>NULL</td>\n",
       "      <td>NULL</td>\n",
       "      <td>2015-02-23 22:39:50</td>\n",
       "      <td>2015-02-23 22:39:50</td>\n",
       "      <td>22</td>\n",
       "      <td>Compound</td>\n",
       "    </tr>\n",
       "    <tr>\n",
       "      <th>2</th>\n",
       "      <td>3</td>\n",
       "      <td>general</td>\n",
       "      <td>Neveu V, Perez-Jimenez J, Vos F, Crespy V, du ...</td>\n",
       "      <td></td>\n",
       "      <td></td>\n",
       "      <td></td>\n",
       "      <td>NULL</td>\n",
       "      <td>NULL</td>\n",
       "      <td>2015-02-23 22:39:50</td>\n",
       "      <td>2015-02-23 22:39:50</td>\n",
       "      <td>48</td>\n",
       "      <td>Compound</td>\n",
       "    </tr>\n",
       "    <tr>\n",
       "      <th>3</th>\n",
       "      <td>4</td>\n",
       "      <td>general</td>\n",
       "      <td>de Villiers A, Vanhoenacker G, Majek P, Sandra...</td>\n",
       "      <td></td>\n",
       "      <td></td>\n",
       "      <td></td>\n",
       "      <td>NULL</td>\n",
       "      <td>NULL</td>\n",
       "      <td>2015-02-23 22:39:52</td>\n",
       "      <td>2015-02-23 22:39:52</td>\n",
       "      <td>52</td>\n",
       "      <td>Compound</td>\n",
       "    </tr>\n",
       "    <tr>\n",
       "      <th>4</th>\n",
       "      <td>5</td>\n",
       "      <td>general</td>\n",
       "      <td>Neveu V, Perez-Jimenez J, Vos F, Crespy V, du ...</td>\n",
       "      <td></td>\n",
       "      <td></td>\n",
       "      <td></td>\n",
       "      <td>NULL</td>\n",
       "      <td>NULL</td>\n",
       "      <td>2015-02-23 22:39:54</td>\n",
       "      <td>2015-02-23 22:39:54</td>\n",
       "      <td>59</td>\n",
       "      <td>Compound</td>\n",
       "    </tr>\n",
       "  </tbody>\n",
       "</table>\n",
       "</div>"
      ],
      "text/plain": [
       "  id ref_type                                               text pubmed_id  \\\n",
       "0  1  general  Yannai, Shmuel. (2004) Dictionary of food comp...             \n",
       "1  2  general  Neveu V, Perez-Jimenez J, Vos F, Crespy V, du ...             \n",
       "2  3  general  Neveu V, Perez-Jimenez J, Vos F, Crespy V, du ...             \n",
       "3  4  general  de Villiers A, Vanhoenacker G, Majek P, Sandra...             \n",
       "4  5  general  Neveu V, Perez-Jimenez J, Vos F, Crespy V, du ...             \n",
       "\n",
       "  link title creator_id updater_id           created_at           updated_at  \\\n",
       "0                  NULL       NULL  2015-02-23 22:39:47  2015-02-23 22:39:47   \n",
       "1                  NULL       NULL  2015-02-23 22:39:50  2015-02-23 22:39:50   \n",
       "2                  NULL       NULL  2015-02-23 22:39:50  2015-02-23 22:39:50   \n",
       "3                  NULL       NULL  2015-02-23 22:39:52  2015-02-23 22:39:52   \n",
       "4                  NULL       NULL  2015-02-23 22:39:54  2015-02-23 22:39:54   \n",
       "\n",
       "  source_id source_type  \n",
       "0         1    Compound  \n",
       "1        22    Compound  \n",
       "2        48    Compound  \n",
       "3        52    Compound  \n",
       "4        59    Compound  "
      ]
     },
     "execution_count": 80,
     "metadata": {},
     "output_type": "execute_result"
    }
   ],
   "source": [
    "references.head()"
   ]
  },
  {
   "cell_type": "code",
   "execution_count": 81,
   "metadata": {},
   "outputs": [
    {
     "name": "stdout",
     "output_type": "stream",
     "text": [
      "<class 'pandas.core.frame.DataFrame'>\n",
      "RangeIndex: 31791 entries, 0 to 31790\n",
      "Data columns (total 12 columns):\n",
      "id             31791 non-null object\n",
      "ref_type       31791 non-null object\n",
      "text           31791 non-null object\n",
      "pubmed_id      31791 non-null object\n",
      "link           31791 non-null object\n",
      "title          31791 non-null object\n",
      "creator_id     31791 non-null object\n",
      "updater_id     31791 non-null object\n",
      "created_at     31791 non-null object\n",
      "updated_at     31791 non-null object\n",
      "source_id      31791 non-null object\n",
      "source_type    31791 non-null object\n",
      "dtypes: object(12)\n",
      "memory usage: 2.9+ MB\n"
     ]
    }
   ],
   "source": [
    "references.info()"
   ]
  },
  {
   "cell_type": "markdown",
   "metadata": {},
   "source": [
    "### Drop table."
   ]
  },
  {
   "cell_type": "markdown",
   "metadata": {},
   "source": [
    "# Exploratory data analysis\n",
    "## food taxonomies table"
   ]
  },
  {
   "cell_type": "code",
   "execution_count": 82,
   "metadata": {},
   "outputs": [
    {
     "name": "stdout",
     "output_type": "stream",
     "text": [
      "2019-03-15 13:45:43,423 INFO sqlalchemy.engine.base.Engine SELECT ft.* \n",
      "                            FROM food_taxonomies ft\n",
      "                            ;\n"
     ]
    },
    {
     "name": "stderr",
     "output_type": "stream",
     "text": [
      "INFO:sqlalchemy.engine.base.Engine:SELECT ft.* \n",
      "                            FROM food_taxonomies ft\n",
      "                            ;\n"
     ]
    },
    {
     "name": "stdout",
     "output_type": "stream",
     "text": [
      "2019-03-15 13:45:43,425 INFO sqlalchemy.engine.base.Engine ()\n"
     ]
    },
    {
     "name": "stderr",
     "output_type": "stream",
     "text": [
      "INFO:sqlalchemy.engine.base.Engine:()\n"
     ]
    }
   ],
   "source": [
    "food_taxonomies = pd.read_sql_query('''SELECT ft.* \n",
    "                            FROM food_taxonomies ft\n",
    "                            ;''', engine)"
   ]
  },
  {
   "cell_type": "code",
   "execution_count": 83,
   "metadata": {},
   "outputs": [
    {
     "name": "stdout",
     "output_type": "stream",
     "text": [
      "<class 'pandas.core.frame.DataFrame'>\n",
      "RangeIndex: 919 entries, 0 to 918\n",
      "Data columns (total 7 columns):\n",
      "id                      919 non-null object\n",
      "food_id                 919 non-null object\n",
      "ncbi_taxonomy_id        919 non-null object\n",
      "classification_name     919 non-null object\n",
      "classification_order    919 non-null object\n",
      "created_at              919 non-null object\n",
      "updated_at              919 non-null object\n",
      "dtypes: object(7)\n",
      "memory usage: 50.3+ KB\n"
     ]
    }
   ],
   "source": [
    "food_taxonomies.info()"
   ]
  },
  {
   "cell_type": "code",
   "execution_count": 87,
   "metadata": {},
   "outputs": [
    {
     "data": {
      "text/html": [
       "<div>\n",
       "<style scoped>\n",
       "    .dataframe tbody tr th:only-of-type {\n",
       "        vertical-align: middle;\n",
       "    }\n",
       "\n",
       "    .dataframe tbody tr th {\n",
       "        vertical-align: top;\n",
       "    }\n",
       "\n",
       "    .dataframe thead th {\n",
       "        text-align: right;\n",
       "    }\n",
       "</style>\n",
       "<table border=\"1\" class=\"dataframe\">\n",
       "  <thead>\n",
       "    <tr style=\"text-align: right;\">\n",
       "      <th></th>\n",
       "      <th>id</th>\n",
       "      <th>food_id</th>\n",
       "      <th>ncbi_taxonomy_id</th>\n",
       "      <th>classification_name</th>\n",
       "      <th>classification_order</th>\n",
       "      <th>created_at</th>\n",
       "      <th>updated_at</th>\n",
       "    </tr>\n",
       "  </thead>\n",
       "  <tbody>\n",
       "    <tr>\n",
       "      <th>0</th>\n",
       "      <td>1</td>\n",
       "      <td>1</td>\n",
       "      <td>357850</td>\n",
       "      <td>\\Eukaryota\\</td>\n",
       "      <td>1</td>\n",
       "      <td>2017-03-29 18:35:53</td>\n",
       "      <td>2017-03-29 18:35:53</td>\n",
       "    </tr>\n",
       "    <tr>\n",
       "      <th>1</th>\n",
       "      <td>2</td>\n",
       "      <td>1</td>\n",
       "      <td>357850</td>\n",
       "      <td>\\Viridiplantae\\</td>\n",
       "      <td>2</td>\n",
       "      <td>2017-03-29 18:35:53</td>\n",
       "      <td>2017-03-29 18:35:53</td>\n",
       "    </tr>\n",
       "    <tr>\n",
       "      <th>2</th>\n",
       "      <td>3</td>\n",
       "      <td>1</td>\n",
       "      <td>357850</td>\n",
       "      <td>\\Streptophyta\\</td>\n",
       "      <td>3</td>\n",
       "      <td>2017-03-29 18:35:53</td>\n",
       "      <td>2017-03-29 18:35:53</td>\n",
       "    </tr>\n",
       "    <tr>\n",
       "      <th>3</th>\n",
       "      <td>4</td>\n",
       "      <td>1</td>\n",
       "      <td>357850</td>\n",
       "      <td>\\Embryophyta\\</td>\n",
       "      <td>4</td>\n",
       "      <td>2017-03-29 18:35:53</td>\n",
       "      <td>2017-03-29 18:35:53</td>\n",
       "    </tr>\n",
       "    <tr>\n",
       "      <th>4</th>\n",
       "      <td>5</td>\n",
       "      <td>1</td>\n",
       "      <td>357850</td>\n",
       "      <td>\\Tracheophyta\\</td>\n",
       "      <td>5</td>\n",
       "      <td>2017-03-29 18:35:53</td>\n",
       "      <td>2017-03-29 18:35:53</td>\n",
       "    </tr>\n",
       "  </tbody>\n",
       "</table>\n",
       "</div>"
      ],
      "text/plain": [
       "  id food_id ncbi_taxonomy_id classification_name classification_order  \\\n",
       "0  1       1           357850         \\Eukaryota\\                    1   \n",
       "1  2       1           357850     \\Viridiplantae\\                    2   \n",
       "2  3       1           357850      \\Streptophyta\\                    3   \n",
       "3  4       1           357850       \\Embryophyta\\                    4   \n",
       "4  5       1           357850      \\Tracheophyta\\                    5   \n",
       "\n",
       "            created_at           updated_at  \n",
       "0  2017-03-29 18:35:53  2017-03-29 18:35:53  \n",
       "1  2017-03-29 18:35:53  2017-03-29 18:35:53  \n",
       "2  2017-03-29 18:35:53  2017-03-29 18:35:53  \n",
       "3  2017-03-29 18:35:53  2017-03-29 18:35:53  \n",
       "4  2017-03-29 18:35:53  2017-03-29 18:35:53  "
      ]
     },
     "execution_count": 87,
     "metadata": {},
     "output_type": "execute_result"
    }
   ],
   "source": [
    "food_taxonomies.head()"
   ]
  },
  {
   "cell_type": "code",
   "execution_count": 89,
   "metadata": {},
   "outputs": [
    {
     "data": {
      "text/plain": [
       "1     64\n",
       "2     64\n",
       "5     63\n",
       "3     63\n",
       "4     63\n",
       "7     60\n",
       "6     60\n",
       "8     60\n",
       "9     59\n",
       "10    58\n",
       "11    57\n",
       "13    54\n",
       "12    54\n",
       "14    47\n",
       "15    40\n",
       "16    30\n",
       "17    17\n",
       "18     6\n",
       "Name: classification_order, dtype: int64"
      ]
     },
     "execution_count": 89,
     "metadata": {},
     "output_type": "execute_result"
    }
   ],
   "source": [
    "food_taxonomies['classification_order'].value_counts()"
   ]
  },
  {
   "cell_type": "code",
   "execution_count": 93,
   "metadata": {},
   "outputs": [
    {
     "data": {
      "text/html": [
       "<div>\n",
       "<style scoped>\n",
       "    .dataframe tbody tr th:only-of-type {\n",
       "        vertical-align: middle;\n",
       "    }\n",
       "\n",
       "    .dataframe tbody tr th {\n",
       "        vertical-align: top;\n",
       "    }\n",
       "\n",
       "    .dataframe thead th {\n",
       "        text-align: right;\n",
       "    }\n",
       "</style>\n",
       "<table border=\"1\" class=\"dataframe\">\n",
       "  <thead>\n",
       "    <tr style=\"text-align: right;\">\n",
       "      <th></th>\n",
       "      <th>id</th>\n",
       "      <th>food_id</th>\n",
       "      <th>ncbi_taxonomy_id</th>\n",
       "      <th>classification_name</th>\n",
       "      <th>classification_order</th>\n",
       "      <th>created_at</th>\n",
       "      <th>updated_at</th>\n",
       "    </tr>\n",
       "  </thead>\n",
       "  <tbody>\n",
       "    <tr>\n",
       "      <th>15</th>\n",
       "      <td>16</td>\n",
       "      <td>1</td>\n",
       "      <td>357850</td>\n",
       "      <td>\\apioid superclade\\</td>\n",
       "      <td>16</td>\n",
       "      <td>2017-03-29 18:35:53</td>\n",
       "      <td>2017-03-29 18:35:53</td>\n",
       "    </tr>\n",
       "    <tr>\n",
       "      <th>33</th>\n",
       "      <td>34</td>\n",
       "      <td>19</td>\n",
       "      <td>72341</td>\n",
       "      <td>\\Anthemideae\\</td>\n",
       "      <td>16</td>\n",
       "      <td>2017-03-29 18:35:54</td>\n",
       "      <td>2017-03-29 18:35:54</td>\n",
       "    </tr>\n",
       "    <tr>\n",
       "      <th>51</th>\n",
       "      <td>52</td>\n",
       "      <td>37</td>\n",
       "      <td>3821</td>\n",
       "      <td>\\Phaseoleae\\</td>\n",
       "      <td>16</td>\n",
       "      <td>2017-03-29 18:35:54</td>\n",
       "      <td>2017-03-29 18:35:54</td>\n",
       "    </tr>\n",
       "    <tr>\n",
       "      <th>68</th>\n",
       "      <td>69</td>\n",
       "      <td>54</td>\n",
       "      <td>2708</td>\n",
       "      <td>\\Citrus\\</td>\n",
       "      <td>16</td>\n",
       "      <td>2017-03-29 18:35:54</td>\n",
       "      <td>2017-03-29 18:35:54</td>\n",
       "    </tr>\n",
       "    <tr>\n",
       "      <th>84</th>\n",
       "      <td>85</td>\n",
       "      <td>70</td>\n",
       "      <td>66014</td>\n",
       "      <td>\\Cymbopogon\\</td>\n",
       "      <td>16</td>\n",
       "      <td>2017-03-29 18:35:54</td>\n",
       "      <td>2017-03-29 18:35:54</td>\n",
       "    </tr>\n",
       "    <tr>\n",
       "      <th>100</th>\n",
       "      <td>101</td>\n",
       "      <td>86</td>\n",
       "      <td>4232</td>\n",
       "      <td>\\Heliantheae alliance\\</td>\n",
       "      <td>16</td>\n",
       "      <td>2017-03-29 18:35:55</td>\n",
       "      <td>2017-03-29 18:35:55</td>\n",
       "    </tr>\n",
       "    <tr>\n",
       "      <th>118</th>\n",
       "      <td>119</td>\n",
       "      <td>104</td>\n",
       "      <td>3869</td>\n",
       "      <td>\\Genisteae\\</td>\n",
       "      <td>16</td>\n",
       "      <td>2017-03-29 18:35:55</td>\n",
       "      <td>2017-03-29 18:35:55</td>\n",
       "    </tr>\n",
       "    <tr>\n",
       "      <th>135</th>\n",
       "      <td>136</td>\n",
       "      <td>121</td>\n",
       "      <td>4146</td>\n",
       "      <td>\\Olea\\</td>\n",
       "      <td>16</td>\n",
       "      <td>2017-03-29 18:35:55</td>\n",
       "      <td>2017-03-29 18:35:55</td>\n",
       "    </tr>\n",
       "    <tr>\n",
       "      <th>151</th>\n",
       "      <td>152</td>\n",
       "      <td>137</td>\n",
       "      <td>271192</td>\n",
       "      <td>\\apioid superclade\\</td>\n",
       "      <td>16</td>\n",
       "      <td>2017-03-29 18:35:56</td>\n",
       "      <td>2017-03-29 18:35:56</td>\n",
       "    </tr>\n",
       "    <tr>\n",
       "      <th>182</th>\n",
       "      <td>183</td>\n",
       "      <td>168</td>\n",
       "      <td>49988</td>\n",
       "      <td>\\Mentheae\\</td>\n",
       "      <td>16</td>\n",
       "      <td>2017-03-29 18:35:56</td>\n",
       "      <td>2017-03-29 18:35:56</td>\n",
       "    </tr>\n",
       "    <tr>\n",
       "      <th>199</th>\n",
       "      <td>200</td>\n",
       "      <td>185</td>\n",
       "      <td>172266</td>\n",
       "      <td>\\Tilia\\</td>\n",
       "      <td>16</td>\n",
       "      <td>2017-03-29 18:35:56</td>\n",
       "      <td>2017-03-29 18:35:56</td>\n",
       "    </tr>\n",
       "    <tr>\n",
       "      <th>215</th>\n",
       "      <td>216</td>\n",
       "      <td>201</td>\n",
       "      <td>87088</td>\n",
       "      <td>\\Phaseoleae\\</td>\n",
       "      <td>16</td>\n",
       "      <td>2017-03-29 18:35:57</td>\n",
       "      <td>2017-03-29 18:35:57</td>\n",
       "    </tr>\n",
       "    <tr>\n",
       "      <th>232</th>\n",
       "      <td>233</td>\n",
       "      <td>218</td>\n",
       "      <td>176259</td>\n",
       "      <td>\\Vaccinium\\</td>\n",
       "      <td>16</td>\n",
       "      <td>2017-03-29 18:35:57</td>\n",
       "      <td>2017-03-29 18:35:57</td>\n",
       "    </tr>\n",
       "    <tr>\n",
       "      <th>263</th>\n",
       "      <td>264</td>\n",
       "      <td>249</td>\n",
       "      <td>941588</td>\n",
       "      <td>\\apioid superclade\\</td>\n",
       "      <td>16</td>\n",
       "      <td>2017-03-29 18:35:58</td>\n",
       "      <td>2017-03-29 18:35:58</td>\n",
       "    </tr>\n",
       "    <tr>\n",
       "      <th>356</th>\n",
       "      <td>357</td>\n",
       "      <td>342</td>\n",
       "      <td>80720</td>\n",
       "      <td>\\Gadidae\\</td>\n",
       "      <td>16</td>\n",
       "      <td>2017-03-29 18:35:59</td>\n",
       "      <td>2017-03-29 18:35:59</td>\n",
       "    </tr>\n",
       "    <tr>\n",
       "      <th>417</th>\n",
       "      <td>418</td>\n",
       "      <td>403</td>\n",
       "      <td>225387</td>\n",
       "      <td>\\Hexagrammidae\\</td>\n",
       "      <td>16</td>\n",
       "      <td>2017-03-29 18:36:00</td>\n",
       "      <td>2017-03-29 18:36:00</td>\n",
       "    </tr>\n",
       "    <tr>\n",
       "      <th>434</th>\n",
       "      <td>435</td>\n",
       "      <td>420</td>\n",
       "      <td>3728</td>\n",
       "      <td>\\Sinapis\\</td>\n",
       "      <td>16</td>\n",
       "      <td>2017-03-29 18:36:00</td>\n",
       "      <td>2017-03-29 18:36:00</td>\n",
       "    </tr>\n",
       "    <tr>\n",
       "      <th>450</th>\n",
       "      <td>451</td>\n",
       "      <td>436</td>\n",
       "      <td>40321</td>\n",
       "      <td>\\Capsiceae\\</td>\n",
       "      <td>16</td>\n",
       "      <td>2017-03-29 18:36:00</td>\n",
       "      <td>2017-03-29 18:36:00</td>\n",
       "    </tr>\n",
       "    <tr>\n",
       "      <th>480</th>\n",
       "      <td>481</td>\n",
       "      <td>466</td>\n",
       "      <td>59499</td>\n",
       "      <td>\\Rosoideae unplaced\\</td>\n",
       "      <td>16</td>\n",
       "      <td>2017-03-29 18:36:00</td>\n",
       "      <td>2017-03-29 18:36:00</td>\n",
       "    </tr>\n",
       "    <tr>\n",
       "      <th>541</th>\n",
       "      <td>542</td>\n",
       "      <td>527</td>\n",
       "      <td>8267</td>\n",
       "      <td>\\Hippoglossus\\</td>\n",
       "      <td>16</td>\n",
       "      <td>2017-03-29 18:36:01</td>\n",
       "      <td>2017-03-29 18:36:01</td>\n",
       "    </tr>\n",
       "    <tr>\n",
       "      <th>613</th>\n",
       "      <td>614</td>\n",
       "      <td>599</td>\n",
       "      <td>8101</td>\n",
       "      <td>\\Cyclopteridae\\</td>\n",
       "      <td>16</td>\n",
       "      <td>2017-03-29 18:36:02</td>\n",
       "      <td>2017-03-29 18:36:02</td>\n",
       "    </tr>\n",
       "    <tr>\n",
       "      <th>680</th>\n",
       "      <td>681</td>\n",
       "      <td>748</td>\n",
       "      <td>183260</td>\n",
       "      <td>\\Hibiscus\\</td>\n",
       "      <td>16</td>\n",
       "      <td>2017-03-29 18:36:03</td>\n",
       "      <td>2017-03-29 18:36:03</td>\n",
       "    </tr>\n",
       "    <tr>\n",
       "      <th>704</th>\n",
       "      <td>705</td>\n",
       "      <td>786</td>\n",
       "      <td>61886</td>\n",
       "      <td>\\Cucumis\\</td>\n",
       "      <td>16</td>\n",
       "      <td>2017-03-29 18:36:04</td>\n",
       "      <td>2017-03-29 18:36:04</td>\n",
       "    </tr>\n",
       "    <tr>\n",
       "      <th>720</th>\n",
       "      <td>721</td>\n",
       "      <td>797</td>\n",
       "      <td>138011</td>\n",
       "      <td>\\Brassica\\</td>\n",
       "      <td>16</td>\n",
       "      <td>2017-03-29 18:36:04</td>\n",
       "      <td>2017-03-29 18:36:04</td>\n",
       "    </tr>\n",
       "    <tr>\n",
       "      <th>749</th>\n",
       "      <td>750</td>\n",
       "      <td>799</td>\n",
       "      <td>108881</td>\n",
       "      <td>\\Theobroma\\</td>\n",
       "      <td>16</td>\n",
       "      <td>2017-03-29 18:36:04</td>\n",
       "      <td>2017-03-29 18:36:04</td>\n",
       "    </tr>\n",
       "    <tr>\n",
       "      <th>820</th>\n",
       "      <td>821</td>\n",
       "      <td>814</td>\n",
       "      <td>227725</td>\n",
       "      <td>\\Solaneae\\</td>\n",
       "      <td>16</td>\n",
       "      <td>2017-03-29 18:36:05</td>\n",
       "      <td>2017-03-29 18:36:05</td>\n",
       "    </tr>\n",
       "    <tr>\n",
       "      <th>837</th>\n",
       "      <td>838</td>\n",
       "      <td>849</td>\n",
       "      <td>153159</td>\n",
       "      <td>\\Heliantheae alliance\\</td>\n",
       "      <td>16</td>\n",
       "      <td>2017-03-29 18:36:05</td>\n",
       "      <td>2017-03-29 18:36:05</td>\n",
       "    </tr>\n",
       "    <tr>\n",
       "      <th>871</th>\n",
       "      <td>872</td>\n",
       "      <td>879</td>\n",
       "      <td>113210</td>\n",
       "      <td>\\Capsiceae\\</td>\n",
       "      <td>16</td>\n",
       "      <td>2017-03-29 18:36:05</td>\n",
       "      <td>2017-03-29 18:36:05</td>\n",
       "    </tr>\n",
       "    <tr>\n",
       "      <th>901</th>\n",
       "      <td>902</td>\n",
       "      <td>887</td>\n",
       "      <td>3705</td>\n",
       "      <td>\\Brassica\\</td>\n",
       "      <td>16</td>\n",
       "      <td>2017-03-29 18:36:06</td>\n",
       "      <td>2017-03-29 18:36:06</td>\n",
       "    </tr>\n",
       "    <tr>\n",
       "      <th>917</th>\n",
       "      <td>918</td>\n",
       "      <td>909</td>\n",
       "      <td>4072</td>\n",
       "      <td>\\Capsiceae\\</td>\n",
       "      <td>16</td>\n",
       "      <td>2017-03-29 18:36:06</td>\n",
       "      <td>2017-03-29 18:36:06</td>\n",
       "    </tr>\n",
       "  </tbody>\n",
       "</table>\n",
       "</div>"
      ],
      "text/plain": [
       "      id food_id ncbi_taxonomy_id     classification_name  \\\n",
       "15    16       1           357850     \\apioid superclade\\   \n",
       "33    34      19            72341           \\Anthemideae\\   \n",
       "51    52      37             3821            \\Phaseoleae\\   \n",
       "68    69      54             2708                \\Citrus\\   \n",
       "84    85      70            66014            \\Cymbopogon\\   \n",
       "100  101      86             4232  \\Heliantheae alliance\\   \n",
       "118  119     104             3869             \\Genisteae\\   \n",
       "135  136     121             4146                  \\Olea\\   \n",
       "151  152     137           271192     \\apioid superclade\\   \n",
       "182  183     168            49988              \\Mentheae\\   \n",
       "199  200     185           172266                 \\Tilia\\   \n",
       "215  216     201            87088            \\Phaseoleae\\   \n",
       "232  233     218           176259             \\Vaccinium\\   \n",
       "263  264     249           941588     \\apioid superclade\\   \n",
       "356  357     342            80720               \\Gadidae\\   \n",
       "417  418     403           225387         \\Hexagrammidae\\   \n",
       "434  435     420             3728               \\Sinapis\\   \n",
       "450  451     436            40321             \\Capsiceae\\   \n",
       "480  481     466            59499    \\Rosoideae unplaced\\   \n",
       "541  542     527             8267          \\Hippoglossus\\   \n",
       "613  614     599             8101         \\Cyclopteridae\\   \n",
       "680  681     748           183260              \\Hibiscus\\   \n",
       "704  705     786            61886               \\Cucumis\\   \n",
       "720  721     797           138011              \\Brassica\\   \n",
       "749  750     799           108881             \\Theobroma\\   \n",
       "820  821     814           227725              \\Solaneae\\   \n",
       "837  838     849           153159  \\Heliantheae alliance\\   \n",
       "871  872     879           113210             \\Capsiceae\\   \n",
       "901  902     887             3705              \\Brassica\\   \n",
       "917  918     909             4072             \\Capsiceae\\   \n",
       "\n",
       "    classification_order           created_at           updated_at  \n",
       "15                    16  2017-03-29 18:35:53  2017-03-29 18:35:53  \n",
       "33                    16  2017-03-29 18:35:54  2017-03-29 18:35:54  \n",
       "51                    16  2017-03-29 18:35:54  2017-03-29 18:35:54  \n",
       "68                    16  2017-03-29 18:35:54  2017-03-29 18:35:54  \n",
       "84                    16  2017-03-29 18:35:54  2017-03-29 18:35:54  \n",
       "100                   16  2017-03-29 18:35:55  2017-03-29 18:35:55  \n",
       "118                   16  2017-03-29 18:35:55  2017-03-29 18:35:55  \n",
       "135                   16  2017-03-29 18:35:55  2017-03-29 18:35:55  \n",
       "151                   16  2017-03-29 18:35:56  2017-03-29 18:35:56  \n",
       "182                   16  2017-03-29 18:35:56  2017-03-29 18:35:56  \n",
       "199                   16  2017-03-29 18:35:56  2017-03-29 18:35:56  \n",
       "215                   16  2017-03-29 18:35:57  2017-03-29 18:35:57  \n",
       "232                   16  2017-03-29 18:35:57  2017-03-29 18:35:57  \n",
       "263                   16  2017-03-29 18:35:58  2017-03-29 18:35:58  \n",
       "356                   16  2017-03-29 18:35:59  2017-03-29 18:35:59  \n",
       "417                   16  2017-03-29 18:36:00  2017-03-29 18:36:00  \n",
       "434                   16  2017-03-29 18:36:00  2017-03-29 18:36:00  \n",
       "450                   16  2017-03-29 18:36:00  2017-03-29 18:36:00  \n",
       "480                   16  2017-03-29 18:36:00  2017-03-29 18:36:00  \n",
       "541                   16  2017-03-29 18:36:01  2017-03-29 18:36:01  \n",
       "613                   16  2017-03-29 18:36:02  2017-03-29 18:36:02  \n",
       "680                   16  2017-03-29 18:36:03  2017-03-29 18:36:03  \n",
       "704                   16  2017-03-29 18:36:04  2017-03-29 18:36:04  \n",
       "720                   16  2017-03-29 18:36:04  2017-03-29 18:36:04  \n",
       "749                   16  2017-03-29 18:36:04  2017-03-29 18:36:04  \n",
       "820                   16  2017-03-29 18:36:05  2017-03-29 18:36:05  \n",
       "837                   16  2017-03-29 18:36:05  2017-03-29 18:36:05  \n",
       "871                   16  2017-03-29 18:36:05  2017-03-29 18:36:05  \n",
       "901                   16  2017-03-29 18:36:06  2017-03-29 18:36:06  \n",
       "917                   16  2017-03-29 18:36:06  2017-03-29 18:36:06  "
      ]
     },
     "execution_count": 93,
     "metadata": {},
     "output_type": "execute_result"
    }
   ],
   "source": [
    "food_taxonomies[food_taxonomies['classification_order'] == '16']"
   ]
  },
  {
   "cell_type": "code",
   "execution_count": 95,
   "metadata": {},
   "outputs": [
    {
     "data": {
      "text/plain": [
       "271192    18\n",
       "72341     18\n",
       "941588    18\n",
       "153159    18\n",
       "4232      18\n",
       "357850    18\n",
       "227725    17\n",
       "3869      17\n",
       "49988     17\n",
       "4072      17\n",
       "87088     17\n",
       "113210    17\n",
       "225387    17\n",
       "59499     17\n",
       "40321     17\n",
       "80720     17\n",
       "3821      17\n",
       "66014     16\n",
       "8267      16\n",
       "4146      16\n",
       "172266    16\n",
       "61886     16\n",
       "108881    16\n",
       "8101      16\n",
       "3705      16\n",
       "176259    16\n",
       "138011    16\n",
       "3728      16\n",
       "183260    16\n",
       "2708      16\n",
       "          ..\n",
       "151071    15\n",
       "9940      15\n",
       "29965     15\n",
       "8113      15\n",
       "271940    15\n",
       "292385    15\n",
       "59837     14\n",
       "348707    14\n",
       "8033      14\n",
       "385388    14\n",
       "9749      14\n",
       "3603      14\n",
       "8469      14\n",
       "8014      13\n",
       "175226    13\n",
       "4682      13\n",
       "78511     13\n",
       "3564      13\n",
       "8252      13\n",
       "145700    13\n",
       "77113     11\n",
       "224910    11\n",
       "49314     11\n",
       "5341      10\n",
       "6452       9\n",
       "5192       8\n",
       "7713       5\n",
       "6448       5\n",
       "6544       5\n",
       "2763       2\n",
       "Name: ncbi_taxonomy_id, Length: 64, dtype: int64"
      ]
     },
     "execution_count": 95,
     "metadata": {},
     "output_type": "execute_result"
    }
   ],
   "source": [
    "food_taxonomies['ncbi_taxonomy_id'].value_counts()"
   ]
  },
  {
   "cell_type": "code",
   "execution_count": 96,
   "metadata": {},
   "outputs": [
    {
     "data": {
      "text/html": [
       "<div>\n",
       "<style scoped>\n",
       "    .dataframe tbody tr th:only-of-type {\n",
       "        vertical-align: middle;\n",
       "    }\n",
       "\n",
       "    .dataframe tbody tr th {\n",
       "        vertical-align: top;\n",
       "    }\n",
       "\n",
       "    .dataframe thead th {\n",
       "        text-align: right;\n",
       "    }\n",
       "</style>\n",
       "<table border=\"1\" class=\"dataframe\">\n",
       "  <thead>\n",
       "    <tr style=\"text-align: right;\">\n",
       "      <th></th>\n",
       "      <th>id</th>\n",
       "      <th>food_id</th>\n",
       "      <th>ncbi_taxonomy_id</th>\n",
       "      <th>classification_name</th>\n",
       "      <th>classification_order</th>\n",
       "      <th>created_at</th>\n",
       "      <th>updated_at</th>\n",
       "    </tr>\n",
       "  </thead>\n",
       "  <tbody>\n",
       "    <tr>\n",
       "      <th>681</th>\n",
       "      <td>682</td>\n",
       "      <td>756</td>\n",
       "      <td>5192</td>\n",
       "      <td>\\Eukaryota\\</td>\n",
       "      <td>1</td>\n",
       "      <td>2017-03-29 18:36:03</td>\n",
       "      <td>2017-03-29 18:36:03</td>\n",
       "    </tr>\n",
       "    <tr>\n",
       "      <th>682</th>\n",
       "      <td>683</td>\n",
       "      <td>756</td>\n",
       "      <td>5192</td>\n",
       "      <td>\\Fungi\\</td>\n",
       "      <td>2</td>\n",
       "      <td>2017-03-29 18:36:03</td>\n",
       "      <td>2017-03-29 18:36:03</td>\n",
       "    </tr>\n",
       "    <tr>\n",
       "      <th>683</th>\n",
       "      <td>684</td>\n",
       "      <td>756</td>\n",
       "      <td>5192</td>\n",
       "      <td>\\Dikarya\\</td>\n",
       "      <td>3</td>\n",
       "      <td>2017-03-29 18:36:03</td>\n",
       "      <td>2017-03-29 18:36:03</td>\n",
       "    </tr>\n",
       "    <tr>\n",
       "      <th>684</th>\n",
       "      <td>685</td>\n",
       "      <td>756</td>\n",
       "      <td>5192</td>\n",
       "      <td>\\Ascomycota\\</td>\n",
       "      <td>4</td>\n",
       "      <td>2017-03-29 18:36:03</td>\n",
       "      <td>2017-03-29 18:36:03</td>\n",
       "    </tr>\n",
       "    <tr>\n",
       "      <th>685</th>\n",
       "      <td>686</td>\n",
       "      <td>756</td>\n",
       "      <td>5192</td>\n",
       "      <td>\\Pezizomycotina\\</td>\n",
       "      <td>5</td>\n",
       "      <td>2017-03-29 18:36:03</td>\n",
       "      <td>2017-03-29 18:36:03</td>\n",
       "    </tr>\n",
       "    <tr>\n",
       "      <th>686</th>\n",
       "      <td>687</td>\n",
       "      <td>756</td>\n",
       "      <td>5192</td>\n",
       "      <td>\\Pezizomycetes\\</td>\n",
       "      <td>6</td>\n",
       "      <td>2017-03-29 18:36:03</td>\n",
       "      <td>2017-03-29 18:36:03</td>\n",
       "    </tr>\n",
       "    <tr>\n",
       "      <th>687</th>\n",
       "      <td>688</td>\n",
       "      <td>756</td>\n",
       "      <td>5192</td>\n",
       "      <td>\\Pezizales\\</td>\n",
       "      <td>7</td>\n",
       "      <td>2017-03-29 18:36:03</td>\n",
       "      <td>2017-03-29 18:36:03</td>\n",
       "    </tr>\n",
       "    <tr>\n",
       "      <th>688</th>\n",
       "      <td>689</td>\n",
       "      <td>756</td>\n",
       "      <td>5192</td>\n",
       "      <td>\\Morchellaceae\\</td>\n",
       "      <td>8</td>\n",
       "      <td>2017-03-29 18:36:03</td>\n",
       "      <td>2017-03-29 18:36:03</td>\n",
       "    </tr>\n",
       "  </tbody>\n",
       "</table>\n",
       "</div>"
      ],
      "text/plain": [
       "      id food_id ncbi_taxonomy_id classification_name classification_order  \\\n",
       "681  682     756             5192         \\Eukaryota\\                    1   \n",
       "682  683     756             5192             \\Fungi\\                    2   \n",
       "683  684     756             5192           \\Dikarya\\                    3   \n",
       "684  685     756             5192        \\Ascomycota\\                    4   \n",
       "685  686     756             5192    \\Pezizomycotina\\                    5   \n",
       "686  687     756             5192     \\Pezizomycetes\\                    6   \n",
       "687  688     756             5192         \\Pezizales\\                    7   \n",
       "688  689     756             5192     \\Morchellaceae\\                    8   \n",
       "\n",
       "              created_at           updated_at  \n",
       "681  2017-03-29 18:36:03  2017-03-29 18:36:03  \n",
       "682  2017-03-29 18:36:03  2017-03-29 18:36:03  \n",
       "683  2017-03-29 18:36:03  2017-03-29 18:36:03  \n",
       "684  2017-03-29 18:36:03  2017-03-29 18:36:03  \n",
       "685  2017-03-29 18:36:03  2017-03-29 18:36:03  \n",
       "686  2017-03-29 18:36:03  2017-03-29 18:36:03  \n",
       "687  2017-03-29 18:36:03  2017-03-29 18:36:03  \n",
       "688  2017-03-29 18:36:03  2017-03-29 18:36:03  "
      ]
     },
     "execution_count": 96,
     "metadata": {},
     "output_type": "execute_result"
    }
   ],
   "source": [
    "food_taxonomies[food_taxonomies['ncbi_taxonomy_id'] == '5192']"
   ]
  },
  {
   "cell_type": "code",
   "execution_count": 99,
   "metadata": {
    "collapsed": true
   },
   "outputs": [
    {
     "data": {
      "text/plain": [
       "19     18\n",
       "137    18\n",
       "249    18\n",
       "849    18\n",
       "86     18\n",
       "1      18\n",
       "168    17\n",
       "342    17\n",
       "104    17\n",
       "466    17\n",
       "201    17\n",
       "436    17\n",
       "37     17\n",
       "909    17\n",
       "814    17\n",
       "403    17\n",
       "879    17\n",
       "887    16\n",
       "797    16\n",
       "527    16\n",
       "599    16\n",
       "54     16\n",
       "121    16\n",
       "786    16\n",
       "70     16\n",
       "799    16\n",
       "185    16\n",
       "420    16\n",
       "218    16\n",
       "748    16\n",
       "       ..\n",
       "388    15\n",
       "483    15\n",
       "359    15\n",
       "316    15\n",
       "723    15\n",
       "622    15\n",
       "513    14\n",
       "801    14\n",
       "726    14\n",
       "374    14\n",
       "302    14\n",
       "571    14\n",
       "585    14\n",
       "267    13\n",
       "453    13\n",
       "880    13\n",
       "289    13\n",
       "155    13\n",
       "548    13\n",
       "798    13\n",
       "802    11\n",
       "331    11\n",
       "863    11\n",
       "561    10\n",
       "280     9\n",
       "756     8\n",
       "617     5\n",
       "861     5\n",
       "544     5\n",
       "615     2\n",
       "Name: food_id, Length: 64, dtype: int64"
      ]
     },
     "execution_count": 99,
     "metadata": {},
     "output_type": "execute_result"
    }
   ],
   "source": [
    "food_taxonomies['food_id'].value_counts()"
   ]
  },
  {
   "cell_type": "markdown",
   "metadata": {},
   "source": [
    "### Disappointed to discover that the full taxonomy is apparently only available for 64 foods in the foods table.\n",
    "\n",
    "### Drop id, created_at, updated_at. \n",
    "\n",
    "Keep food_id INTEGER foreign key, ncbi_taxonomy_id INTEGER, classification_name TEXT, classification_order INTEGER"
   ]
  },
  {
   "cell_type": "markdown",
   "metadata": {},
   "source": [
    "<a id = 'test_query_ft'></a>"
   ]
  },
  {
   "cell_type": "markdown",
   "metadata": {},
   "source": [
    "### Test query for food taxonomies to see how they'll look"
   ]
  },
  {
   "cell_type": "code",
   "execution_count": 119,
   "metadata": {},
   "outputs": [
    {
     "name": "stdout",
     "output_type": "stream",
     "text": [
      "2019-03-15 14:18:28,726 INFO sqlalchemy.engine.base.Engine SELECT f.name, f.name_scientific,\n",
      "                            ft.classification_name, \n",
      "                            ft.classification_order\n",
      "                        FROM food_taxonomies ft\n",
      "                        JOIN foods f ON f.id == ft.food_id\n",
      "                        WHERE ft.food_id == 756\n",
      "\n",
      "                        ORDER BY ft.classification_order\n",
      "                    ;\n"
     ]
    },
    {
     "name": "stderr",
     "output_type": "stream",
     "text": [
      "INFO:sqlalchemy.engine.base.Engine:SELECT f.name, f.name_scientific,\n",
      "                            ft.classification_name, \n",
      "                            ft.classification_order\n",
      "                        FROM food_taxonomies ft\n",
      "                        JOIN foods f ON f.id == ft.food_id\n",
      "                        WHERE ft.food_id == 756\n",
      "\n",
      "                        ORDER BY ft.classification_order\n",
      "                    ;\n"
     ]
    },
    {
     "name": "stdout",
     "output_type": "stream",
     "text": [
      "2019-03-15 14:18:28,736 INFO sqlalchemy.engine.base.Engine ()\n"
     ]
    },
    {
     "name": "stderr",
     "output_type": "stream",
     "text": [
      "INFO:sqlalchemy.engine.base.Engine:()\n"
     ]
    },
    {
     "data": {
      "text/html": [
       "<div>\n",
       "<style scoped>\n",
       "    .dataframe tbody tr th:only-of-type {\n",
       "        vertical-align: middle;\n",
       "    }\n",
       "\n",
       "    .dataframe tbody tr th {\n",
       "        vertical-align: top;\n",
       "    }\n",
       "\n",
       "    .dataframe thead th {\n",
       "        text-align: right;\n",
       "    }\n",
       "</style>\n",
       "<table border=\"1\" class=\"dataframe\">\n",
       "  <thead>\n",
       "    <tr style=\"text-align: right;\">\n",
       "      <th></th>\n",
       "      <th>name</th>\n",
       "      <th>name_scientific</th>\n",
       "      <th>classification_name</th>\n",
       "      <th>classification_order</th>\n",
       "    </tr>\n",
       "  </thead>\n",
       "  <tbody>\n",
       "    <tr>\n",
       "      <th>0</th>\n",
       "      <td>Morchella (Morel)</td>\n",
       "      <td>Morchellaceae</td>\n",
       "      <td>\\Eukaryota\\</td>\n",
       "      <td>1</td>\n",
       "    </tr>\n",
       "    <tr>\n",
       "      <th>1</th>\n",
       "      <td>Morchella (Morel)</td>\n",
       "      <td>Morchellaceae</td>\n",
       "      <td>\\Fungi\\</td>\n",
       "      <td>2</td>\n",
       "    </tr>\n",
       "    <tr>\n",
       "      <th>2</th>\n",
       "      <td>Morchella (Morel)</td>\n",
       "      <td>Morchellaceae</td>\n",
       "      <td>\\Dikarya\\</td>\n",
       "      <td>3</td>\n",
       "    </tr>\n",
       "    <tr>\n",
       "      <th>3</th>\n",
       "      <td>Morchella (Morel)</td>\n",
       "      <td>Morchellaceae</td>\n",
       "      <td>\\Ascomycota\\</td>\n",
       "      <td>4</td>\n",
       "    </tr>\n",
       "    <tr>\n",
       "      <th>4</th>\n",
       "      <td>Morchella (Morel)</td>\n",
       "      <td>Morchellaceae</td>\n",
       "      <td>\\Pezizomycotina\\</td>\n",
       "      <td>5</td>\n",
       "    </tr>\n",
       "    <tr>\n",
       "      <th>5</th>\n",
       "      <td>Morchella (Morel)</td>\n",
       "      <td>Morchellaceae</td>\n",
       "      <td>\\Pezizomycetes\\</td>\n",
       "      <td>6</td>\n",
       "    </tr>\n",
       "    <tr>\n",
       "      <th>6</th>\n",
       "      <td>Morchella (Morel)</td>\n",
       "      <td>Morchellaceae</td>\n",
       "      <td>\\Pezizales\\</td>\n",
       "      <td>7</td>\n",
       "    </tr>\n",
       "    <tr>\n",
       "      <th>7</th>\n",
       "      <td>Morchella (Morel)</td>\n",
       "      <td>Morchellaceae</td>\n",
       "      <td>\\Morchellaceae\\</td>\n",
       "      <td>8</td>\n",
       "    </tr>\n",
       "  </tbody>\n",
       "</table>\n",
       "</div>"
      ],
      "text/plain": [
       "                name name_scientific classification_name  classification_order\n",
       "0  Morchella (Morel)   Morchellaceae         \\Eukaryota\\                     1\n",
       "1  Morchella (Morel)   Morchellaceae             \\Fungi\\                     2\n",
       "2  Morchella (Morel)   Morchellaceae           \\Dikarya\\                     3\n",
       "3  Morchella (Morel)   Morchellaceae        \\Ascomycota\\                     4\n",
       "4  Morchella (Morel)   Morchellaceae    \\Pezizomycotina\\                     5\n",
       "5  Morchella (Morel)   Morchellaceae     \\Pezizomycetes\\                     6\n",
       "6  Morchella (Morel)   Morchellaceae         \\Pezizales\\                     7\n",
       "7  Morchella (Morel)   Morchellaceae     \\Morchellaceae\\                     8"
      ]
     },
     "execution_count": 119,
     "metadata": {},
     "output_type": "execute_result"
    }
   ],
   "source": [
    "pd.read_sql_query('''SELECT f.name, f.name_scientific,\n",
    "                            ft.classification_name, \n",
    "                            ft.classification_order\n",
    "                        FROM food_taxonomies ft\n",
    "                        JOIN foods f ON f.id == ft.food_id\n",
    "                        WHERE ft.food_id == 756\n",
    "\n",
    "                        ORDER BY ft.classification_order\n",
    "                    ;''', engine)"
   ]
  },
  {
   "cell_type": "markdown",
   "metadata": {},
   "source": [
    "# Exploratory data analysis\n",
    "## foodcomex compound providers  table"
   ]
  },
  {
   "cell_type": "code",
   "execution_count": null,
   "metadata": {},
   "outputs": [],
   "source": [
    "foodcomex_compound_providers = pd.read_sql_query('''SELECT fcp.* \n",
    "                            FROM foodcomex_compound_providers fcp\n",
    "                            ;''', engine)"
   ]
  },
  {
   "cell_type": "markdown",
   "metadata": {},
   "source": [
    "# Exploratory data analysis\n",
    "## foodcomex compounds  table"
   ]
  },
  {
   "cell_type": "code",
   "execution_count": null,
   "metadata": {},
   "outputs": [],
   "source": [
    "foodcomex_compounds = pd.read_sql_query('''SELECT fc.* \n",
    "                            FROM foodcomex_compounds fc\n",
    "                            ;''', engine)"
   ]
  },
  {
   "cell_type": "markdown",
   "metadata": {},
   "source": [
    "# Exploratory data analysis\n",
    "## compounds table"
   ]
  },
  {
   "cell_type": "code",
   "execution_count": null,
   "metadata": {},
   "outputs": [],
   "source": [
    "compounds = pd.read_sql_query('''SELECT c.* \n",
    "                            FROM compounds c\n",
    "                            ;''', engine)"
   ]
  },
  {
   "cell_type": "markdown",
   "metadata": {},
   "source": [
    "# Exploratory data analysis\n",
    "## compound alternate parents table"
   ]
  },
  {
   "cell_type": "code",
   "execution_count": null,
   "metadata": {},
   "outputs": [],
   "source": [
    "compound_alternate_parents = pd.read_sql_query('''SELECT cap.* \n",
    "                            FROM compounds_alternate_parents cap\n",
    "                            ;''', engine)"
   ]
  },
  {
   "cell_type": "markdown",
   "metadata": {},
   "source": [
    "# Exploratory data analysis\n",
    "## compound external descriptors"
   ]
  },
  {
   "cell_type": "code",
   "execution_count": null,
   "metadata": {},
   "outputs": [],
   "source": [
    "compound_external_descriptors = pd.read_sql_query('''SELECT ced.* \n",
    "                            FROM compound_external_descriptors ced\n",
    "                            ;''', engine)"
   ]
  },
  {
   "cell_type": "markdown",
   "metadata": {},
   "source": [
    "# Exploratory data analysis\n",
    "## compound substituents"
   ]
  },
  {
   "cell_type": "code",
   "execution_count": null,
   "metadata": {},
   "outputs": [],
   "source": [
    "compound_substituents = pd.read_sql_query('''SELECT csu.* \n",
    "                            FROM compound_substituents csu\n",
    "                            ;''', engine)"
   ]
  },
  {
   "cell_type": "markdown",
   "metadata": {},
   "source": [
    "# Exploratory data analysis\n",
    "## compound synonyms table"
   ]
  },
  {
   "cell_type": "code",
   "execution_count": null,
   "metadata": {},
   "outputs": [],
   "source": [
    "compound_synonyms = pd.read_sql_query('''SELECT csy.* \n",
    "                            FROM compound_synonyms csy\n",
    "                            ;''', engine)"
   ]
  },
  {
   "cell_type": "code",
   "execution_count": null,
   "metadata": {},
   "outputs": [],
   "source": [
    "['compound_alternate_parents',\n",
    " 'compound_external_descriptors',\n",
    " 'compound_substituents',\n",
    " 'compound_synonyms',\n",
    " 'compounds',\n",
    " 'compounds_enzymes',\n",
    " 'compounds_flavors',\n",
    " 'compounds_health_effects',\n",
    " 'compounds_pathways',\n",
    " 'enzymes',\n",
    " 'flavors',\n",
    " 'food_taxonomies',\n",
    " 'foodcomex_compound_providers',\n",
    " 'foodcomex_compounds',\n",
    " 'foods',\n",
    " 'health_effects',\n",
    " 'nutrients',\n",
    " 'pathways',\n",
    " 'references']"
   ]
  },
  {
   "cell_type": "markdown",
   "metadata": {},
   "source": [
    "# Exploratory data analysis\n",
    "## compounds enzymes table"
   ]
  },
  {
   "cell_type": "code",
   "execution_count": null,
   "metadata": {},
   "outputs": [],
   "source": [
    "compounds_enzymes = pd.read_sql_query('''SELECT ce.* \n",
    "                            FROM compounds_enzymes ce\n",
    "                            ;''', engine)"
   ]
  },
  {
   "cell_type": "markdown",
   "metadata": {},
   "source": [
    "# Exploratory data analysis\n",
    "## compounds flavors table"
   ]
  },
  {
   "cell_type": "code",
   "execution_count": null,
   "metadata": {},
   "outputs": [],
   "source": [
    "compounds_flavors = pd.read_sql_query('''SELECT cf.* \n",
    "                            FROM compounds_flavors cf\n",
    "                            ;''', engine)"
   ]
  },
  {
   "cell_type": "markdown",
   "metadata": {},
   "source": [
    "# Exploratory data analysis\n",
    "## compounds health effects table"
   ]
  },
  {
   "cell_type": "code",
   "execution_count": null,
   "metadata": {},
   "outputs": [],
   "source": [
    "compounds_health_effects = pd.read_sql_query('''SELECT che.* \n",
    "                            FROM compounds_health_effects che\n",
    "                            ;''', engine)"
   ]
  },
  {
   "cell_type": "markdown",
   "metadata": {},
   "source": [
    "# Exploratory data analysis\n",
    "## compounds pathways table"
   ]
  },
  {
   "cell_type": "code",
   "execution_count": null,
   "metadata": {},
   "outputs": [],
   "source": [
    "compounds_pathways = pd.read_sql_query('''SELECT cp.* \n",
    "                            FROM compounds_pathways cp\n",
    "                            ;''', engine)"
   ]
  },
  {
   "cell_type": "code",
   "execution_count": null,
   "metadata": {},
   "outputs": [],
   "source": []
  },
  {
   "cell_type": "markdown",
   "metadata": {},
   "source": [
    "<a id = 'droppingcolumns'></a>"
   ]
  },
  {
   "cell_type": "markdown",
   "metadata": {},
   "source": [
    "[(Back to top)](#top)\n",
    "\n",
    "# Dropping columns\n",
    "## Dropping columns from food table"
   ]
  },
  {
   "cell_type": "code",
   "execution_count": null,
   "metadata": {},
   "outputs": [],
   "source": [
    "#### EXAMPLE\n",
    "\n",
    "BEGIN TRANSACTION;\n",
    " \n",
    "ALTER TABLE table RENAME TO temp_table;\n",
    " \n",
    "CREATE TABLE table\n",
    "( \n",
    "   column_definition,\n",
    "   ...\n",
    ");\n",
    " \n",
    "INSERT INTO table (column_list)\n",
    "  SELECT column_list\n",
    "  FROM temp_table;\n",
    " \n",
    "DROP TABLE temp_table;\n",
    " \n",
    "COMMIT;"
   ]
  },
  {
   "cell_type": "code",
   "execution_count": 5,
   "metadata": {},
   "outputs": [],
   "source": [
    "# connect to db\n",
    "connection = sqlite3.connect('foodb.db')"
   ]
  },
  {
   "cell_type": "code",
   "execution_count": 6,
   "metadata": {},
   "outputs": [],
   "source": [
    "cur = connection.cursor()"
   ]
  },
  {
   "cell_type": "code",
   "execution_count": 23,
   "metadata": {
    "scrolled": true
   },
   "outputs": [
    {
     "data": {
      "text/plain": [
       "[(0, 'id', '', 0, None, 0),\n",
       " (1, 'name', '', 0, None, 0),\n",
       " (2, 'name_scientific', '', 0, None, 0),\n",
       " (3, 'description', '', 0, None, 0),\n",
       " (4, 'itis_id', '', 0, None, 0),\n",
       " (5, 'wikipedia_id', '', 0, None, 0),\n",
       " (6, 'wikipedia_id_img', '', 0, None, 0),\n",
       " (7, 'picture_content_type', '', 0, None, 0),\n",
       " (8, 'picture_file_size', '', 0, None, 0),\n",
       " (9, 'picture_updated_at', '', 0, None, 0),\n",
       " (10, 'legacy_id', '', 0, None, 0),\n",
       " (11, 'food_group', '', 0, None, 0),\n",
       " (12, 'food_subgroup', '', 0, None, 0),\n",
       " (13, 'food_type', '', 0, None, 0),\n",
       " (14, 'created_at', '', 0, None, 0),\n",
       " (15, 'updated_at', '', 0, None, 0),\n",
       " (16, 'creator_id', '', 0, None, 0),\n",
       " (17, 'updater_id', '', 0, None, 0),\n",
       " (18, 'export_to_afcdb', '', 0, None, 0),\n",
       " (19, 'category', '', 0, None, 0),\n",
       " (20, 'ncbi_taxonomy_id', '', 0, None, 0),\n",
       " (21, 'export_to_foodb', '', 0, None, 0)]"
      ]
     },
     "execution_count": 23,
     "metadata": {},
     "output_type": "execute_result"
    }
   ],
   "source": [
    "#Look at columns in foods table\n",
    "cur.execute('''PRAGMA table_info(foods)\n",
    ";''',).fetchall()"
   ]
  },
  {
   "cell_type": "code",
   "execution_count": 12,
   "metadata": {
    "scrolled": true
   },
   "outputs": [
    {
     "data": {
      "text/plain": [
       "<sqlite3.Cursor at 0x8cfd5e0>"
      ]
     },
     "execution_count": 12,
     "metadata": {},
     "output_type": "execute_result"
    }
   ],
   "source": [
    "#Create a new foods table\n",
    "cur.execute('''CREATE TABLE foods_copy\n",
    "                (id INTEGER PRIMARY KEY, name TEXT, name_scientific TEXT, \n",
    "                description TEXT, wikipedia_id TEXT, wikipedia_id_img TEXT,\n",
    "                food_group TEXT, food_subgroup TEXT, food_type TEXT, \n",
    "                category TEXT, ncbi_taxonomy_id INTEGER)\n",
    "            ;''')"
   ]
  },
  {
   "cell_type": "code",
   "execution_count": 14,
   "metadata": {},
   "outputs": [
    {
     "data": {
      "text/plain": [
       "<sqlite3.Cursor at 0x8cfd5e0>"
      ]
     },
     "execution_count": 14,
     "metadata": {},
     "output_type": "execute_result"
    }
   ],
   "source": [
    "#Insert values into columns of new table\n",
    "cur.execute('''INSERT INTO foods_copy\n",
    "                    (id, name, name_scientific, \n",
    "                    description, wikipedia_id, wikipedia_id_img,\n",
    "                    food_group, food_subgroup, food_type, \n",
    "                    category, ncbi_taxonomy_id)\n",
    "                SELECT id, name, name_scientific, \n",
    "                    description, wikipedia_id, wikipedia_id_img, \n",
    "                    food_group, food_subgroup, food_type, \n",
    "                    category, ncbi_taxonomy_id\n",
    "                FROM foods\n",
    "            ;''')"
   ]
  },
  {
   "cell_type": "code",
   "execution_count": 15,
   "metadata": {
    "scrolled": true
   },
   "outputs": [
    {
     "data": {
      "text/plain": [
       "[(1,\n",
       "  'Angelica',\n",
       "  'Angelica keiskei',\n",
       "  'Angelica is a genus of about 60 species of tall biennial and perennial herbs in the family Apiaceae, native to temperate and subarctic regions of the Northern Hemisphere, reaching as far north as Iceland and Lapland. They grow to 1äóñ3 m tall, with large bipinnate leaves and large compound umbels of white or greenish-white flowers. Some species can be found in purple moor and rush pastures.',\n",
       "  'Angelica',\n",
       "  '1.jpg',\n",
       "  'Herbs and Spices',\n",
       "  'Herbs',\n",
       "  'Type 1',\n",
       "  'specific',\n",
       "  357850),\n",
       " (2,\n",
       "  'Savoy cabbage',\n",
       "  'Brassica oleracea var. sabauda',\n",
       "  'Savoy cabbage (Brassica oleracea convar. capitata var. sabauda L. ) is a variety of the cabbage, a cultivar of the plant species Brassica oleracea. Savoy cabbage is a winter vegetable. A variety of the savoy cabbage is the January King Cabbage. Savoy cabbage can be used in a variety of recipes. It pairs well with red wine, apples, spices, horseradish and meat. It can be used for roulades, in stews and soups, as well as roasted plain and drizzled with olive oil. Cabbage that is heavy for its size with leaves that are unblemished and have a bright, fresh look are signs of desirable quality. Whole cabbages are preferred whenever possible as pre-cut or preshredded cabbage has a greatly diminished vitamin content. Peak season for most cabbages runs from November through April. Fresh whole cabbage will keep in the refrigerator for one to six weeks depending on type and variety. Hard green, white or red cabbages will keep the longest while the looser Savoy and Chinese varieties need to be consumed more quickly. It is necessary to keep the outer leaves intact without washing when storing since moisture hastens decay. Cabbage provides fiber, vitamins A, C, K and B6, folate, potassium, manganese, thiamin, calcium, iron and magnesium.',\n",
       "  'Savoy cabbage',\n",
       "  '2.jpg',\n",
       "  'Vegetables',\n",
       "  'Cabbages',\n",
       "  'Type 1',\n",
       "  'specific',\n",
       "  1216010),\n",
       " (3,\n",
       "  'Silver linden',\n",
       "  'Tilia argentea',\n",
       "  'Tilia tomentosa (Silver Lime in the UK and Silver Linden in the US) is a species of Tilia native to southeastern Europe and southwestern Asia, from Hungary and the Balkans east to western Turkey, occurring at moderate altitudes. It is a deciduous tree growing to 20äóñ35 m tall, with a trunk up to 2 m diameter. The leaves are alternately arranged, rounded to triangular-ovate, 4äóñ13\\x8cæcm long and broad with a 2.5äóñ4\\x8cæcm petiole, green and mostly hairless above, densely white tomentose with white hairs below, and with a coarsely toothed margin. The flowers are pale yellow, hermaphrodite, produced in cymes of three to ten in mid to late summer with a pale green subtending leafy bract; they have a strong scent and are pollinated by honeybees. The nectar however contains sugars which cannot be digested by other bees, to whom the tree is somewhat toxic. The fruit is a dry nut-like drupe 8äóñ10\\x8cæmm long, downy, and slightly ribbed.',\n",
       "  'Tilia tomentosa',\n",
       "  '3.jpg',\n",
       "  'Herbs and Spices',\n",
       "  'Herbs',\n",
       "  'Type 1',\n",
       "  'specific',\n",
       "  ''),\n",
       " (4,\n",
       "  'Kiwi',\n",
       "  'Actinidia chinensis',\n",
       "  \"The kiwifruit, often shortened to kiwi in many parts of the world, is the edible berry of a woody vine in the genus Actinidia. The most common cultivar group of kiwifruit ('Hayward') is oval, about the size of a large hen's egg (5?8 centimetres in length and 4.5?5.5 centimetres in diameter). It has a fibrous, dull greenish-brown skin and bright green or golden flesh with rows of tiny, black, edible seeds. The fruit has a soft texture and a sweet but unique flavor, and today is a commercial crop in several countries, such as Italy, New Zealand, Chile, Greece and France.\",\n",
       "  'Kiwifruit',\n",
       "  '4.jpg',\n",
       "  'Fruits',\n",
       "  'Tropical fruits',\n",
       "  'Type 1',\n",
       "  'specific',\n",
       "  3625),\n",
       " (5,\n",
       "  'Allium (Onion)',\n",
       "  'Allium',\n",
       "  'Allium haematochiton is a species of wild onion known by the common name redskin onion. It is native to northern Baja California and southern California. It it grows on the slopes of the coastal hills and mountains, such as those of the Peninsular Ranges, Transverse Ranges, and southern California Coast Ranges.',\n",
       "  'Allium haematochiton',\n",
       "  '5.jpg',\n",
       "  'Vegetables',\n",
       "  'Onion-family vegetables',\n",
       "  'Type 1',\n",
       "  'specific',\n",
       "  4678)]"
      ]
     },
     "execution_count": 15,
     "metadata": {},
     "output_type": "execute_result"
    }
   ],
   "source": [
    "#Check that columns were populated from old table\n",
    "#This function works without committing \n",
    "cur.execute('''SELECT *\n",
    "                FROM foods_copy\n",
    "                LIMIT 5\n",
    "            ;''').fetchall()\n",
    "\n",
    "#Check that columns were populated from old table\n",
    "#Doesn't work before commit. Works after commit.\n",
    "#pd.read_sql_query('''SELECT * \n",
    "#                        FROM foods_copy\n",
    "#                    ;''', engine)"
   ]
  },
  {
   "cell_type": "code",
   "execution_count": 56,
   "metadata": {},
   "outputs": [],
   "source": [
    "foods_copy_Nones = foods_copy['ncbi_taxonomy_id'] == ''"
   ]
  },
  {
   "cell_type": "code",
   "execution_count": 57,
   "metadata": {},
   "outputs": [
    {
     "data": {
      "text/plain": [
       "False    631\n",
       "True     276\n",
       "Name: ncbi_taxonomy_id, dtype: int64"
      ]
     },
     "execution_count": 57,
     "metadata": {},
     "output_type": "execute_result"
    }
   ],
   "source": [
    "foods_copy_Nones.value_counts()"
   ]
  },
  {
   "cell_type": "markdown",
   "metadata": {},
   "source": [
    "Null values are not reading as Null but there are empty values."
   ]
  },
  {
   "cell_type": "code",
   "execution_count": 16,
   "metadata": {},
   "outputs": [
    {
     "data": {
      "text/plain": [
       "[(0, 'id', 'INTEGER', 0, None, 1),\n",
       " (1, 'name', 'TEXT', 0, None, 0),\n",
       " (2, 'name_scientific', 'TEXT', 0, None, 0),\n",
       " (3, 'description', 'TEXT', 0, None, 0),\n",
       " (4, 'wikipedia_id', 'TEXT', 0, None, 0),\n",
       " (5, 'wikipedia_id_img', 'TEXT', 0, None, 0),\n",
       " (6, 'food_group', 'TEXT', 0, None, 0),\n",
       " (7, 'food_subgroup', 'TEXT', 0, None, 0),\n",
       " (8, 'food_type', 'TEXT', 0, None, 0),\n",
       " (9, 'category', 'TEXT', 0, None, 0),\n",
       " (10, 'ncbi_taxonomy_id', 'INTEGER', 0, None, 0)]"
      ]
     },
     "execution_count": 16,
     "metadata": {},
     "output_type": "execute_result"
    }
   ],
   "source": [
    "#Check data types of new table\n",
    "#Works before commit\n",
    "\n",
    "cur.execute('''PRAGMA table_info(foods_copy)\n",
    ";''',).fetchall()\n",
    "\n",
    "#Check data types of new table\n",
    "#Only works after commit\n",
    "#New table dropped 90kb from memory compared to old table\n",
    "#foods_copy = pd.read_sql_query('''SELECT * \n",
    "#                        FROM foods_copy\n",
    "#                    ;''', engine)\n",
    "#foods_copy.info()"
   ]
  },
  {
   "cell_type": "code",
   "execution_count": null,
   "metadata": {},
   "outputs": [],
   "source": [
    "#Check columns of new table\n",
    "cur.execute('''PRAGMA table_info(foods_copy)\n",
    ";''',).fetchall()"
   ]
  },
  {
   "cell_type": "code",
   "execution_count": 17,
   "metadata": {},
   "outputs": [
    {
     "data": {
      "text/plain": [
       "<sqlite3.Cursor at 0x8cfd5e0>"
      ]
     },
     "execution_count": 17,
     "metadata": {},
     "output_type": "execute_result"
    }
   ],
   "source": [
    "#Delete the old table\n",
    "cur.execute('''DROP TABLE foods;''')"
   ]
  },
  {
   "cell_type": "code",
   "execution_count": 18,
   "metadata": {},
   "outputs": [
    {
     "data": {
      "text/plain": [
       "<sqlite3.Cursor at 0x8cfd5e0>"
      ]
     },
     "execution_count": 18,
     "metadata": {},
     "output_type": "execute_result"
    }
   ],
   "source": [
    "#Rename new table to  foods\n",
    "cur.execute('''ALTER TABLE foods_copy\n",
    "                RENAME TO foods\n",
    "                ;''')"
   ]
  },
  {
   "cell_type": "code",
   "execution_count": 19,
   "metadata": {},
   "outputs": [
    {
     "data": {
      "text/plain": [
       "[('compound_alternate_parents',),\n",
       " ('compound_external_descriptors',),\n",
       " ('compound_substituents',),\n",
       " ('compound_synonyms',),\n",
       " ('compounds_enzymes',),\n",
       " ('compounds_flavors',),\n",
       " ('compounds_health_effects',),\n",
       " ('compounds_pathways',),\n",
       " ('compounds',),\n",
       " ('enzymes',),\n",
       " ('flavors',),\n",
       " ('food_taxonomies',),\n",
       " ('foodcomex_compound_providers',),\n",
       " ('foodcomex_compounds',),\n",
       " ('health_effects',),\n",
       " ('nutrients',),\n",
       " ('pathways',),\n",
       " ('references',),\n",
       " ('foods',)]"
      ]
     },
     "execution_count": 19,
     "metadata": {},
     "output_type": "execute_result"
    }
   ],
   "source": [
    "#Check list of tables in database\n",
    "cur.execute('''SELECT name\n",
    "                FROM sqlite_master \n",
    "                WHERE type ='table' \n",
    "                    AND name NOT LIKE 'sqlite_%'\n",
    "            ;''').fetchall()"
   ]
  },
  {
   "cell_type": "code",
   "execution_count": 20,
   "metadata": {},
   "outputs": [
    {
     "data": {
      "text/plain": [
       "[(0, 'id', 'INTEGER', 0, None, 1),\n",
       " (1, 'name', 'TEXT', 0, None, 0),\n",
       " (2, 'name_scientific', 'TEXT', 0, None, 0),\n",
       " (3, 'description', 'TEXT', 0, None, 0),\n",
       " (4, 'wikipedia_id', 'TEXT', 0, None, 0),\n",
       " (5, 'wikipedia_id_img', 'TEXT', 0, None, 0),\n",
       " (6, 'food_group', 'TEXT', 0, None, 0),\n",
       " (7, 'food_subgroup', 'TEXT', 0, None, 0),\n",
       " (8, 'food_type', 'TEXT', 0, None, 0),\n",
       " (9, 'category', 'TEXT', 0, None, 0),\n",
       " (10, 'ncbi_taxonomy_id', 'INTEGER', 0, None, 0)]"
      ]
     },
     "execution_count": 20,
     "metadata": {},
     "output_type": "execute_result"
    }
   ],
   "source": [
    "#Check columns of new table\n",
    "cur.execute('''PRAGMA table_info(foods)\n",
    ";''',).fetchall()"
   ]
  },
  {
   "cell_type": "code",
   "execution_count": 21,
   "metadata": {},
   "outputs": [],
   "source": [
    "# Save (commit) the changes\n",
    "connection.commit()"
   ]
  },
  {
   "cell_type": "code",
   "execution_count": 59,
   "metadata": {},
   "outputs": [],
   "source": [
    "# We can also close the connection if we are done with it.\n",
    "# Just be sure any changes have been committed or they will be lost.\n",
    "connection.close()"
   ]
  },
  {
   "cell_type": "markdown",
   "metadata": {},
   "source": [
    "[(Back to top)](#top)\n",
    "## Dropping columns from enzymes table"
   ]
  },
  {
   "cell_type": "code",
   "execution_count": 25,
   "metadata": {},
   "outputs": [
    {
     "data": {
      "text/plain": [
       "[(0, 'id', '', 0, None, 0),\n",
       " (1, 'name', '', 0, None, 0),\n",
       " (2, 'gene_name', '', 0, None, 0),\n",
       " (3, 'description', '', 0, None, 0),\n",
       " (4, 'go_classification', '', 0, None, 0),\n",
       " (5, 'general_function', '', 0, None, 0),\n",
       " (6, 'specific_function', '', 0, None, 0),\n",
       " (7, 'pathway', '', 0, None, 0),\n",
       " (8, 'reaction', '', 0, None, 0),\n",
       " (9, 'cellular_location', '', 0, None, 0),\n",
       " (10, 'signals', '', 0, None, 0),\n",
       " (11, 'transmembrane_regions', '', 0, None, 0),\n",
       " (12, 'molecular_weight', '', 0, None, 0),\n",
       " (13, 'theoretical_pi', '', 0, None, 0),\n",
       " (14, 'locus', '', 0, None, 0),\n",
       " (15, 'chromosome', '', 0, None, 0),\n",
       " (16, 'uniprot_name', '', 0, None, 0),\n",
       " (17, 'uniprot_id', '', 0, None, 0),\n",
       " (18, 'pdb_id', '', 0, None, 0),\n",
       " (19, 'genbank_protein_id', '', 0, None, 0),\n",
       " (20, 'genbank_gene_id', '', 0, None, 0),\n",
       " (21, 'genecard_id', '', 0, None, 0),\n",
       " (22, 'genatlas_id', '', 0, None, 0),\n",
       " (23, 'hgnc_id', '', 0, None, 0),\n",
       " (24, 'hprd_id', '', 0, None, 0),\n",
       " (25, 'organism', '', 0, None, 0),\n",
       " (26, 'general_citations', '', 0, None, 0),\n",
       " (27, 'comments', '', 0, None, 0),\n",
       " (28, 'creator_id', '', 0, None, 0),\n",
       " (29, 'updater_id', '', 0, None, 0),\n",
       " (30, 'created_at', '', 0, None, 0),\n",
       " (31, 'updated_at', '', 0, None, 0)]"
      ]
     },
     "execution_count": 25,
     "metadata": {},
     "output_type": "execute_result"
    }
   ],
   "source": [
    "#Look at columns in enzymes table\n",
    "cur.execute('''PRAGMA table_info(enzymes)\n",
    ";''',).fetchall()"
   ]
  },
  {
   "cell_type": "code",
   "execution_count": 26,
   "metadata": {},
   "outputs": [
    {
     "data": {
      "text/plain": [
       "<sqlite3.Cursor at 0x8cfd5e0>"
      ]
     },
     "execution_count": 26,
     "metadata": {},
     "output_type": "execute_result"
    }
   ],
   "source": [
    "#Create a new enzymes table\n",
    "cur.execute('''CREATE TABLE enzymes_copy\n",
    "                (id INTEGER PRIMARY KEY, name TEXT, gene_name TEXT, \n",
    "                uniprot_id TEXT)\n",
    "            ;''')"
   ]
  },
  {
   "cell_type": "code",
   "execution_count": 29,
   "metadata": {},
   "outputs": [
    {
     "data": {
      "text/plain": [
       "[(0, 'id', 'INTEGER', 0, None, 1),\n",
       " (1, 'name', 'TEXT', 0, None, 0),\n",
       " (2, 'gene_name', 'TEXT', 0, None, 0),\n",
       " (3, 'uniprot_id', 'TEXT', 0, None, 0)]"
      ]
     },
     "execution_count": 29,
     "metadata": {},
     "output_type": "execute_result"
    }
   ],
   "source": [
    "#Look at columns in enzymes table\n",
    "cur.execute('''PRAGMA table_info(enzymes_copy)\n",
    ";''',).fetchall()"
   ]
  },
  {
   "cell_type": "code",
   "execution_count": 31,
   "metadata": {},
   "outputs": [
    {
     "data": {
      "text/plain": [
       "<sqlite3.Cursor at 0x8cfd5e0>"
      ]
     },
     "execution_count": 31,
     "metadata": {},
     "output_type": "execute_result"
    }
   ],
   "source": [
    "#Insert values into columns of new table\n",
    "cur.execute('''INSERT INTO enzymes_copy\n",
    "                    (id, name, gene_name, uniprot_id)\n",
    "                SELECT id, name, gene_name, uniprot_id\n",
    "                FROM enzymes\n",
    "            ;''')"
   ]
  },
  {
   "cell_type": "code",
   "execution_count": 32,
   "metadata": {},
   "outputs": [
    {
     "data": {
      "text/plain": [
       "[(0, 'id', 'INTEGER', 0, None, 1),\n",
       " (1, 'name', 'TEXT', 0, None, 0),\n",
       " (2, 'gene_name', 'TEXT', 0, None, 0),\n",
       " (3, 'uniprot_id', 'TEXT', 0, None, 0)]"
      ]
     },
     "execution_count": 32,
     "metadata": {},
     "output_type": "execute_result"
    }
   ],
   "source": [
    "#Check data types of new table\n",
    "#Works before commit\n",
    "\n",
    "cur.execute('''PRAGMA table_info(enzymes_copy)\n",
    ";''',).fetchall()"
   ]
  },
  {
   "cell_type": "code",
   "execution_count": 34,
   "metadata": {},
   "outputs": [
    {
     "data": {
      "text/plain": [
       "[(1, 'UDP-glucuronosyltransferase 2B28', 'UGT2B28', 'Q9BY64'),\n",
       " (2, 'Estrogen receptor beta', 'ESR2', 'Q92731'),\n",
       " (3, 'UDP-glucuronosyltransferase 2B4', 'UGT2B4', 'P06133'),\n",
       " (4, 'UDP-glucuronosyltransferase 1-4', 'UGT1A4', 'P22310'),\n",
       " (5, 'UDP-glucuronosyltransferase 2B10', 'UGT2B10', 'P36537')]"
      ]
     },
     "execution_count": 34,
     "metadata": {},
     "output_type": "execute_result"
    }
   ],
   "source": [
    "#Check that columns were populated from old table\n",
    "#This function works without committing \n",
    "cur.execute('''SELECT *\n",
    "                FROM enzymes_copy\n",
    "                LIMIT 5\n",
    "            ;''').fetchall()"
   ]
  },
  {
   "cell_type": "code",
   "execution_count": 35,
   "metadata": {},
   "outputs": [
    {
     "data": {
      "text/plain": [
       "<sqlite3.Cursor at 0x8cfd5e0>"
      ]
     },
     "execution_count": 35,
     "metadata": {},
     "output_type": "execute_result"
    }
   ],
   "source": [
    "#Delete the old table\n",
    "cur.execute('''DROP TABLE enzymes;''')"
   ]
  },
  {
   "cell_type": "code",
   "execution_count": 36,
   "metadata": {},
   "outputs": [
    {
     "data": {
      "text/plain": [
       "<sqlite3.Cursor at 0x8cfd5e0>"
      ]
     },
     "execution_count": 36,
     "metadata": {},
     "output_type": "execute_result"
    }
   ],
   "source": [
    "#Rename new table to enzymes\n",
    "cur.execute('''ALTER TABLE enzymes_copy\n",
    "                RENAME TO enzymes\n",
    "                ;''')"
   ]
  },
  {
   "cell_type": "code",
   "execution_count": 37,
   "metadata": {},
   "outputs": [
    {
     "data": {
      "text/plain": [
       "[('compound_alternate_parents',),\n",
       " ('compound_external_descriptors',),\n",
       " ('compound_substituents',),\n",
       " ('compound_synonyms',),\n",
       " ('compounds_enzymes',),\n",
       " ('compounds_flavors',),\n",
       " ('compounds_health_effects',),\n",
       " ('compounds_pathways',),\n",
       " ('compounds',),\n",
       " ('flavors',),\n",
       " ('food_taxonomies',),\n",
       " ('foodcomex_compound_providers',),\n",
       " ('foodcomex_compounds',),\n",
       " ('health_effects',),\n",
       " ('nutrients',),\n",
       " ('pathways',),\n",
       " ('references',),\n",
       " ('foods',),\n",
       " ('enzymes',)]"
      ]
     },
     "execution_count": 37,
     "metadata": {},
     "output_type": "execute_result"
    }
   ],
   "source": [
    "#Check list of tables in database\n",
    "cur.execute('''SELECT name\n",
    "                FROM sqlite_master \n",
    "                WHERE type ='table' \n",
    "                    AND name NOT LIKE 'sqlite_%'\n",
    "            ;''').fetchall()"
   ]
  },
  {
   "cell_type": "code",
   "execution_count": 39,
   "metadata": {},
   "outputs": [
    {
     "data": {
      "text/plain": [
       "[(0, 'id', 'INTEGER', 0, None, 1),\n",
       " (1, 'name', 'TEXT', 0, None, 0),\n",
       " (2, 'gene_name', 'TEXT', 0, None, 0),\n",
       " (3, 'uniprot_id', 'TEXT', 0, None, 0)]"
      ]
     },
     "execution_count": 39,
     "metadata": {},
     "output_type": "execute_result"
    }
   ],
   "source": [
    "#Check columns of new table\n",
    "cur.execute('''PRAGMA table_info(enzymes)\n",
    ";''',).fetchall()"
   ]
  },
  {
   "cell_type": "code",
   "execution_count": 40,
   "metadata": {},
   "outputs": [],
   "source": [
    "# Save (commit) the changes\n",
    "connection.commit()"
   ]
  },
  {
   "cell_type": "markdown",
   "metadata": {},
   "source": [
    "[(Back to top)](#top)\n",
    "## Dropping columns from health_effects table"
   ]
  },
  {
   "cell_type": "code",
   "execution_count": 41,
   "metadata": {},
   "outputs": [
    {
     "data": {
      "text/plain": [
       "[(0, 'id', '', 0, None, 0),\n",
       " (1, 'name', '', 0, None, 0),\n",
       " (2, 'description', '', 0, None, 0),\n",
       " (3, 'chebi_name', '', 0, None, 0),\n",
       " (4, 'chebi_id', '', 0, None, 0),\n",
       " (5, 'created_at', '', 0, None, 0),\n",
       " (6, 'updated_at', '', 0, None, 0),\n",
       " (7, 'creator_id', '', 0, None, 0),\n",
       " (8, 'updater_id', '', 0, None, 0),\n",
       " (9, 'chebi_definition', '', 0, None, 0)]"
      ]
     },
     "execution_count": 41,
     "metadata": {},
     "output_type": "execute_result"
    }
   ],
   "source": [
    "#Look at columns in enzymes table\n",
    "cur.execute('''PRAGMA table_info(health_effects)\n",
    ";''',).fetchall()"
   ]
  },
  {
   "cell_type": "code",
   "execution_count": 42,
   "metadata": {},
   "outputs": [
    {
     "data": {
      "text/plain": [
       "[(0, 'id', 'INTEGER', 0, None, 1),\n",
       " (1, 'name', 'TEXT', 0, None, 0),\n",
       " (2, 'description', 'TEXT', 0, None, 0),\n",
       " (3, 'chebi_name', 'TEXT', 0, None, 0),\n",
       " (4, 'chebi_id', 'INTEGER', 0, None, 0),\n",
       " (5, 'chebi_definition', 'TEXT', 0, None, 0)]"
      ]
     },
     "execution_count": 42,
     "metadata": {},
     "output_type": "execute_result"
    }
   ],
   "source": [
    "#Create a new enzymes table\n",
    "cur.execute('''CREATE TABLE health_effects_copy\n",
    "                (id INTEGER PRIMARY KEY, name TEXT, description TEXT, \n",
    "                chebi_name TEXT, chebi_id INTEGER, chebi_definition TEXT)\n",
    "            ;''')\n",
    "\n",
    "#Look at columns in enzymes table\n",
    "cur.execute('''PRAGMA table_info(health_effects_copy)\n",
    ";''',).fetchall()"
   ]
  },
  {
   "cell_type": "code",
   "execution_count": 43,
   "metadata": {},
   "outputs": [
    {
     "data": {
      "text/plain": [
       "[(0, 'id', 'INTEGER', 0, None, 1),\n",
       " (1, 'name', 'TEXT', 0, None, 0),\n",
       " (2, 'description', 'TEXT', 0, None, 0),\n",
       " (3, 'chebi_name', 'TEXT', 0, None, 0),\n",
       " (4, 'chebi_id', 'INTEGER', 0, None, 0),\n",
       " (5, 'chebi_definition', 'TEXT', 0, None, 0)]"
      ]
     },
     "execution_count": 43,
     "metadata": {},
     "output_type": "execute_result"
    }
   ],
   "source": [
    "#Insert values into columns of new table\n",
    "cur.execute('''INSERT INTO health_effects_copy\n",
    "                    (id, name, description,\n",
    "                    chebi_name, chebi_id, chebi_definition)\n",
    "                SELECT id, name, description,\n",
    "                    chebi_name, chebi_id, chebi_definition\n",
    "                FROM health_effects\n",
    "            ;''')\n",
    "#Check data types of new table\n",
    "#Works before commit\n",
    "\n",
    "cur.execute('''PRAGMA table_info(health_effects_copy)\n",
    ";''',).fetchall()"
   ]
  },
  {
   "cell_type": "code",
   "execution_count": 44,
   "metadata": {},
   "outputs": [
    {
     "data": {
      "text/plain": [
       "[(1,\n",
       "  '(+)-inotropic',\n",
       "  'An agent that alters the force or energy of muscular contractions. Positively inotropic agents increase the strength of muscular contraction.',\n",
       "  'NULL',\n",
       "  'NULL',\n",
       "  'NULL'),\n",
       " (2,\n",
       "  '(-)-chronotropic',\n",
       "  'An agent that may change theÂ\\xa0heartÂ\\xa0rate by affecting theÂ\\xa0nervesÂ\\xa0controlling the heart, or by changing theÂ\\xa0rhythmÂ\\xa0produced by theÂ\\xa0sinoatrial node. Negative chronotropes decrease heart rate.',\n",
       "  'NULL',\n",
       "  'NULL',\n",
       "  'NULL'),\n",
       " (3,\n",
       "  '(-)-inotropic',\n",
       "  'An agent that alters the force or energy of muscular contractions. NegativelyÂ\\xa0inotropicÂ\\xa0agents weaken the force of muscular contractions.',\n",
       "  'NULL',\n",
       "  'NULL',\n",
       "  'NULL'),\n",
       " (4,\n",
       "  '11beta-hydroxysteroid-dehydrogenase inhibitor',\n",
       "  'NULL',\n",
       "  'enzyme inhibitor',\n",
       "  23924,\n",
       "  'A compound or agent that combines with an enzyme in such a manner as to prevent the normal substrate-enzyme combination and the catalytic reaction.'),\n",
       " (5,\n",
       "  '12-lipoxygenase inhibitor',\n",
       "  'NULL',\n",
       "  'enzyme inhibitor',\n",
       "  23924,\n",
       "  'A compound or agent that combines with an enzyme in such a manner as to prevent the normal substrate-enzyme combination and the catalytic reaction.')]"
      ]
     },
     "execution_count": 44,
     "metadata": {},
     "output_type": "execute_result"
    }
   ],
   "source": [
    "#Check that columns were populated from old table\n",
    "#This function works without committing \n",
    "cur.execute('''SELECT *\n",
    "                FROM health_effects_copy\n",
    "                LIMIT 5\n",
    "            ;''').fetchall()"
   ]
  },
  {
   "cell_type": "code",
   "execution_count": 45,
   "metadata": {},
   "outputs": [
    {
     "data": {
      "text/plain": [
       "[('compound_alternate_parents',),\n",
       " ('compound_external_descriptors',),\n",
       " ('compound_substituents',),\n",
       " ('compound_synonyms',),\n",
       " ('compounds_enzymes',),\n",
       " ('compounds_flavors',),\n",
       " ('compounds_health_effects',),\n",
       " ('compounds_pathways',),\n",
       " ('compounds',),\n",
       " ('flavors',),\n",
       " ('food_taxonomies',),\n",
       " ('foodcomex_compound_providers',),\n",
       " ('foodcomex_compounds',),\n",
       " ('nutrients',),\n",
       " ('pathways',),\n",
       " ('references',),\n",
       " ('foods',),\n",
       " ('enzymes',),\n",
       " ('health_effects',)]"
      ]
     },
     "execution_count": 45,
     "metadata": {},
     "output_type": "execute_result"
    }
   ],
   "source": [
    "#Delete the old table\n",
    "cur.execute('''DROP TABLE health_effects;''')\n",
    "\n",
    "#Rename new table to enzymes\n",
    "cur.execute('''ALTER TABLE health_effects_copy\n",
    "                RENAME TO health_effects\n",
    "                ;''')\n",
    "#Check list of tables in database\n",
    "cur.execute('''SELECT name\n",
    "                FROM sqlite_master \n",
    "                WHERE type ='table' \n",
    "                    AND name NOT LIKE 'sqlite_%'\n",
    "            ;''').fetchall()"
   ]
  },
  {
   "cell_type": "code",
   "execution_count": 46,
   "metadata": {},
   "outputs": [
    {
     "data": {
      "text/plain": [
       "[(0, 'id', 'INTEGER', 0, None, 1),\n",
       " (1, 'name', 'TEXT', 0, None, 0),\n",
       " (2, 'description', 'TEXT', 0, None, 0),\n",
       " (3, 'chebi_name', 'TEXT', 0, None, 0),\n",
       " (4, 'chebi_id', 'INTEGER', 0, None, 0),\n",
       " (5, 'chebi_definition', 'TEXT', 0, None, 0)]"
      ]
     },
     "execution_count": 46,
     "metadata": {},
     "output_type": "execute_result"
    }
   ],
   "source": [
    "#Check columns of new table\n",
    "cur.execute('''PRAGMA table_info(health_effects)\n",
    ";''',).fetchall()"
   ]
  },
  {
   "cell_type": "code",
   "execution_count": 47,
   "metadata": {},
   "outputs": [],
   "source": [
    "# Save (commit) the changes\n",
    "connection.commit()"
   ]
  },
  {
   "cell_type": "markdown",
   "metadata": {},
   "source": [
    "[(Back to top)](#top)\n",
    "## Dropping columns from flavors table"
   ]
  },
  {
   "cell_type": "code",
   "execution_count": 48,
   "metadata": {},
   "outputs": [
    {
     "data": {
      "text/plain": [
       "[(0, 'id', '', 0, None, 0),\n",
       " (1, 'name', '', 0, None, 0),\n",
       " (2, 'flavor_group', '', 0, None, 0),\n",
       " (3, 'category', '', 0, None, 0),\n",
       " (4, 'created_at', '', 0, None, 0),\n",
       " (5, 'updated_at', '', 0, None, 0),\n",
       " (6, 'creator_id', '', 0, None, 0),\n",
       " (7, 'updater_id', '', 0, None, 0)]"
      ]
     },
     "execution_count": 48,
     "metadata": {},
     "output_type": "execute_result"
    }
   ],
   "source": [
    "#Look at columns in enzymes table\n",
    "cur.execute('''PRAGMA table_info(flavors)\n",
    ";''',).fetchall()"
   ]
  },
  {
   "cell_type": "code",
   "execution_count": 49,
   "metadata": {},
   "outputs": [
    {
     "data": {
      "text/plain": [
       "[(0, 'id', 'INTEGER', 0, None, 1),\n",
       " (1, 'name', 'TEXT', 0, None, 0),\n",
       " (2, 'flavor_group', 'TEXT', 0, None, 0)]"
      ]
     },
     "execution_count": 49,
     "metadata": {},
     "output_type": "execute_result"
    }
   ],
   "source": [
    "#Create a new enzymes table\n",
    "cur.execute('''CREATE TABLE flavors_copy\n",
    "                (id INTEGER PRIMARY KEY, name TEXT, flavor_group TEXT)\n",
    "            ;''')\n",
    "\n",
    "#Look at columns in enzymes table\n",
    "cur.execute('''PRAGMA table_info(flavors_copy)\n",
    ";''',).fetchall()"
   ]
  },
  {
   "cell_type": "code",
   "execution_count": 50,
   "metadata": {},
   "outputs": [
    {
     "data": {
      "text/plain": [
       "[(0, 'id', 'INTEGER', 0, None, 1),\n",
       " (1, 'name', 'TEXT', 0, None, 0),\n",
       " (2, 'flavor_group', 'TEXT', 0, None, 0)]"
      ]
     },
     "execution_count": 50,
     "metadata": {},
     "output_type": "execute_result"
    }
   ],
   "source": [
    "#Insert values into columns of new table\n",
    "cur.execute('''INSERT INTO flavors_copy\n",
    "                    (id, name, flavor_group)\n",
    "                SELECT id, name, flavor_group\n",
    "                FROM flavors\n",
    "            ;''')\n",
    "#Check data types of new table\n",
    "#Works before commit\n",
    "\n",
    "cur.execute('''PRAGMA table_info(flavors_copy)\n",
    ";''',).fetchall()"
   ]
  },
  {
   "cell_type": "code",
   "execution_count": 51,
   "metadata": {},
   "outputs": [
    {
     "data": {
      "text/plain": [
       "[(1, 'celery', 'vegetable'),\n",
       " (2, 'corn', 'vegetable'),\n",
       " (3, 'cucumber', 'vegetable'),\n",
       " (4, 'horseradish', 'vegetable'),\n",
       " (5, 'vegetable', 'vegetable')]"
      ]
     },
     "execution_count": 51,
     "metadata": {},
     "output_type": "execute_result"
    }
   ],
   "source": [
    "#Check that columns were populated from old table\n",
    "#This function works without committing \n",
    "cur.execute('''SELECT *\n",
    "                FROM flavors_copy\n",
    "                LIMIT 5\n",
    "            ;''').fetchall()"
   ]
  },
  {
   "cell_type": "code",
   "execution_count": 52,
   "metadata": {},
   "outputs": [
    {
     "data": {
      "text/plain": [
       "[('compound_alternate_parents',),\n",
       " ('compound_external_descriptors',),\n",
       " ('compound_substituents',),\n",
       " ('compound_synonyms',),\n",
       " ('compounds_enzymes',),\n",
       " ('compounds_flavors',),\n",
       " ('compounds_health_effects',),\n",
       " ('compounds_pathways',),\n",
       " ('compounds',),\n",
       " ('food_taxonomies',),\n",
       " ('foodcomex_compound_providers',),\n",
       " ('foodcomex_compounds',),\n",
       " ('nutrients',),\n",
       " ('pathways',),\n",
       " ('references',),\n",
       " ('foods',),\n",
       " ('enzymes',),\n",
       " ('health_effects',),\n",
       " ('flavors',)]"
      ]
     },
     "execution_count": 52,
     "metadata": {},
     "output_type": "execute_result"
    }
   ],
   "source": [
    "#Delete the old table\n",
    "cur.execute('''DROP TABLE flavors;''')\n",
    "\n",
    "#Rename new table to enzymes\n",
    "cur.execute('''ALTER TABLE flavors_copy\n",
    "                RENAME TO flavors\n",
    "                ;''')\n",
    "#Check list of tables in database\n",
    "cur.execute('''SELECT name\n",
    "                FROM sqlite_master \n",
    "                WHERE type ='table' \n",
    "                    AND name NOT LIKE 'sqlite_%'\n",
    "            ;''').fetchall()"
   ]
  },
  {
   "cell_type": "code",
   "execution_count": 53,
   "metadata": {},
   "outputs": [
    {
     "data": {
      "text/plain": [
       "[(0, 'id', 'INTEGER', 0, None, 1),\n",
       " (1, 'name', 'TEXT', 0, None, 0),\n",
       " (2, 'flavor_group', 'TEXT', 0, None, 0)]"
      ]
     },
     "execution_count": 53,
     "metadata": {},
     "output_type": "execute_result"
    }
   ],
   "source": [
    "#Check columns of new table\n",
    "cur.execute('''PRAGMA table_info(flavors)\n",
    ";''',).fetchall()"
   ]
  },
  {
   "cell_type": "code",
   "execution_count": 54,
   "metadata": {},
   "outputs": [],
   "source": [
    "# Save (commit) the changes\n",
    "connection.commit()"
   ]
  },
  {
   "cell_type": "markdown",
   "metadata": {},
   "source": [
    "[(Back to top)](#top)\n",
    "## Dropping columns from pathways table"
   ]
  },
  {
   "cell_type": "code",
   "execution_count": 72,
   "metadata": {},
   "outputs": [
    {
     "data": {
      "text/plain": [
       "[(0, 'id', '', 0, None, 0),\n",
       " (1, 'smpdb_id', '', 0, None, 0),\n",
       " (2, 'kegg_map_id', '', 0, None, 0),\n",
       " (3, 'name', '', 0, None, 0),\n",
       " (4, 'created_at', '', 0, None, 0),\n",
       " (5, 'updated_at', '', 0, None, 0)]"
      ]
     },
     "execution_count": 72,
     "metadata": {},
     "output_type": "execute_result"
    }
   ],
   "source": [
    "#Look at columns in enzymes table\n",
    "cur.execute('''PRAGMA table_info(pathways)\n",
    ";''',).fetchall()"
   ]
  },
  {
   "cell_type": "code",
   "execution_count": 73,
   "metadata": {},
   "outputs": [
    {
     "data": {
      "text/plain": [
       "<sqlite3.Cursor at 0x8cfd5e0>"
      ]
     },
     "execution_count": 73,
     "metadata": {},
     "output_type": "execute_result"
    }
   ],
   "source": [
    "#Create a new  table\n",
    "cur.execute('''CREATE TABLE pathways_copy\n",
    "                (id INTEGER PRIMARY KEY, smpdb_id TEXT, kegg_map_id TEXT, \n",
    "                name TEXT)\n",
    "            ;''')\n",
    "\n",
    "#Insert values into columns of new table\n",
    "cur.execute('''INSERT INTO pathways_copy\n",
    "                    (id, smpdb_id, kegg_map_id, name)\n",
    "                SELECT id, smpdb_id, kegg_map_id, name\n",
    "                FROM pathways\n",
    "            ;''')\n",
    "\n",
    "#Delete the old table\n",
    "cur.execute('''DROP TABLE pathways;''')\n",
    "\n",
    "#Rename new table to enzymes\n",
    "cur.execute('''ALTER TABLE pathways_copy\n",
    "                RENAME TO pathways\n",
    "                ;''')"
   ]
  },
  {
   "cell_type": "code",
   "execution_count": 74,
   "metadata": {},
   "outputs": [
    {
     "data": {
      "text/plain": [
       "[(0, 'id', 'INTEGER', 0, None, 1),\n",
       " (1, 'smpdb_id', 'TEXT', 0, None, 0),\n",
       " (2, 'kegg_map_id', 'TEXT', 0, None, 0),\n",
       " (3, 'name', 'TEXT', 0, None, 0)]"
      ]
     },
     "execution_count": 74,
     "metadata": {},
     "output_type": "execute_result"
    }
   ],
   "source": [
    "#Check columns of new table\n",
    "cur.execute('''PRAGMA table_info(pathways)\n",
    ";''',).fetchall()"
   ]
  },
  {
   "cell_type": "code",
   "execution_count": 75,
   "metadata": {},
   "outputs": [
    {
     "data": {
      "text/plain": [
       "[(1, 'SMP00006', 'map00350', 'Tyrosine Metabolism'),\n",
       " (2, 'SMP00068', 'map00150', 'Androgen and Estrogen Metabolism'),\n",
       " (3, 'SMP00011', 'map00562', 'Inositol Metabolism')]"
      ]
     },
     "execution_count": 75,
     "metadata": {},
     "output_type": "execute_result"
    }
   ],
   "source": [
    "#Check that columns were populated from old table\n",
    "#This function works without committing \n",
    "cur.execute('''SELECT *\n",
    "                FROM pathways\n",
    "                LIMIT 3\n",
    "            ;''').fetchall()"
   ]
  },
  {
   "cell_type": "code",
   "execution_count": 76,
   "metadata": {},
   "outputs": [],
   "source": [
    "# Save (commit) the changes\n",
    "connection.commit()"
   ]
  },
  {
   "cell_type": "markdown",
   "metadata": {},
   "source": [
    "[(Back to top)](#top)\n",
    "## Dropping columns from food_taxonomies table"
   ]
  },
  {
   "cell_type": "code",
   "execution_count": 100,
   "metadata": {},
   "outputs": [
    {
     "data": {
      "text/plain": [
       "[(0, 'id', '', 0, None, 0),\n",
       " (1, 'food_id', '', 0, None, 0),\n",
       " (2, 'ncbi_taxonomy_id', '', 0, None, 0),\n",
       " (3, 'classification_name', '', 0, None, 0),\n",
       " (4, 'classification_order', '', 0, None, 0),\n",
       " (5, 'created_at', '', 0, None, 0),\n",
       " (6, 'updated_at', '', 0, None, 0)]"
      ]
     },
     "execution_count": 100,
     "metadata": {},
     "output_type": "execute_result"
    }
   ],
   "source": [
    "#Look at columns in enzymes table\n",
    "cur.execute('''PRAGMA table_info(food_taxonomies)\n",
    ";''',).fetchall()"
   ]
  },
  {
   "cell_type": "code",
   "execution_count": 105,
   "metadata": {
    "scrolled": true
   },
   "outputs": [
    {
     "data": {
      "text/plain": [
       "<sqlite3.Cursor at 0x8cfd5e0>"
      ]
     },
     "execution_count": 105,
     "metadata": {},
     "output_type": "execute_result"
    }
   ],
   "source": [
    "#Create a new  table\n",
    "cur.execute('''CREATE TABLE food_taxonomies_copy\n",
    "                (id INTEGER, food_id INTEGER, \n",
    "                ncbi_taxonomy_id INTEGER, classification_name TEXT, \n",
    "                classification_order INTEGER,\n",
    "                FOREIGN KEY(food_id) REFERENCES foods(id))\n",
    "            ;''')"
   ]
  },
  {
   "cell_type": "code",
   "execution_count": 107,
   "metadata": {},
   "outputs": [
    {
     "data": {
      "text/plain": [
       "<sqlite3.Cursor at 0x8cfd5e0>"
      ]
     },
     "execution_count": 107,
     "metadata": {},
     "output_type": "execute_result"
    }
   ],
   "source": [
    "#Insert values into columns of new table\n",
    "cur.execute('''INSERT INTO food_taxonomies_copy\n",
    "                    (id, food_id, ncbi_taxonomy_id, classification_name,\n",
    "                    classification_order)\n",
    "                SELECT id, food_id, ncbi_taxonomy_id, classification_name,\n",
    "                    classification_order\n",
    "                FROM food_taxonomies\n",
    "            ;''')\n",
    "\n",
    "#Delete the old table\n",
    "cur.execute('''DROP TABLE food_taxonomies;''')\n",
    "\n",
    "#Rename new table to enzymes\n",
    "cur.execute('''ALTER TABLE food_taxonomies_copy\n",
    "                RENAME TO food_taxonomies\n",
    "                ;''')"
   ]
  },
  {
   "cell_type": "code",
   "execution_count": 108,
   "metadata": {},
   "outputs": [
    {
     "data": {
      "text/plain": [
       "[(0, 'id', 'INTEGER', 0, None, 0),\n",
       " (1, 'food_id', 'INTEGER', 0, None, 0),\n",
       " (2, 'ncbi_taxonomy_id', 'INTEGER', 0, None, 0),\n",
       " (3, 'classification_name', 'TEXT', 0, None, 0),\n",
       " (4, 'classification_order', 'INTEGER', 0, None, 0)]"
      ]
     },
     "execution_count": 108,
     "metadata": {},
     "output_type": "execute_result"
    }
   ],
   "source": [
    "#Check columns of new table\n",
    "cur.execute('''PRAGMA table_info(food_taxonomies)\n",
    ";''',).fetchall()"
   ]
  },
  {
   "cell_type": "code",
   "execution_count": 109,
   "metadata": {},
   "outputs": [
    {
     "data": {
      "text/plain": [
       "[(1, 1, 357850, '\\\\Eukaryota\\\\', 1),\n",
       " (2, 1, 357850, '\\\\Viridiplantae\\\\', 2),\n",
       " (3, 1, 357850, '\\\\Streptophyta\\\\', 3)]"
      ]
     },
     "execution_count": 109,
     "metadata": {},
     "output_type": "execute_result"
    }
   ],
   "source": [
    "#Check that columns were populated from old table\n",
    "#This function works without committing \n",
    "cur.execute('''SELECT *\n",
    "                FROM food_taxonomies\n",
    "                LIMIT 3\n",
    "            ;''').fetchall()"
   ]
  },
  {
   "cell_type": "code",
   "execution_count": 110,
   "metadata": {},
   "outputs": [],
   "source": [
    "# Save (commit) the changes\n",
    "connection.commit()"
   ]
  },
  {
   "cell_type": "markdown",
   "metadata": {},
   "source": [
    "[(Back to top)](#top)\n",
    "## Dropping columns from [    ] table"
   ]
  },
  {
   "cell_type": "code",
   "execution_count": null,
   "metadata": {},
   "outputs": [],
   "source": [
    "#Look at columns in enzymes table\n",
    "cur.execute('''PRAGMA table_info()\n",
    ";''',).fetchall()"
   ]
  },
  {
   "cell_type": "code",
   "execution_count": null,
   "metadata": {},
   "outputs": [],
   "source": [
    "#Create a new  table\n",
    "cur.execute('''CREATE TABLE e_copy\n",
    "                (id INTEGER PRIMARY KEY, name TEXT, gene_name TEXT, \n",
    "                uniprot_id TEXT)\n",
    "            ;''')\n",
    "\n",
    "#Look at columns in  table\n",
    "cur.execute('''PRAGMA table_info(_copy)\n",
    ";''',).fetchall()"
   ]
  },
  {
   "cell_type": "code",
   "execution_count": null,
   "metadata": {},
   "outputs": [],
   "source": [
    "#Insert values into columns of new table\n",
    "cur.execute('''INSERT INTO _copy\n",
    "                    (id, name, gene_name, uniprot_id)\n",
    "                SELECT id, name, gene_name, uniprot_id\n",
    "                FROM \n",
    "            ;''')\n",
    "#Check data types of new table\n",
    "#Works before commit\n",
    "\n",
    "cur.execute('''PRAGMA table_info(_copy)\n",
    ";''',).fetchall()"
   ]
  },
  {
   "cell_type": "code",
   "execution_count": null,
   "metadata": {},
   "outputs": [],
   "source": [
    "#Check that columns were populated from old table\n",
    "#This function works without committing \n",
    "cur.execute('''SELECT *\n",
    "                FROM _copy\n",
    "                LIMIT 5\n",
    "            ;''').fetchall()"
   ]
  },
  {
   "cell_type": "code",
   "execution_count": null,
   "metadata": {},
   "outputs": [],
   "source": [
    "#Delete the old table\n",
    "cur.execute('''DROP TABLE ;''')\n",
    "\n",
    "#Rename new table to enzymes\n",
    "cur.execute('''ALTER TABLE _copy\n",
    "                RENAME TO \n",
    "                ;''')\n",
    "#Check list of tables in database\n",
    "cur.execute('''SELECT name\n",
    "                FROM sqlite_master \n",
    "                WHERE type ='table' \n",
    "                    AND name NOT LIKE 'sqlite_%'\n",
    "            ;''').fetchall()"
   ]
  },
  {
   "cell_type": "code",
   "execution_count": null,
   "metadata": {},
   "outputs": [],
   "source": [
    "#Check columns of new table\n",
    "cur.execute('''PRAGMA table_info()\n",
    ";''',).fetchall()"
   ]
  },
  {
   "cell_type": "code",
   "execution_count": null,
   "metadata": {},
   "outputs": [],
   "source": [
    "# Save (commit) the changes\n",
    "connection.commit()"
   ]
  },
  {
   "cell_type": "code",
   "execution_count": null,
   "metadata": {},
   "outputs": [],
   "source": []
  },
  {
   "cell_type": "code",
   "execution_count": null,
   "metadata": {},
   "outputs": [],
   "source": []
  },
  {
   "cell_type": "code",
   "execution_count": null,
   "metadata": {},
   "outputs": [],
   "source": []
  },
  {
   "cell_type": "markdown",
   "metadata": {},
   "source": [
    "<a id = 'dropping_tables'></a>"
   ]
  },
  {
   "cell_type": "markdown",
   "metadata": {},
   "source": [
    "[(Back to top)](#top)\n",
    "# Dropping whole tables"
   ]
  },
  {
   "cell_type": "code",
   "execution_count": 122,
   "metadata": {},
   "outputs": [
    {
     "ename": "OperationalError",
     "evalue": "no such table: nutrients",
     "output_type": "error",
     "traceback": [
      "\u001b[1;31m---------------------------------------------------------------------------\u001b[0m",
      "\u001b[1;31mOperationalError\u001b[0m                          Traceback (most recent call last)",
      "\u001b[1;32m<ipython-input-122-378e664d6118>\u001b[0m in \u001b[0;36m<module>\u001b[1;34m()\u001b[0m\n\u001b[1;32m----> 1\u001b[1;33m \u001b[0mcur\u001b[0m\u001b[1;33m.\u001b[0m\u001b[0mexecute\u001b[0m\u001b[1;33m(\u001b[0m\u001b[1;34m'''DROP TABLE nutrients;'''\u001b[0m\u001b[1;33m)\u001b[0m\u001b[1;33m\u001b[0m\u001b[0m\n\u001b[0m\u001b[0;32m      2\u001b[0m \u001b[0mcur\u001b[0m\u001b[1;33m.\u001b[0m\u001b[0mexecute\u001b[0m\u001b[1;33m(\u001b[0m\u001b[1;34m'''DROP TABLE [references];'''\u001b[0m\u001b[1;33m)\u001b[0m\u001b[1;33m\u001b[0m\u001b[0m\n",
      "\u001b[1;31mOperationalError\u001b[0m: no such table: nutrients"
     ]
    }
   ],
   "source": [
    "cur.execute('''DROP TABLE nutrients;''')"
   ]
  },
  {
   "cell_type": "code",
   "execution_count": 123,
   "metadata": {},
   "outputs": [
    {
     "data": {
      "text/plain": [
       "<sqlite3.Cursor at 0x8cfd5e0>"
      ]
     },
     "execution_count": 123,
     "metadata": {},
     "output_type": "execute_result"
    }
   ],
   "source": [
    "cur.execute('''DROP TABLE [references];''')"
   ]
  },
  {
   "cell_type": "code",
   "execution_count": 124,
   "metadata": {},
   "outputs": [],
   "source": [
    "# Save (commit) the changes\n",
    "connection.commit()"
   ]
  },
  {
   "cell_type": "code",
   "execution_count": 125,
   "metadata": {},
   "outputs": [],
   "source": [
    "connection.close()"
   ]
  },
  {
   "cell_type": "code",
   "execution_count": null,
   "metadata": {},
   "outputs": [],
   "source": []
  },
  {
   "cell_type": "code",
   "execution_count": null,
   "metadata": {},
   "outputs": [],
   "source": []
  },
  {
   "cell_type": "code",
   "execution_count": null,
   "metadata": {},
   "outputs": [],
   "source": []
  },
  {
   "cell_type": "code",
   "execution_count": null,
   "metadata": {},
   "outputs": [],
   "source": [
    "###############################################################################################"
   ]
  },
  {
   "cell_type": "code",
   "execution_count": null,
   "metadata": {
    "scrolled": true
   },
   "outputs": [],
   "source": [
    "#This encoding works with Windows.\n",
    "foods = pd.read_csv('foods.csv', encoding = \"ISO-8859-1\")\n",
    "\n",
    "\n"
   ]
  },
  {
   "cell_type": "code",
   "execution_count": null,
   "metadata": {},
   "outputs": [],
   "source": [
    "foods.head()"
   ]
  },
  {
   "cell_type": "code",
   "execution_count": null,
   "metadata": {},
   "outputs": [],
   "source": [
    "compounds = pd.read_csv('compounds.csv', encoding = \"ISO-8859-1\")"
   ]
  },
  {
   "cell_type": "code",
   "execution_count": null,
   "metadata": {},
   "outputs": [],
   "source": [
    "compounds_flavors = pd.read_csv('compounds_flavors.csv', encoding = \"ISO-8859-1\")"
   ]
  },
  {
   "cell_type": "code",
   "execution_count": null,
   "metadata": {},
   "outputs": [],
   "source": [
    "foodcomex_compounds = pd.read_csv('foodcomex_compounds.csv', encoding = \"ISO-8859-1\")"
   ]
  },
  {
   "cell_type": "code",
   "execution_count": null,
   "metadata": {},
   "outputs": [],
   "source": []
  }
 ],
 "metadata": {
  "kernelspec": {
   "display_name": "learn-env",
   "language": "python",
   "name": "learn-env"
  },
  "language_info": {
   "codemirror_mode": {
    "name": "ipython",
    "version": 3
   },
   "file_extension": ".py",
   "mimetype": "text/x-python",
   "name": "python",
   "nbconvert_exporter": "python",
   "pygments_lexer": "ipython3",
   "version": "3.7.0"
  }
 },
 "nbformat": 4,
 "nbformat_minor": 2
}
