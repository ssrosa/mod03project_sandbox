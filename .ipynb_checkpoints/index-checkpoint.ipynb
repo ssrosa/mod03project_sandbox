{
 "cells": [
  {
   "cell_type": "markdown",
   "metadata": {},
   "source": [
    "Hello!"
   ]
  },
  {
   "cell_type": "markdown",
   "metadata": {},
   "source": [
    "<a id = 'top'></a>"
   ]
  },
  {
   "cell_type": "markdown",
   "metadata": {},
   "source": [
    "# Contents\n",
    "\n",
    "- [Libraries and Functions]\n",
    "- [Exploratory Data Analysis](#eda)"
   ]
  },
  {
   "cell_type": "markdown",
   "metadata": {},
   "source": [
    "# Libraries and Functions"
   ]
  },
  {
   "cell_type": "code",
   "execution_count": 1,
   "metadata": {},
   "outputs": [],
   "source": [
    "import pandas as pd\n",
    "import matplotlib.pyplot as plt"
   ]
  },
  {
   "cell_type": "code",
   "execution_count": 2,
   "metadata": {},
   "outputs": [],
   "source": [
    "import sqlite3"
   ]
  },
  {
   "cell_type": "code",
   "execution_count": null,
   "metadata": {},
   "outputs": [],
   "source": [
    "#import plotly.plotly as py\n",
    "#import plotly.figure_factory as ff"
   ]
  },
  {
   "cell_type": "code",
   "execution_count": 5,
   "metadata": {},
   "outputs": [],
   "source": [
    "#For the ORM:\n",
    "import sqlalchemy\n",
    "from sqlalchemy import create_engine #To connect to the database\n",
    "from sqlalchemy.orm import Session, sessionmaker #To interact with the database as object\n",
    "from sqlalchemy import inspect #To look at tables and column names"
   ]
  },
  {
   "cell_type": "code",
   "execution_count": null,
   "metadata": {},
   "outputs": [],
   "source": [
    "#needs plotly password\n",
    "#df = pd.read_csv(\"https://raw.githubusercontent.com/plotly/datasets/master/school_earnings.csv\")\n",
    "\n",
    "#table = ff.create_table(df)\n",
    "#py.iplot(table, filename='jupyter-table1')"
   ]
  },
  {
   "cell_type": "code",
   "execution_count": 6,
   "metadata": {},
   "outputs": [],
   "source": [
    "#Instantiate a session of the ORM\n",
    "#Connect to the sqlite database file\n",
    "engine = create_engine('sqlite:///foodb.db', echo = True)\n",
    "#Bind a session factory to the engine\n",
    "Session = sessionmaker(bind=engine)\n",
    "#Instantiate a session\n",
    "session = Session()"
   ]
  },
  {
   "cell_type": "code",
   "execution_count": 7,
   "metadata": {},
   "outputs": [
    {
     "name": "stdout",
     "output_type": "stream",
     "text": [
      "2019-03-12 16:58:40,991 INFO sqlalchemy.engine.base.Engine SELECT CAST('test plain returns' AS VARCHAR(60)) AS anon_1\n",
      "2019-03-12 16:58:40,992 INFO sqlalchemy.engine.base.Engine ()\n",
      "2019-03-12 16:58:40,995 INFO sqlalchemy.engine.base.Engine SELECT CAST('test unicode returns' AS VARCHAR(60)) AS anon_1\n",
      "2019-03-12 16:58:40,996 INFO sqlalchemy.engine.base.Engine ()\n"
     ]
    }
   ],
   "source": [
    "#An object to get a first look at the database\n",
    "inspector = inspect(engine)"
   ]
  },
  {
   "cell_type": "code",
   "execution_count": 8,
   "metadata": {
    "scrolled": false
   },
   "outputs": [
    {
     "name": "stdout",
     "output_type": "stream",
     "text": [
      "2019-03-12 16:58:44,895 INFO sqlalchemy.engine.base.Engine SELECT name FROM sqlite_master WHERE type='table' ORDER BY name\n",
      "2019-03-12 16:58:44,896 INFO sqlalchemy.engine.base.Engine ()\n",
      "2019-03-12 16:58:44,901 INFO sqlalchemy.engine.base.Engine PRAGMA table_info(\"compound_alternate_parents\")\n",
      "2019-03-12 16:58:44,902 INFO sqlalchemy.engine.base.Engine ()\n",
      "2019-03-12 16:58:44,906 INFO sqlalchemy.engine.base.Engine PRAGMA table_info(\"compound_external_descriptors\")\n",
      "2019-03-12 16:58:44,908 INFO sqlalchemy.engine.base.Engine ()\n",
      "2019-03-12 16:58:44,911 INFO sqlalchemy.engine.base.Engine PRAGMA table_info(\"compound_substituents\")\n",
      "2019-03-12 16:58:44,913 INFO sqlalchemy.engine.base.Engine ()\n",
      "2019-03-12 16:58:44,916 INFO sqlalchemy.engine.base.Engine PRAGMA table_info(\"compound_synonyms\")\n",
      "2019-03-12 16:58:44,917 INFO sqlalchemy.engine.base.Engine ()\n",
      "2019-03-12 16:58:44,921 INFO sqlalchemy.engine.base.Engine PRAGMA table_info(\"compounds\")\n",
      "2019-03-12 16:58:44,923 INFO sqlalchemy.engine.base.Engine ()\n",
      "2019-03-12 16:58:44,927 INFO sqlalchemy.engine.base.Engine PRAGMA table_info(\"compounds_enzymes\")\n",
      "2019-03-12 16:58:44,928 INFO sqlalchemy.engine.base.Engine ()\n",
      "2019-03-12 16:58:44,931 INFO sqlalchemy.engine.base.Engine PRAGMA table_info(\"compounds_flavors\")\n",
      "2019-03-12 16:58:44,933 INFO sqlalchemy.engine.base.Engine ()\n",
      "2019-03-12 16:58:44,936 INFO sqlalchemy.engine.base.Engine PRAGMA table_info(\"compounds_health_effects\")\n",
      "2019-03-12 16:58:44,936 INFO sqlalchemy.engine.base.Engine ()\n",
      "2019-03-12 16:58:44,939 INFO sqlalchemy.engine.base.Engine PRAGMA table_info(\"compounds_pathways\")\n",
      "2019-03-12 16:58:44,941 INFO sqlalchemy.engine.base.Engine ()\n",
      "2019-03-12 16:58:44,944 INFO sqlalchemy.engine.base.Engine PRAGMA table_info(\"enzymes\")\n",
      "2019-03-12 16:58:44,946 INFO sqlalchemy.engine.base.Engine ()\n",
      "2019-03-12 16:58:44,950 INFO sqlalchemy.engine.base.Engine PRAGMA table_info(\"flavors\")\n",
      "2019-03-12 16:58:44,951 INFO sqlalchemy.engine.base.Engine ()\n",
      "2019-03-12 16:58:44,956 INFO sqlalchemy.engine.base.Engine PRAGMA table_info(\"food_taxonomies\")\n",
      "2019-03-12 16:58:44,956 INFO sqlalchemy.engine.base.Engine ()\n",
      "2019-03-12 16:58:44,959 INFO sqlalchemy.engine.base.Engine PRAGMA table_info(\"foodcomex_compound_providers\")\n",
      "2019-03-12 16:58:44,959 INFO sqlalchemy.engine.base.Engine ()\n",
      "2019-03-12 16:58:44,961 INFO sqlalchemy.engine.base.Engine PRAGMA table_info(\"foodcomex_compounds\")\n",
      "2019-03-12 16:58:44,963 INFO sqlalchemy.engine.base.Engine ()\n",
      "2019-03-12 16:58:44,966 INFO sqlalchemy.engine.base.Engine PRAGMA table_info(\"foods\")\n",
      "2019-03-12 16:58:44,970 INFO sqlalchemy.engine.base.Engine ()\n",
      "2019-03-12 16:58:44,974 INFO sqlalchemy.engine.base.Engine PRAGMA table_info(\"health_effects\")\n",
      "2019-03-12 16:58:44,975 INFO sqlalchemy.engine.base.Engine ()\n",
      "2019-03-12 16:58:44,978 INFO sqlalchemy.engine.base.Engine PRAGMA table_info(\"nutrients\")\n",
      "2019-03-12 16:58:44,980 INFO sqlalchemy.engine.base.Engine ()\n",
      "2019-03-12 16:58:44,982 INFO sqlalchemy.engine.base.Engine PRAGMA table_info(\"pathways\")\n",
      "2019-03-12 16:58:44,983 INFO sqlalchemy.engine.base.Engine ()\n",
      "2019-03-12 16:58:44,985 INFO sqlalchemy.engine.base.Engine PRAGMA table_info(\"references\")\n",
      "2019-03-12 16:58:44,986 INFO sqlalchemy.engine.base.Engine ()\n"
     ]
    }
   ],
   "source": [
    "#Make a dict of list of names of all the columns in all the tables\n",
    "#for easy reference\n",
    "\n",
    "#Get list of all table names\n",
    "table_names = inspector.get_table_names()\n",
    "\n",
    "tables_columns = dict()\n",
    "#For each table name\n",
    "for table in table_names:\n",
    "    column_names = []\n",
    "    #for each column in the table, get just the name\n",
    "    for column in inspector.get_columns(table):\n",
    "        column_names.append(column['name'])\n",
    "    tables_columns[table] = column_names"
   ]
  },
  {
   "cell_type": "markdown",
   "metadata": {},
   "source": [
    "<a id = 'eda'></a>"
   ]
  },
  {
   "cell_type": "markdown",
   "metadata": {},
   "source": [
    "[(Back to top)](#top)\n",
    "\n",
    "# Exploratory Data Analysis\n",
    "## Foods table"
   ]
  },
  {
   "cell_type": "code",
   "execution_count": 26,
   "metadata": {},
   "outputs": [
    {
     "name": "stdout",
     "output_type": "stream",
     "text": [
      "2019-03-12 17:22:25,655 INFO sqlalchemy.engine.base.Engine SELECT f.* \n",
      "                            FROM foods f\n",
      "                            ;\n",
      "2019-03-12 17:22:25,657 INFO sqlalchemy.engine.base.Engine ()\n"
     ]
    }
   ],
   "source": [
    "foods = pd.read_sql_query('''SELECT f.* \n",
    "                            FROM foods f\n",
    "                            ;''', engine)"
   ]
  },
  {
   "cell_type": "code",
   "execution_count": 27,
   "metadata": {
    "scrolled": false
   },
   "outputs": [
    {
     "data": {
      "text/html": [
       "<div>\n",
       "<style scoped>\n",
       "    .dataframe tbody tr th:only-of-type {\n",
       "        vertical-align: middle;\n",
       "    }\n",
       "\n",
       "    .dataframe tbody tr th {\n",
       "        vertical-align: top;\n",
       "    }\n",
       "\n",
       "    .dataframe thead th {\n",
       "        text-align: right;\n",
       "    }\n",
       "</style>\n",
       "<table border=\"1\" class=\"dataframe\">\n",
       "  <thead>\n",
       "    <tr style=\"text-align: right;\">\n",
       "      <th></th>\n",
       "      <th>id</th>\n",
       "      <th>name</th>\n",
       "      <th>name_scientific</th>\n",
       "      <th>description</th>\n",
       "      <th>itis_id</th>\n",
       "      <th>wikipedia_id</th>\n",
       "      <th>wikipedia_id_img</th>\n",
       "      <th>picture_content_type</th>\n",
       "      <th>picture_file_size</th>\n",
       "      <th>picture_updated_at</th>\n",
       "      <th>...</th>\n",
       "      <th>food_subgroup</th>\n",
       "      <th>food_type</th>\n",
       "      <th>created_at</th>\n",
       "      <th>updated_at</th>\n",
       "      <th>creator_id</th>\n",
       "      <th>updater_id</th>\n",
       "      <th>export_to_afcdb</th>\n",
       "      <th>category</th>\n",
       "      <th>ncbi_taxonomy_id</th>\n",
       "      <th>export_to_foodb</th>\n",
       "    </tr>\n",
       "  </thead>\n",
       "  <tbody>\n",
       "    <tr>\n",
       "      <th>0</th>\n",
       "      <td>1</td>\n",
       "      <td>Angelica</td>\n",
       "      <td>Angelica keiskei</td>\n",
       "      <td>Angelica is a genus of about 60 species of tal...</td>\n",
       "      <td></td>\n",
       "      <td>Angelica</td>\n",
       "      <td>1.jpg</td>\n",
       "      <td>image/jpeg</td>\n",
       "      <td>111325</td>\n",
       "      <td>2012-04-20 09:29:57 UTC</td>\n",
       "      <td>...</td>\n",
       "      <td>Herbs</td>\n",
       "      <td>Type 1</td>\n",
       "      <td>2011-02-09 00:37:14 UTC</td>\n",
       "      <td>2017-06-27 17:13:48 UTC</td>\n",
       "      <td></td>\n",
       "      <td>2</td>\n",
       "      <td>FALSE</td>\n",
       "      <td>specific</td>\n",
       "      <td>357850</td>\n",
       "      <td>TRUE</td>\n",
       "    </tr>\n",
       "    <tr>\n",
       "      <th>1</th>\n",
       "      <td>2</td>\n",
       "      <td>Savoy cabbage</td>\n",
       "      <td>Brassica oleracea var. sabauda</td>\n",
       "      <td>Savoy cabbage (Brassica oleracea convar. capit...</td>\n",
       "      <td></td>\n",
       "      <td>Savoy cabbage</td>\n",
       "      <td>2.jpg</td>\n",
       "      <td>image/jpeg</td>\n",
       "      <td>155178</td>\n",
       "      <td>2012-04-20 09:39:54 UTC</td>\n",
       "      <td>...</td>\n",
       "      <td>Cabbages</td>\n",
       "      <td>Type 1</td>\n",
       "      <td>2011-02-09 00:37:15 UTC</td>\n",
       "      <td>2017-03-20 21:26:22 UTC</td>\n",
       "      <td></td>\n",
       "      <td></td>\n",
       "      <td>FALSE</td>\n",
       "      <td>specific</td>\n",
       "      <td>1216010</td>\n",
       "      <td>TRUE</td>\n",
       "    </tr>\n",
       "    <tr>\n",
       "      <th>2</th>\n",
       "      <td>3</td>\n",
       "      <td>Silver linden</td>\n",
       "      <td>Tilia argentea</td>\n",
       "      <td>Tilia tomentosa (Silver Lime in the UK and Sil...</td>\n",
       "      <td></td>\n",
       "      <td>Tilia tomentosa</td>\n",
       "      <td>3.jpg</td>\n",
       "      <td>image/jpeg</td>\n",
       "      <td>56367</td>\n",
       "      <td>2012-04-20 09:41:25 UTC</td>\n",
       "      <td>...</td>\n",
       "      <td>Herbs</td>\n",
       "      <td>Type 1</td>\n",
       "      <td>2011-02-09 00:37:15 UTC</td>\n",
       "      <td>2015-10-02 21:24:39 UTC</td>\n",
       "      <td></td>\n",
       "      <td></td>\n",
       "      <td>FALSE</td>\n",
       "      <td>specific</td>\n",
       "      <td></td>\n",
       "      <td>TRUE</td>\n",
       "    </tr>\n",
       "    <tr>\n",
       "      <th>3</th>\n",
       "      <td>4</td>\n",
       "      <td>Kiwi</td>\n",
       "      <td>Actinidia chinensis</td>\n",
       "      <td>The kiwifruit, often shortened to kiwi in many...</td>\n",
       "      <td>506775</td>\n",
       "      <td>Kiwifruit</td>\n",
       "      <td>4.jpg</td>\n",
       "      <td>image/jpeg</td>\n",
       "      <td>110661</td>\n",
       "      <td>2012-04-20 09:32:21 UTC</td>\n",
       "      <td>...</td>\n",
       "      <td>Tropical fruits</td>\n",
       "      <td>Type 1</td>\n",
       "      <td>2011-02-09 00:37:15 UTC</td>\n",
       "      <td>2017-03-20 21:26:22 UTC</td>\n",
       "      <td></td>\n",
       "      <td></td>\n",
       "      <td>FALSE</td>\n",
       "      <td>specific</td>\n",
       "      <td>3625</td>\n",
       "      <td>TRUE</td>\n",
       "    </tr>\n",
       "    <tr>\n",
       "      <th>4</th>\n",
       "      <td>5</td>\n",
       "      <td>Allium (Onion)</td>\n",
       "      <td>Allium</td>\n",
       "      <td>Allium haematochiton is a species of wild onio...</td>\n",
       "      <td>42634</td>\n",
       "      <td>Allium haematochiton</td>\n",
       "      <td>5.jpg</td>\n",
       "      <td>image/jpeg</td>\n",
       "      <td>341911</td>\n",
       "      <td>2012-04-20 09:37:44 UTC</td>\n",
       "      <td>...</td>\n",
       "      <td>Onion-family vegetables</td>\n",
       "      <td>Type 1</td>\n",
       "      <td>2011-02-09 00:37:15 UTC</td>\n",
       "      <td>2017-03-20 21:26:22 UTC</td>\n",
       "      <td></td>\n",
       "      <td></td>\n",
       "      <td>FALSE</td>\n",
       "      <td>specific</td>\n",
       "      <td>4678</td>\n",
       "      <td>TRUE</td>\n",
       "    </tr>\n",
       "  </tbody>\n",
       "</table>\n",
       "<p>5 rows × 22 columns</p>\n",
       "</div>"
      ],
      "text/plain": [
       "  id            name                 name_scientific  \\\n",
       "0  1        Angelica                Angelica keiskei   \n",
       "1  2   Savoy cabbage  Brassica oleracea var. sabauda   \n",
       "2  3   Silver linden                  Tilia argentea   \n",
       "3  4            Kiwi             Actinidia chinensis   \n",
       "4  5  Allium (Onion)                          Allium   \n",
       "\n",
       "                                         description itis_id  \\\n",
       "0  Angelica is a genus of about 60 species of tal...           \n",
       "1  Savoy cabbage (Brassica oleracea convar. capit...           \n",
       "2  Tilia tomentosa (Silver Lime in the UK and Sil...           \n",
       "3  The kiwifruit, often shortened to kiwi in many...  506775   \n",
       "4  Allium haematochiton is a species of wild onio...   42634   \n",
       "\n",
       "           wikipedia_id wikipedia_id_img picture_content_type  \\\n",
       "0              Angelica            1.jpg           image/jpeg   \n",
       "1         Savoy cabbage            2.jpg           image/jpeg   \n",
       "2       Tilia tomentosa            3.jpg           image/jpeg   \n",
       "3             Kiwifruit            4.jpg           image/jpeg   \n",
       "4  Allium haematochiton            5.jpg           image/jpeg   \n",
       "\n",
       "  picture_file_size       picture_updated_at       ...        \\\n",
       "0            111325  2012-04-20 09:29:57 UTC       ...         \n",
       "1            155178  2012-04-20 09:39:54 UTC       ...         \n",
       "2             56367  2012-04-20 09:41:25 UTC       ...         \n",
       "3            110661  2012-04-20 09:32:21 UTC       ...         \n",
       "4            341911  2012-04-20 09:37:44 UTC       ...         \n",
       "\n",
       "             food_subgroup food_type               created_at  \\\n",
       "0                    Herbs    Type 1  2011-02-09 00:37:14 UTC   \n",
       "1                 Cabbages    Type 1  2011-02-09 00:37:15 UTC   \n",
       "2                    Herbs    Type 1  2011-02-09 00:37:15 UTC   \n",
       "3          Tropical fruits    Type 1  2011-02-09 00:37:15 UTC   \n",
       "4  Onion-family vegetables    Type 1  2011-02-09 00:37:15 UTC   \n",
       "\n",
       "                updated_at creator_id updater_id export_to_afcdb  category  \\\n",
       "0  2017-06-27 17:13:48 UTC                     2           FALSE  specific   \n",
       "1  2017-03-20 21:26:22 UTC                                 FALSE  specific   \n",
       "2  2015-10-02 21:24:39 UTC                                 FALSE  specific   \n",
       "3  2017-03-20 21:26:22 UTC                                 FALSE  specific   \n",
       "4  2017-03-20 21:26:22 UTC                                 FALSE  specific   \n",
       "\n",
       "  ncbi_taxonomy_id export_to_foodb  \n",
       "0           357850            TRUE  \n",
       "1          1216010            TRUE  \n",
       "2                             TRUE  \n",
       "3             3625            TRUE  \n",
       "4             4678            TRUE  \n",
       "\n",
       "[5 rows x 22 columns]"
      ]
     },
     "execution_count": 27,
     "metadata": {},
     "output_type": "execute_result"
    }
   ],
   "source": [
    "foods.head()"
   ]
  },
  {
   "cell_type": "code",
   "execution_count": 69,
   "metadata": {},
   "outputs": [
    {
     "name": "stdout",
     "output_type": "stream",
     "text": [
      "<class 'pandas.core.frame.DataFrame'>\n",
      "RangeIndex: 907 entries, 0 to 906\n",
      "Data columns (total 22 columns):\n",
      "id                      907 non-null object\n",
      "name                    907 non-null object\n",
      "name_scientific         907 non-null object\n",
      "description             907 non-null object\n",
      "itis_id                 907 non-null object\n",
      "wikipedia_id            907 non-null object\n",
      "wikipedia_id_img        907 non-null object\n",
      "picture_content_type    907 non-null object\n",
      "picture_file_size       907 non-null object\n",
      "picture_updated_at      907 non-null object\n",
      "legacy_id               907 non-null object\n",
      "food_group              907 non-null object\n",
      "food_subgroup           907 non-null object\n",
      "food_type               907 non-null object\n",
      "created_at              907 non-null object\n",
      "updated_at              907 non-null object\n",
      "creator_id              907 non-null object\n",
      "updater_id              907 non-null object\n",
      "export_to_afcdb         907 non-null object\n",
      "category                907 non-null object\n",
      "ncbi_taxonomy_id        907 non-null object\n",
      "export_to_foodb         907 non-null object\n",
      "dtypes: object(22)\n",
      "memory usage: 156.0+ KB\n"
     ]
    }
   ],
   "source": [
    "foods.info()"
   ]
  },
  {
   "cell_type": "markdown",
   "metadata": {},
   "source": [
    "Columns to drop:\n",
    "\n",
    "picture_updated_at\t\n",
    "\n",
    "created_at\n",
    "\n",
    "updated_at\n",
    "\n",
    "creator_id\n",
    "\n",
    "updater_id\n",
    "\n",
    "export_to_afcdb\n",
    "\n",
    "export_to_foodb"
   ]
  },
  {
   "cell_type": "code",
   "execution_count": 24,
   "metadata": {},
   "outputs": [
    {
     "data": {
      "text/plain": [
       "(907, 22)"
      ]
     },
     "execution_count": 24,
     "metadata": {},
     "output_type": "execute_result"
    }
   ],
   "source": [
    "foods.shape"
   ]
  },
  {
   "cell_type": "code",
   "execution_count": 25,
   "metadata": {},
   "outputs": [
    {
     "data": {
      "text/plain": [
       "(907, 907, 907)"
      ]
     },
     "execution_count": 25,
     "metadata": {},
     "output_type": "execute_result"
    }
   ],
   "source": [
    "foods['name'].value_counts().sum(), foods['name'].value_counts().sum(), foods['id'].value_counts().sum()"
   ]
  },
  {
   "cell_type": "markdown",
   "metadata": {},
   "source": [
    "### There are 907 foods in the database."
   ]
  },
  {
   "cell_type": "code",
   "execution_count": 9,
   "metadata": {
    "scrolled": true
   },
   "outputs": [
    {
     "data": {
      "text/plain": [
       "['id',\n",
       " 'name',\n",
       " 'name_scientific',\n",
       " 'description',\n",
       " 'itis_id',\n",
       " 'wikipedia_id',\n",
       " 'wikipedia_id_img',\n",
       " 'picture_content_type',\n",
       " 'picture_file_size',\n",
       " 'picture_updated_at',\n",
       " 'legacy_id',\n",
       " 'food_group',\n",
       " 'food_subgroup',\n",
       " 'food_type',\n",
       " 'created_at',\n",
       " 'updated_at',\n",
       " 'creator_id',\n",
       " 'updater_id',\n",
       " 'export_to_afcdb',\n",
       " 'category',\n",
       " 'ncbi_taxonomy_id',\n",
       " 'export_to_foodb']"
      ]
     },
     "execution_count": 9,
     "metadata": {},
     "output_type": "execute_result"
    }
   ],
   "source": [
    "tables_columns['foods']"
   ]
  },
  {
   "cell_type": "code",
   "execution_count": 28,
   "metadata": {},
   "outputs": [],
   "source": [
    "#alterante for food subgroup valuecounts\n",
    "#pd.read_sql_query('''SELECT f.food_subgroup, \n",
    "#                        COUNT(f.name) foods\n",
    " #                       FROM foods f\n",
    " #                       GROUP BY f.food_subgroup\n",
    "  #                      ORDER BY foods DESC\n",
    "  #                  ;''', engine)"
   ]
  },
  {
   "cell_type": "markdown",
   "metadata": {},
   "source": [
    "### Investigating Type 1 and Type 2"
   ]
  },
  {
   "cell_type": "code",
   "execution_count": 29,
   "metadata": {},
   "outputs": [
    {
     "name": "stdout",
     "output_type": "stream",
     "text": [
      "2019-03-12 19:13:32,229 INFO sqlalchemy.engine.base.Engine SELECT f.food_subgroup, \n",
      "                        COUNT(f.food_subgroup) subgroup\n",
      "                        FROM foods f\n",
      "                        WHERE f.food_type == 'Type 1'\n",
      "                        GROUP BY f.food_subgroup\n",
      "                    ;\n",
      "2019-03-12 19:13:32,230 INFO sqlalchemy.engine.base.Engine ()\n"
     ]
    },
    {
     "data": {
      "text/html": [
       "<div>\n",
       "<style scoped>\n",
       "    .dataframe tbody tr th:only-of-type {\n",
       "        vertical-align: middle;\n",
       "    }\n",
       "\n",
       "    .dataframe tbody tr th {\n",
       "        vertical-align: top;\n",
       "    }\n",
       "\n",
       "    .dataframe thead th {\n",
       "        text-align: right;\n",
       "    }\n",
       "</style>\n",
       "<table border=\"1\" class=\"dataframe\">\n",
       "  <thead>\n",
       "    <tr style=\"text-align: right;\">\n",
       "      <th></th>\n",
       "      <th>food_subgroup</th>\n",
       "      <th>subgroup</th>\n",
       "    </tr>\n",
       "  </thead>\n",
       "  <tbody>\n",
       "    <tr>\n",
       "      <th>0</th>\n",
       "      <td>Amphibians</td>\n",
       "      <td>1</td>\n",
       "    </tr>\n",
       "    <tr>\n",
       "      <th>1</th>\n",
       "      <td>Beans</td>\n",
       "      <td>14</td>\n",
       "    </tr>\n",
       "    <tr>\n",
       "      <th>2</th>\n",
       "      <td>Berries</td>\n",
       "      <td>55</td>\n",
       "    </tr>\n",
       "    <tr>\n",
       "      <th>3</th>\n",
       "      <td>Bovines</td>\n",
       "      <td>4</td>\n",
       "    </tr>\n",
       "    <tr>\n",
       "      <th>4</th>\n",
       "      <td>Cabbages</td>\n",
       "      <td>20</td>\n",
       "    </tr>\n",
       "    <tr>\n",
       "      <th>5</th>\n",
       "      <td>Caprae</td>\n",
       "      <td>1</td>\n",
       "    </tr>\n",
       "    <tr>\n",
       "      <th>6</th>\n",
       "      <td>Cereals</td>\n",
       "      <td>18</td>\n",
       "    </tr>\n",
       "    <tr>\n",
       "      <th>7</th>\n",
       "      <td>Cetaceans</td>\n",
       "      <td>3</td>\n",
       "    </tr>\n",
       "    <tr>\n",
       "      <th>8</th>\n",
       "      <td>Citrus</td>\n",
       "      <td>8</td>\n",
       "    </tr>\n",
       "    <tr>\n",
       "      <th>9</th>\n",
       "      <td>Cocoa</td>\n",
       "      <td>1</td>\n",
       "    </tr>\n",
       "    <tr>\n",
       "      <th>10</th>\n",
       "      <td>Coffee</td>\n",
       "      <td>3</td>\n",
       "    </tr>\n",
       "    <tr>\n",
       "      <th>11</th>\n",
       "      <td>Crustaceans</td>\n",
       "      <td>11</td>\n",
       "    </tr>\n",
       "    <tr>\n",
       "      <th>12</th>\n",
       "      <td>Drupes</td>\n",
       "      <td>9</td>\n",
       "    </tr>\n",
       "    <tr>\n",
       "      <th>13</th>\n",
       "      <td>Equines</td>\n",
       "      <td>1</td>\n",
       "    </tr>\n",
       "    <tr>\n",
       "      <th>14</th>\n",
       "      <td>Fishes</td>\n",
       "      <td>110</td>\n",
       "    </tr>\n",
       "    <tr>\n",
       "      <th>15</th>\n",
       "      <td>Fruit vegetables</td>\n",
       "      <td>19</td>\n",
       "    </tr>\n",
       "    <tr>\n",
       "      <th>16</th>\n",
       "      <td>Gourds</td>\n",
       "      <td>16</td>\n",
       "    </tr>\n",
       "    <tr>\n",
       "      <th>17</th>\n",
       "      <td>Herbal teas</td>\n",
       "      <td>2</td>\n",
       "    </tr>\n",
       "    <tr>\n",
       "      <th>18</th>\n",
       "      <td>Herbs</td>\n",
       "      <td>61</td>\n",
       "    </tr>\n",
       "    <tr>\n",
       "      <th>19</th>\n",
       "      <td>Lagomorphs</td>\n",
       "      <td>3</td>\n",
       "    </tr>\n",
       "    <tr>\n",
       "      <th>20</th>\n",
       "      <td>Leaf vegetables</td>\n",
       "      <td>19</td>\n",
       "    </tr>\n",
       "    <tr>\n",
       "      <th>21</th>\n",
       "      <td>Lentils</td>\n",
       "      <td>1</td>\n",
       "    </tr>\n",
       "    <tr>\n",
       "      <th>22</th>\n",
       "      <td>Marsupials</td>\n",
       "      <td>1</td>\n",
       "    </tr>\n",
       "    <tr>\n",
       "      <th>23</th>\n",
       "      <td>Mollusks</td>\n",
       "      <td>17</td>\n",
       "    </tr>\n",
       "    <tr>\n",
       "      <th>24</th>\n",
       "      <td>Mushrooms</td>\n",
       "      <td>9</td>\n",
       "    </tr>\n",
       "    <tr>\n",
       "      <th>25</th>\n",
       "      <td>Nuts</td>\n",
       "      <td>25</td>\n",
       "    </tr>\n",
       "    <tr>\n",
       "      <th>26</th>\n",
       "      <td>Oilseed crops</td>\n",
       "      <td>15</td>\n",
       "    </tr>\n",
       "    <tr>\n",
       "      <th>27</th>\n",
       "      <td>Onion-family vegetables</td>\n",
       "      <td>6</td>\n",
       "    </tr>\n",
       "    <tr>\n",
       "      <th>28</th>\n",
       "      <td>Other aquatic foods</td>\n",
       "      <td>4</td>\n",
       "    </tr>\n",
       "    <tr>\n",
       "      <th>29</th>\n",
       "      <td>Other fruits</td>\n",
       "      <td>3</td>\n",
       "    </tr>\n",
       "    <tr>\n",
       "      <th>30</th>\n",
       "      <td>Other mammals</td>\n",
       "      <td>4</td>\n",
       "    </tr>\n",
       "    <tr>\n",
       "      <th>31</th>\n",
       "      <td>Other pulses</td>\n",
       "      <td>2</td>\n",
       "    </tr>\n",
       "    <tr>\n",
       "      <th>32</th>\n",
       "      <td>Other seeds</td>\n",
       "      <td>7</td>\n",
       "    </tr>\n",
       "    <tr>\n",
       "      <th>33</th>\n",
       "      <td>Other vegetables</td>\n",
       "      <td>12</td>\n",
       "    </tr>\n",
       "    <tr>\n",
       "      <th>34</th>\n",
       "      <td>Ovis</td>\n",
       "      <td>1</td>\n",
       "    </tr>\n",
       "    <tr>\n",
       "      <th>35</th>\n",
       "      <td>Peas</td>\n",
       "      <td>8</td>\n",
       "    </tr>\n",
       "    <tr>\n",
       "      <th>36</th>\n",
       "      <td>Pinnipeds</td>\n",
       "      <td>6</td>\n",
       "    </tr>\n",
       "    <tr>\n",
       "      <th>37</th>\n",
       "      <td>Pomes</td>\n",
       "      <td>6</td>\n",
       "    </tr>\n",
       "    <tr>\n",
       "      <th>38</th>\n",
       "      <td>Poultry</td>\n",
       "      <td>15</td>\n",
       "    </tr>\n",
       "    <tr>\n",
       "      <th>39</th>\n",
       "      <td>Rodents</td>\n",
       "      <td>4</td>\n",
       "    </tr>\n",
       "    <tr>\n",
       "      <th>40</th>\n",
       "      <td>Root vegetables</td>\n",
       "      <td>23</td>\n",
       "    </tr>\n",
       "    <tr>\n",
       "      <th>41</th>\n",
       "      <td>Seaweed</td>\n",
       "      <td>8</td>\n",
       "    </tr>\n",
       "    <tr>\n",
       "      <th>42</th>\n",
       "      <td>Shoot vegetables</td>\n",
       "      <td>5</td>\n",
       "    </tr>\n",
       "    <tr>\n",
       "      <th>43</th>\n",
       "      <td>Soy</td>\n",
       "      <td>1</td>\n",
       "    </tr>\n",
       "    <tr>\n",
       "      <th>44</th>\n",
       "      <td>Spices</td>\n",
       "      <td>23</td>\n",
       "    </tr>\n",
       "    <tr>\n",
       "      <th>45</th>\n",
       "      <td>Stalk vegetables</td>\n",
       "      <td>3</td>\n",
       "    </tr>\n",
       "    <tr>\n",
       "      <th>46</th>\n",
       "      <td>Swine</td>\n",
       "      <td>2</td>\n",
       "    </tr>\n",
       "    <tr>\n",
       "      <th>47</th>\n",
       "      <td>Teas</td>\n",
       "      <td>1</td>\n",
       "    </tr>\n",
       "    <tr>\n",
       "      <th>48</th>\n",
       "      <td>Tropical fruits</td>\n",
       "      <td>43</td>\n",
       "    </tr>\n",
       "    <tr>\n",
       "      <th>49</th>\n",
       "      <td>Tubers</td>\n",
       "      <td>8</td>\n",
       "    </tr>\n",
       "    <tr>\n",
       "      <th>50</th>\n",
       "      <td>Venison</td>\n",
       "      <td>6</td>\n",
       "    </tr>\n",
       "  </tbody>\n",
       "</table>\n",
       "</div>"
      ],
      "text/plain": [
       "              food_subgroup  subgroup\n",
       "0                Amphibians         1\n",
       "1                     Beans        14\n",
       "2                   Berries        55\n",
       "3                   Bovines         4\n",
       "4                  Cabbages        20\n",
       "5                    Caprae         1\n",
       "6                   Cereals        18\n",
       "7                 Cetaceans         3\n",
       "8                    Citrus         8\n",
       "9                     Cocoa         1\n",
       "10                   Coffee         3\n",
       "11              Crustaceans        11\n",
       "12                   Drupes         9\n",
       "13                  Equines         1\n",
       "14                   Fishes       110\n",
       "15         Fruit vegetables        19\n",
       "16                   Gourds        16\n",
       "17              Herbal teas         2\n",
       "18                    Herbs        61\n",
       "19               Lagomorphs         3\n",
       "20          Leaf vegetables        19\n",
       "21                  Lentils         1\n",
       "22               Marsupials         1\n",
       "23                 Mollusks        17\n",
       "24                Mushrooms         9\n",
       "25                     Nuts        25\n",
       "26            Oilseed crops        15\n",
       "27  Onion-family vegetables         6\n",
       "28      Other aquatic foods         4\n",
       "29             Other fruits         3\n",
       "30            Other mammals         4\n",
       "31             Other pulses         2\n",
       "32              Other seeds         7\n",
       "33         Other vegetables        12\n",
       "34                     Ovis         1\n",
       "35                     Peas         8\n",
       "36                Pinnipeds         6\n",
       "37                    Pomes         6\n",
       "38                  Poultry        15\n",
       "39                  Rodents         4\n",
       "40          Root vegetables        23\n",
       "41                  Seaweed         8\n",
       "42         Shoot vegetables         5\n",
       "43                      Soy         1\n",
       "44                   Spices        23\n",
       "45         Stalk vegetables         3\n",
       "46                    Swine         2\n",
       "47                     Teas         1\n",
       "48          Tropical fruits        43\n",
       "49                   Tubers         8\n",
       "50                  Venison         6"
      ]
     },
     "execution_count": 29,
     "metadata": {},
     "output_type": "execute_result"
    }
   ],
   "source": [
    "pd.read_sql_query('''SELECT f.food_subgroup, \n",
    "                        COUNT(f.food_subgroup) subgroup\n",
    "                        FROM foods f\n",
    "                        WHERE f.food_type == 'Type 1'\n",
    "                        GROUP BY f.food_subgroup\n",
    "                    ;''', engine)"
   ]
  },
  {
   "cell_type": "code",
   "execution_count": 30,
   "metadata": {
    "scrolled": true
   },
   "outputs": [
    {
     "name": "stdout",
     "output_type": "stream",
     "text": [
      "2019-03-12 19:14:06,827 INFO sqlalchemy.engine.base.Engine SELECT f.food_subgroup, \n",
      "                        COUNT(f.food_subgroup) subgroup\n",
      "                        FROM foods f\n",
      "                        WHERE f.food_type == 'Type 2'\n",
      "                        GROUP BY f.food_subgroup\n",
      "                    ;\n",
      "2019-03-12 19:14:06,830 INFO sqlalchemy.engine.base.Engine ()\n"
     ]
    },
    {
     "data": {
      "text/html": [
       "<div>\n",
       "<style scoped>\n",
       "    .dataframe tbody tr th:only-of-type {\n",
       "        vertical-align: middle;\n",
       "    }\n",
       "\n",
       "    .dataframe tbody tr th {\n",
       "        vertical-align: top;\n",
       "    }\n",
       "\n",
       "    .dataframe thead th {\n",
       "        text-align: right;\n",
       "    }\n",
       "</style>\n",
       "<table border=\"1\" class=\"dataframe\">\n",
       "  <thead>\n",
       "    <tr style=\"text-align: right;\">\n",
       "      <th></th>\n",
       "      <th>food_subgroup</th>\n",
       "      <th>subgroup</th>\n",
       "    </tr>\n",
       "  </thead>\n",
       "  <tbody>\n",
       "    <tr>\n",
       "      <th>0</th>\n",
       "      <td>Alcoholic beverages</td>\n",
       "      <td>2</td>\n",
       "    </tr>\n",
       "    <tr>\n",
       "      <th>1</th>\n",
       "      <td>American cuisine</td>\n",
       "      <td>3</td>\n",
       "    </tr>\n",
       "    <tr>\n",
       "      <th>2</th>\n",
       "      <td>Animal fats</td>\n",
       "      <td>4</td>\n",
       "    </tr>\n",
       "    <tr>\n",
       "      <th>3</th>\n",
       "      <td>Asian cuisine</td>\n",
       "      <td>2</td>\n",
       "    </tr>\n",
       "    <tr>\n",
       "      <th>4</th>\n",
       "      <td>Baby foods</td>\n",
       "      <td>1</td>\n",
       "    </tr>\n",
       "    <tr>\n",
       "      <th>5</th>\n",
       "      <td>Baking goods</td>\n",
       "      <td>13</td>\n",
       "    </tr>\n",
       "    <tr>\n",
       "      <th>6</th>\n",
       "      <td>Berber cuisine</td>\n",
       "      <td>1</td>\n",
       "    </tr>\n",
       "    <tr>\n",
       "      <th>7</th>\n",
       "      <td>Bread products</td>\n",
       "      <td>1</td>\n",
       "    </tr>\n",
       "    <tr>\n",
       "      <th>8</th>\n",
       "      <td>Candies</td>\n",
       "      <td>8</td>\n",
       "    </tr>\n",
       "    <tr>\n",
       "      <th>9</th>\n",
       "      <td>Cereal products</td>\n",
       "      <td>8</td>\n",
       "    </tr>\n",
       "    <tr>\n",
       "      <th>10</th>\n",
       "      <td>Cocoa products</td>\n",
       "      <td>6</td>\n",
       "    </tr>\n",
       "    <tr>\n",
       "      <th>11</th>\n",
       "      <td>Coffee products</td>\n",
       "      <td>1</td>\n",
       "    </tr>\n",
       "    <tr>\n",
       "      <th>12</th>\n",
       "      <td>Condiments</td>\n",
       "      <td>4</td>\n",
       "    </tr>\n",
       "    <tr>\n",
       "      <th>13</th>\n",
       "      <td>Desserts</td>\n",
       "      <td>7</td>\n",
       "    </tr>\n",
       "    <tr>\n",
       "      <th>14</th>\n",
       "      <td>Distilled beverages</td>\n",
       "      <td>6</td>\n",
       "    </tr>\n",
       "    <tr>\n",
       "      <th>15</th>\n",
       "      <td>Doughs</td>\n",
       "      <td>2</td>\n",
       "    </tr>\n",
       "    <tr>\n",
       "      <th>16</th>\n",
       "      <td>Dressings</td>\n",
       "      <td>1</td>\n",
       "    </tr>\n",
       "    <tr>\n",
       "      <th>17</th>\n",
       "      <td>Fermented beverages</td>\n",
       "      <td>6</td>\n",
       "    </tr>\n",
       "    <tr>\n",
       "      <th>18</th>\n",
       "      <td>Fermented milk products</td>\n",
       "      <td>4</td>\n",
       "    </tr>\n",
       "    <tr>\n",
       "      <th>19</th>\n",
       "      <td>Fermented milks</td>\n",
       "      <td>3</td>\n",
       "    </tr>\n",
       "    <tr>\n",
       "      <th>20</th>\n",
       "      <td>Fish products</td>\n",
       "      <td>1</td>\n",
       "    </tr>\n",
       "    <tr>\n",
       "      <th>21</th>\n",
       "      <td>Flat breads</td>\n",
       "      <td>6</td>\n",
       "    </tr>\n",
       "    <tr>\n",
       "      <th>22</th>\n",
       "      <td>Fortified wines</td>\n",
       "      <td>5</td>\n",
       "    </tr>\n",
       "    <tr>\n",
       "      <th>23</th>\n",
       "      <td>Frozen desserts</td>\n",
       "      <td>4</td>\n",
       "    </tr>\n",
       "    <tr>\n",
       "      <th>24</th>\n",
       "      <td>Fruit products</td>\n",
       "      <td>3</td>\n",
       "    </tr>\n",
       "    <tr>\n",
       "      <th>25</th>\n",
       "      <td>Gourds</td>\n",
       "      <td>1</td>\n",
       "    </tr>\n",
       "    <tr>\n",
       "      <th>26</th>\n",
       "      <td>Ground meat</td>\n",
       "      <td>5</td>\n",
       "    </tr>\n",
       "    <tr>\n",
       "      <th>27</th>\n",
       "      <td>Herb and spice mixtures</td>\n",
       "      <td>1</td>\n",
       "    </tr>\n",
       "    <tr>\n",
       "      <th>28</th>\n",
       "      <td>Jewish cuisine</td>\n",
       "      <td>1</td>\n",
       "    </tr>\n",
       "    <tr>\n",
       "      <th>29</th>\n",
       "      <td>Latin American cuisine</td>\n",
       "      <td>4</td>\n",
       "    </tr>\n",
       "    <tr>\n",
       "      <th>...</th>\n",
       "      <td>...</td>\n",
       "      <td>...</td>\n",
       "    </tr>\n",
       "    <tr>\n",
       "      <th>33</th>\n",
       "      <td>Mexican cuisine</td>\n",
       "      <td>4</td>\n",
       "    </tr>\n",
       "    <tr>\n",
       "      <th>34</th>\n",
       "      <td>Milk desserts</td>\n",
       "      <td>2</td>\n",
       "    </tr>\n",
       "    <tr>\n",
       "      <th>35</th>\n",
       "      <td>Nutritional beverages</td>\n",
       "      <td>2</td>\n",
       "    </tr>\n",
       "    <tr>\n",
       "      <th>36</th>\n",
       "      <td>Nuts</td>\n",
       "      <td>1</td>\n",
       "    </tr>\n",
       "    <tr>\n",
       "      <th>37</th>\n",
       "      <td>Oilseed crops</td>\n",
       "      <td>1</td>\n",
       "    </tr>\n",
       "    <tr>\n",
       "      <th>38</th>\n",
       "      <td>Other aquatic foods</td>\n",
       "      <td>1</td>\n",
       "    </tr>\n",
       "    <tr>\n",
       "      <th>39</th>\n",
       "      <td>Other beverages</td>\n",
       "      <td>6</td>\n",
       "    </tr>\n",
       "    <tr>\n",
       "      <th>40</th>\n",
       "      <td>Other breads</td>\n",
       "      <td>2</td>\n",
       "    </tr>\n",
       "    <tr>\n",
       "      <th>41</th>\n",
       "      <td>Other confectioneries</td>\n",
       "      <td>6</td>\n",
       "    </tr>\n",
       "    <tr>\n",
       "      <th>42</th>\n",
       "      <td>Other dishes</td>\n",
       "      <td>13</td>\n",
       "    </tr>\n",
       "    <tr>\n",
       "      <th>43</th>\n",
       "      <td>Other milk products</td>\n",
       "      <td>8</td>\n",
       "    </tr>\n",
       "    <tr>\n",
       "      <th>44</th>\n",
       "      <td>Pasta dishes</td>\n",
       "      <td>4</td>\n",
       "    </tr>\n",
       "    <tr>\n",
       "      <th>45</th>\n",
       "      <td>Potato dishes</td>\n",
       "      <td>3</td>\n",
       "    </tr>\n",
       "    <tr>\n",
       "      <th>46</th>\n",
       "      <td>Roe</td>\n",
       "      <td>1</td>\n",
       "    </tr>\n",
       "    <tr>\n",
       "      <th>47</th>\n",
       "      <td>Sandwiches</td>\n",
       "      <td>6</td>\n",
       "    </tr>\n",
       "    <tr>\n",
       "      <th>48</th>\n",
       "      <td>Sauces</td>\n",
       "      <td>1</td>\n",
       "    </tr>\n",
       "    <tr>\n",
       "      <th>49</th>\n",
       "      <td>Seasonings</td>\n",
       "      <td>3</td>\n",
       "    </tr>\n",
       "    <tr>\n",
       "      <th>50</th>\n",
       "      <td>Snack foods</td>\n",
       "      <td>8</td>\n",
       "    </tr>\n",
       "    <tr>\n",
       "      <th>51</th>\n",
       "      <td>Soy products</td>\n",
       "      <td>8</td>\n",
       "    </tr>\n",
       "    <tr>\n",
       "      <th>52</th>\n",
       "      <td>Spreads</td>\n",
       "      <td>2</td>\n",
       "    </tr>\n",
       "    <tr>\n",
       "      <th>53</th>\n",
       "      <td>Substitutes</td>\n",
       "      <td>6</td>\n",
       "    </tr>\n",
       "    <tr>\n",
       "      <th>54</th>\n",
       "      <td>Sugars</td>\n",
       "      <td>1</td>\n",
       "    </tr>\n",
       "    <tr>\n",
       "      <th>55</th>\n",
       "      <td>Sweet breads</td>\n",
       "      <td>1</td>\n",
       "    </tr>\n",
       "    <tr>\n",
       "      <th>56</th>\n",
       "      <td>Tex-Mex cuisine</td>\n",
       "      <td>4</td>\n",
       "    </tr>\n",
       "    <tr>\n",
       "      <th>57</th>\n",
       "      <td>Unclassified</td>\n",
       "      <td>1</td>\n",
       "    </tr>\n",
       "    <tr>\n",
       "      <th>58</th>\n",
       "      <td>Unfermented milks</td>\n",
       "      <td>7</td>\n",
       "    </tr>\n",
       "    <tr>\n",
       "      <th>59</th>\n",
       "      <td>Vegetable fats</td>\n",
       "      <td>3</td>\n",
       "    </tr>\n",
       "    <tr>\n",
       "      <th>60</th>\n",
       "      <td>Vegetable products</td>\n",
       "      <td>1</td>\n",
       "    </tr>\n",
       "    <tr>\n",
       "      <th>61</th>\n",
       "      <td>Waters</td>\n",
       "      <td>1</td>\n",
       "    </tr>\n",
       "    <tr>\n",
       "      <th>62</th>\n",
       "      <td>Wrappers</td>\n",
       "      <td>4</td>\n",
       "    </tr>\n",
       "  </tbody>\n",
       "</table>\n",
       "<p>63 rows × 2 columns</p>\n",
       "</div>"
      ],
      "text/plain": [
       "              food_subgroup  subgroup\n",
       "0       Alcoholic beverages         2\n",
       "1          American cuisine         3\n",
       "2               Animal fats         4\n",
       "3             Asian cuisine         2\n",
       "4                Baby foods         1\n",
       "5              Baking goods        13\n",
       "6            Berber cuisine         1\n",
       "7            Bread products         1\n",
       "8                   Candies         8\n",
       "9           Cereal products         8\n",
       "10           Cocoa products         6\n",
       "11          Coffee products         1\n",
       "12               Condiments         4\n",
       "13                 Desserts         7\n",
       "14      Distilled beverages         6\n",
       "15                   Doughs         2\n",
       "16                Dressings         1\n",
       "17      Fermented beverages         6\n",
       "18  Fermented milk products         4\n",
       "19          Fermented milks         3\n",
       "20            Fish products         1\n",
       "21              Flat breads         6\n",
       "22          Fortified wines         5\n",
       "23          Frozen desserts         4\n",
       "24           Fruit products         3\n",
       "25                   Gourds         1\n",
       "26              Ground meat         5\n",
       "27  Herb and spice mixtures         1\n",
       "28           Jewish cuisine         1\n",
       "29   Latin American cuisine         4\n",
       "..                      ...       ...\n",
       "33          Mexican cuisine         4\n",
       "34            Milk desserts         2\n",
       "35    Nutritional beverages         2\n",
       "36                     Nuts         1\n",
       "37            Oilseed crops         1\n",
       "38      Other aquatic foods         1\n",
       "39          Other beverages         6\n",
       "40             Other breads         2\n",
       "41    Other confectioneries         6\n",
       "42             Other dishes        13\n",
       "43      Other milk products         8\n",
       "44             Pasta dishes         4\n",
       "45            Potato dishes         3\n",
       "46                      Roe         1\n",
       "47               Sandwiches         6\n",
       "48                   Sauces         1\n",
       "49               Seasonings         3\n",
       "50              Snack foods         8\n",
       "51             Soy products         8\n",
       "52                  Spreads         2\n",
       "53              Substitutes         6\n",
       "54                   Sugars         1\n",
       "55             Sweet breads         1\n",
       "56          Tex-Mex cuisine         4\n",
       "57             Unclassified         1\n",
       "58        Unfermented milks         7\n",
       "59           Vegetable fats         3\n",
       "60       Vegetable products         1\n",
       "61                   Waters         1\n",
       "62                 Wrappers         4\n",
       "\n",
       "[63 rows x 2 columns]"
      ]
     },
     "execution_count": 30,
     "metadata": {},
     "output_type": "execute_result"
    }
   ],
   "source": [
    "pd.read_sql_query('''SELECT f.food_subgroup, \n",
    "                        COUNT(f.food_subgroup) subgroup\n",
    "                        FROM foods f\n",
    "                        WHERE f.food_type == 'Type 2'\n",
    "                        GROUP BY f.food_subgroup\n",
    "                    ;''', engine)"
   ]
  },
  {
   "cell_type": "markdown",
   "metadata": {},
   "source": [
    "### Type 1 looks like unprocessed or unprepared foods. Type 2 foods are processed or prepared."
   ]
  },
  {
   "cell_type": "code",
   "execution_count": 51,
   "metadata": {},
   "outputs": [],
   "source": [
    "#foods[foods['food_subgroup'] == 'Marsupials']\n"
   ]
  },
  {
   "cell_type": "code",
   "execution_count": null,
   "metadata": {},
   "outputs": [],
   "source": [
    "#to drop: id 694 (subgroup Unclassified)\n",
    "#id 685 (subgroup waters)"
   ]
  },
  {
   "cell_type": "markdown",
   "metadata": {},
   "source": [
    "### Investigating NCBI Taxonomy ID"
   ]
  },
  {
   "cell_type": "code",
   "execution_count": 60,
   "metadata": {
    "scrolled": true
   },
   "outputs": [
    {
     "data": {
      "text/plain": [
       "0"
      ]
     },
     "execution_count": 60,
     "metadata": {},
     "output_type": "execute_result"
    }
   ],
   "source": [
    "#Says no NA values but I see some in the head\n",
    "foods['ncbi_taxonomy_id'].isna().sum()"
   ]
  },
  {
   "cell_type": "code",
   "execution_count": 72,
   "metadata": {
    "scrolled": true
   },
   "outputs": [
    {
     "data": {
      "text/plain": [
       "           276\n",
       "4072         6\n",
       "3885         3\n",
       "13427        3\n",
       "135518       2\n",
       "41679        2\n",
       "4682         2\n",
       "183260       2\n",
       "190544       2\n",
       "4679         2\n",
       "3661         2\n",
       "138011       2\n",
       "37656        2\n",
       "3714         2\n",
       "16718        1\n",
       "357850       1\n",
       "34256        1\n",
       "8113         1\n",
       "66014        1\n",
       "888065       1\n",
       "9031         1\n",
       "59166        1\n",
       "37796        1\n",
       "6565         1\n",
       "9721         1\n",
       "7797         1\n",
       "167592       1\n",
       "109171       1\n",
       "2763         1\n",
       "225387       1\n",
       "          ... \n",
       "49390        1\n",
       "33637        1\n",
       "195615       1\n",
       "397755       1\n",
       "36066        1\n",
       "8112         1\n",
       "106975       1\n",
       "36181        1\n",
       "42229        1\n",
       "9103         1\n",
       "4071         1\n",
       "334483       1\n",
       "4558         1\n",
       "32219        1\n",
       "6763         1\n",
       "29780        1\n",
       "1042646      1\n",
       "4039         1\n",
       "119950       1\n",
       "7935         1\n",
       "8017         1\n",
       "3891         1\n",
       "13493        1\n",
       "30850        1\n",
       "485725       1\n",
       "103480       1\n",
       "24663        1\n",
       "403101       1\n",
       "4681         1\n",
       "66656        1\n",
       "Name: ncbi_taxonomy_id, Length: 613, dtype: int64"
      ]
     },
     "execution_count": 72,
     "metadata": {},
     "output_type": "execute_result"
    }
   ],
   "source": [
    "foods['ncbi_taxonomy_id'].value_counts()b"
   ]
  },
  {
   "cell_type": "code",
   "execution_count": 57,
   "metadata": {
    "scrolled": true
   },
   "outputs": [
    {
     "data": {
      "text/html": [
       "<div>\n",
       "<style scoped>\n",
       "    .dataframe tbody tr th:only-of-type {\n",
       "        vertical-align: middle;\n",
       "    }\n",
       "\n",
       "    .dataframe tbody tr th {\n",
       "        vertical-align: top;\n",
       "    }\n",
       "\n",
       "    .dataframe thead th {\n",
       "        text-align: right;\n",
       "    }\n",
       "</style>\n",
       "<table border=\"1\" class=\"dataframe\">\n",
       "  <thead>\n",
       "    <tr style=\"text-align: right;\">\n",
       "      <th></th>\n",
       "      <th>id</th>\n",
       "      <th>name</th>\n",
       "      <th>name_scientific</th>\n",
       "      <th>description</th>\n",
       "      <th>itis_id</th>\n",
       "      <th>wikipedia_id</th>\n",
       "      <th>wikipedia_id_img</th>\n",
       "      <th>picture_content_type</th>\n",
       "      <th>picture_file_size</th>\n",
       "      <th>picture_updated_at</th>\n",
       "      <th>...</th>\n",
       "      <th>food_subgroup</th>\n",
       "      <th>food_type</th>\n",
       "      <th>created_at</th>\n",
       "      <th>updated_at</th>\n",
       "      <th>creator_id</th>\n",
       "      <th>updater_id</th>\n",
       "      <th>export_to_afcdb</th>\n",
       "      <th>category</th>\n",
       "      <th>ncbi_taxonomy_id</th>\n",
       "      <th>export_to_foodb</th>\n",
       "    </tr>\n",
       "  </thead>\n",
       "  <tbody>\n",
       "    <tr>\n",
       "      <th>39</th>\n",
       "      <td>40</td>\n",
       "      <td>Pepper (C. annuum)</td>\n",
       "      <td>Capsicum annuum</td>\n",
       "      <td>&lt;i&gt;Capsicum annuum&lt;/i&gt; is a domesticated speci...</td>\n",
       "      <td>30492</td>\n",
       "      <td>Capsicum_annuum</td>\n",
       "      <td>40.jpg</td>\n",
       "      <td>image/jpeg</td>\n",
       "      <td>45222</td>\n",
       "      <td>2012-04-20 09:37:27 UTC</td>\n",
       "      <td>...</td>\n",
       "      <td>Fruit vegetables</td>\n",
       "      <td>Type 1</td>\n",
       "      <td>2011-02-09 00:37:17 UTC</td>\n",
       "      <td>2017-03-20 21:26:23 UTC</td>\n",
       "      <td></td>\n",
       "      <td>2</td>\n",
       "      <td>FALSE</td>\n",
       "      <td>specific</td>\n",
       "      <td>4072</td>\n",
       "      <td>TRUE</td>\n",
       "    </tr>\n",
       "    <tr>\n",
       "      <th>891</th>\n",
       "      <td>909</td>\n",
       "      <td>Green bell pepper</td>\n",
       "      <td>Capsicum annuum</td>\n",
       "      <td>Green bell peppers are members of the domestic...</td>\n",
       "      <td>30492</td>\n",
       "      <td>Capsicum_annuum</td>\n",
       "      <td>428px-Green-Bell-Pepper.jpg</td>\n",
       "      <td>image/jpeg</td>\n",
       "      <td>26784</td>\n",
       "      <td>2015-02-26 18:37:27 UTC</td>\n",
       "      <td>...</td>\n",
       "      <td>Fruit vegetables</td>\n",
       "      <td>Type 1</td>\n",
       "      <td>2015-02-26 18:37:27 UTC</td>\n",
       "      <td>2017-03-20 21:26:33 UTC</td>\n",
       "      <td></td>\n",
       "      <td></td>\n",
       "      <td>TRUE</td>\n",
       "      <td>specific</td>\n",
       "      <td>4072</td>\n",
       "      <td>TRUE</td>\n",
       "    </tr>\n",
       "    <tr>\n",
       "      <th>892</th>\n",
       "      <td>910</td>\n",
       "      <td>Yellow bell pepper</td>\n",
       "      <td>Capsicum annuum</td>\n",
       "      <td>Yellow bell peppers are members of the domesti...</td>\n",
       "      <td>30492</td>\n",
       "      <td>Capsicum_annuum</td>\n",
       "      <td>bell_pepper_yellow_2.png</td>\n",
       "      <td>image/png</td>\n",
       "      <td>25165</td>\n",
       "      <td>2015-02-26 18:42:45 UTC</td>\n",
       "      <td>...</td>\n",
       "      <td>Fruit vegetables</td>\n",
       "      <td>Type 1</td>\n",
       "      <td>2015-02-26 18:42:45 UTC</td>\n",
       "      <td>2017-03-20 21:26:34 UTC</td>\n",
       "      <td></td>\n",
       "      <td></td>\n",
       "      <td>TRUE</td>\n",
       "      <td>specific</td>\n",
       "      <td>4072</td>\n",
       "      <td>TRUE</td>\n",
       "    </tr>\n",
       "    <tr>\n",
       "      <th>893</th>\n",
       "      <td>911</td>\n",
       "      <td>Orange bell pepper</td>\n",
       "      <td>Capsicum annuum</td>\n",
       "      <td>Orange bell peppers are members of the domesti...</td>\n",
       "      <td>30492</td>\n",
       "      <td>Capsicum_annuum</td>\n",
       "      <td>orange-bell-pepper-02.jpg</td>\n",
       "      <td>image/jpeg</td>\n",
       "      <td>6881</td>\n",
       "      <td>2015-02-26 18:44:18 UTC</td>\n",
       "      <td>...</td>\n",
       "      <td>Fruit vegetables</td>\n",
       "      <td>Type 1</td>\n",
       "      <td>2015-02-26 18:44:18 UTC</td>\n",
       "      <td>2017-03-20 21:26:34 UTC</td>\n",
       "      <td></td>\n",
       "      <td></td>\n",
       "      <td>TRUE</td>\n",
       "      <td>specific</td>\n",
       "      <td>4072</td>\n",
       "      <td>TRUE</td>\n",
       "    </tr>\n",
       "    <tr>\n",
       "      <th>894</th>\n",
       "      <td>912</td>\n",
       "      <td>Red bell pepper</td>\n",
       "      <td>Capsicum annuum</td>\n",
       "      <td>Red bell peppers are members of the domesticat...</td>\n",
       "      <td>30492</td>\n",
       "      <td>Capsicum_annuum</td>\n",
       "      <td>red-bell-pepper.jpg</td>\n",
       "      <td>image/jpeg</td>\n",
       "      <td>76376</td>\n",
       "      <td>2015-02-26 18:47:15 UTC</td>\n",
       "      <td>...</td>\n",
       "      <td>Fruit vegetables</td>\n",
       "      <td>Type 1</td>\n",
       "      <td>2015-02-26 18:47:16 UTC</td>\n",
       "      <td>2017-03-20 21:26:34 UTC</td>\n",
       "      <td></td>\n",
       "      <td></td>\n",
       "      <td>TRUE</td>\n",
       "      <td>specific</td>\n",
       "      <td>4072</td>\n",
       "      <td>TRUE</td>\n",
       "    </tr>\n",
       "    <tr>\n",
       "      <th>895</th>\n",
       "      <td>913</td>\n",
       "      <td>Italian sweet red pepper</td>\n",
       "      <td>Capsicum annuum</td>\n",
       "      <td>The Italian sweet pepper is a variety of the s...</td>\n",
       "      <td></td>\n",
       "      <td>Italian sweet pepper</td>\n",
       "      <td>939px-Italian_sweet_peppers.jpg</td>\n",
       "      <td>image/jpeg</td>\n",
       "      <td>124244</td>\n",
       "      <td>2015-02-26 18:54:22 UTC</td>\n",
       "      <td>...</td>\n",
       "      <td>Fruit vegetables</td>\n",
       "      <td>Type 1</td>\n",
       "      <td>2015-02-26 18:54:23 UTC</td>\n",
       "      <td>2017-03-20 21:26:34 UTC</td>\n",
       "      <td></td>\n",
       "      <td></td>\n",
       "      <td>TRUE</td>\n",
       "      <td>specific</td>\n",
       "      <td>4072</td>\n",
       "      <td>TRUE</td>\n",
       "    </tr>\n",
       "  </tbody>\n",
       "</table>\n",
       "<p>6 rows × 22 columns</p>\n",
       "</div>"
      ],
      "text/plain": [
       "      id                      name  name_scientific  \\\n",
       "39    40        Pepper (C. annuum)  Capsicum annuum   \n",
       "891  909         Green bell pepper  Capsicum annuum   \n",
       "892  910        Yellow bell pepper  Capsicum annuum   \n",
       "893  911        Orange bell pepper  Capsicum annuum   \n",
       "894  912           Red bell pepper  Capsicum annuum   \n",
       "895  913  Italian sweet red pepper  Capsicum annuum   \n",
       "\n",
       "                                           description itis_id  \\\n",
       "39   <i>Capsicum annuum</i> is a domesticated speci...   30492   \n",
       "891  Green bell peppers are members of the domestic...   30492   \n",
       "892  Yellow bell peppers are members of the domesti...   30492   \n",
       "893  Orange bell peppers are members of the domesti...   30492   \n",
       "894  Red bell peppers are members of the domesticat...   30492   \n",
       "895  The Italian sweet pepper is a variety of the s...           \n",
       "\n",
       "             wikipedia_id                 wikipedia_id_img  \\\n",
       "39        Capsicum_annuum                           40.jpg   \n",
       "891       Capsicum_annuum      428px-Green-Bell-Pepper.jpg   \n",
       "892       Capsicum_annuum         bell_pepper_yellow_2.png   \n",
       "893       Capsicum_annuum        orange-bell-pepper-02.jpg   \n",
       "894       Capsicum_annuum              red-bell-pepper.jpg   \n",
       "895  Italian sweet pepper  939px-Italian_sweet_peppers.jpg   \n",
       "\n",
       "    picture_content_type picture_file_size       picture_updated_at  \\\n",
       "39            image/jpeg             45222  2012-04-20 09:37:27 UTC   \n",
       "891           image/jpeg             26784  2015-02-26 18:37:27 UTC   \n",
       "892            image/png             25165  2015-02-26 18:42:45 UTC   \n",
       "893           image/jpeg              6881  2015-02-26 18:44:18 UTC   \n",
       "894           image/jpeg             76376  2015-02-26 18:47:15 UTC   \n",
       "895           image/jpeg            124244  2015-02-26 18:54:22 UTC   \n",
       "\n",
       "          ...           food_subgroup food_type               created_at  \\\n",
       "39        ...        Fruit vegetables    Type 1  2011-02-09 00:37:17 UTC   \n",
       "891       ...        Fruit vegetables    Type 1  2015-02-26 18:37:27 UTC   \n",
       "892       ...        Fruit vegetables    Type 1  2015-02-26 18:42:45 UTC   \n",
       "893       ...        Fruit vegetables    Type 1  2015-02-26 18:44:18 UTC   \n",
       "894       ...        Fruit vegetables    Type 1  2015-02-26 18:47:16 UTC   \n",
       "895       ...        Fruit vegetables    Type 1  2015-02-26 18:54:23 UTC   \n",
       "\n",
       "                  updated_at creator_id updater_id export_to_afcdb  category  \\\n",
       "39   2017-03-20 21:26:23 UTC                     2           FALSE  specific   \n",
       "891  2017-03-20 21:26:33 UTC                                  TRUE  specific   \n",
       "892  2017-03-20 21:26:34 UTC                                  TRUE  specific   \n",
       "893  2017-03-20 21:26:34 UTC                                  TRUE  specific   \n",
       "894  2017-03-20 21:26:34 UTC                                  TRUE  specific   \n",
       "895  2017-03-20 21:26:34 UTC                                  TRUE  specific   \n",
       "\n",
       "    ncbi_taxonomy_id export_to_foodb  \n",
       "39              4072            TRUE  \n",
       "891             4072            TRUE  \n",
       "892             4072            TRUE  \n",
       "893             4072            TRUE  \n",
       "894             4072            TRUE  \n",
       "895             4072            TRUE  \n",
       "\n",
       "[6 rows x 22 columns]"
      ]
     },
     "execution_count": 57,
     "metadata": {},
     "output_type": "execute_result"
    }
   ],
   "source": [
    "foods[foods['ncbi_taxonomy_id'] == '4072']"
   ]
  },
  {
   "cell_type": "markdown",
   "metadata": {},
   "source": [
    "### Some ncbis are repeated but all foods seem to have one."
   ]
  },
  {
   "cell_type": "markdown",
   "metadata": {},
   "source": [
    "### Investigating Category"
   ]
  },
  {
   "cell_type": "code",
   "execution_count": 74,
   "metadata": {},
   "outputs": [
    {
     "data": {
      "text/plain": [
       "specific    881\n",
       "generic      26\n",
       "Name: category, dtype: int64"
      ]
     },
     "execution_count": 74,
     "metadata": {},
     "output_type": "execute_result"
    }
   ],
   "source": [
    "foods['category'].value_counts()"
   ]
  },
  {
   "cell_type": "code",
   "execution_count": 100,
   "metadata": {},
   "outputs": [],
   "source": [
    "generics = list(foods['name'][foods['category'] == 'generic'])\n",
    "subgroups = list(set(foods['food_subgroup']))"
   ]
  },
  {
   "cell_type": "code",
   "execution_count": 106,
   "metadata": {
    "scrolled": true
   },
   "outputs": [
    {
     "data": {
      "text/plain": [
       "26"
      ]
     },
     "execution_count": 106,
     "metadata": {},
     "output_type": "execute_result"
    }
   ],
   "source": [
    "len(generics)"
   ]
  },
  {
   "cell_type": "code",
   "execution_count": 103,
   "metadata": {},
   "outputs": [],
   "source": [
    "generic_subgroups = []\n",
    "\n",
    "for sub in subgroups:\n",
    "    if any(generic in sub for generic in generics):\n",
    "        generic_subgroups.append(sub)"
   ]
  },
  {
   "cell_type": "code",
   "execution_count": 109,
   "metadata": {},
   "outputs": [
    {
     "data": {
      "text/plain": [
       "27"
      ]
     },
     "execution_count": 109,
     "metadata": {},
     "output_type": "execute_result"
    }
   ],
   "source": [
    "len(set(generic_subgroups))"
   ]
  },
  {
   "cell_type": "markdown",
   "metadata": {},
   "source": [
    "### The \"generic\" category is just 26 of the subgroups with a bit more information about each."
   ]
  },
  {
   "cell_type": "markdown",
   "metadata": {},
   "source": [
    "# Exploratory data analysis\n",
    "## Enzymes table"
   ]
  },
  {
   "cell_type": "code",
   "execution_count": 110,
   "metadata": {},
   "outputs": [
    {
     "name": "stdout",
     "output_type": "stream",
     "text": [
      "2019-03-12 20:40:40,081 INFO sqlalchemy.engine.base.Engine SELECT e.* \n",
      "                            FROM enzymes e\n",
      "                            ;\n",
      "2019-03-12 20:40:40,083 INFO sqlalchemy.engine.base.Engine ()\n"
     ]
    }
   ],
   "source": [
    "enzymes = pd.read_sql_query('''SELECT e.* \n",
    "                            FROM enzymes e\n",
    "                            ;''', engine)"
   ]
  },
  {
   "cell_type": "code",
   "execution_count": 119,
   "metadata": {},
   "outputs": [
    {
     "data": {
      "text/plain": [
       "(1744, 32)"
      ]
     },
     "execution_count": 119,
     "metadata": {},
     "output_type": "execute_result"
    }
   ],
   "source": [
    "enzymes.shape"
   ]
  },
  {
   "cell_type": "code",
   "execution_count": 125,
   "metadata": {
    "scrolled": true
   },
   "outputs": [
    {
     "name": "stdout",
     "output_type": "stream",
     "text": [
      "<class 'pandas.core.frame.DataFrame'>\n",
      "RangeIndex: 1744 entries, 0 to 1743\n",
      "Data columns (total 32 columns):\n",
      "id                       1744 non-null object\n",
      "name                     1744 non-null object\n",
      "gene_name                1744 non-null object\n",
      "description              1744 non-null object\n",
      "go_classification        1744 non-null object\n",
      "general_function         1744 non-null object\n",
      "specific_function        1744 non-null object\n",
      "pathway                  1744 non-null object\n",
      "reaction                 1744 non-null object\n",
      "cellular_location        1744 non-null object\n",
      "signals                  1744 non-null object\n",
      "transmembrane_regions    1744 non-null object\n",
      "molecular_weight         1744 non-null object\n",
      "theoretical_pi           1744 non-null object\n",
      "locus                    1744 non-null object\n",
      "chromosome               1744 non-null object\n",
      "uniprot_name             1744 non-null object\n",
      "uniprot_id               1744 non-null object\n",
      "pdb_id                   1744 non-null object\n",
      "genbank_protein_id       1744 non-null object\n",
      "genbank_gene_id          1744 non-null object\n",
      "genecard_id              1744 non-null object\n",
      "genatlas_id              1744 non-null object\n",
      "hgnc_id                  1744 non-null object\n",
      "hprd_id                  1744 non-null object\n",
      "organism                 1744 non-null object\n",
      "general_citations        1744 non-null object\n",
      "comments                 1744 non-null object\n",
      "creator_id               1744 non-null object\n",
      "updater_id               1744 non-null object\n",
      "created_at               1744 non-null object\n",
      "updated_at               1744 non-null object\n",
      "dtypes: object(32)\n",
      "memory usage: 436.1+ KB\n"
     ]
    }
   ],
   "source": [
    "enzymes.info()"
   ]
  },
  {
   "cell_type": "code",
   "execution_count": 137,
   "metadata": {
    "scrolled": true
   },
   "outputs": [
    {
     "data": {
      "text/plain": [
       "(1744, 1744)"
      ]
     },
     "execution_count": 137,
     "metadata": {},
     "output_type": "execute_result"
    }
   ],
   "source": [
    "enzymes['name'].value_counts().sum(), enzymes['gene_name'].value_counts().sum()"
   ]
  },
  {
   "cell_type": "markdown",
   "metadata": {},
   "source": [
    "### 1744 unique names and gene names. Linked to compounds."
   ]
  },
  {
   "cell_type": "markdown",
   "metadata": {},
   "source": [
    "### How many null values?"
   ]
  },
  {
   "cell_type": "code",
   "execution_count": 112,
   "metadata": {},
   "outputs": [
    {
     "data": {
      "text/html": [
       "<div>\n",
       "<style scoped>\n",
       "    .dataframe tbody tr th:only-of-type {\n",
       "        vertical-align: middle;\n",
       "    }\n",
       "\n",
       "    .dataframe tbody tr th {\n",
       "        vertical-align: top;\n",
       "    }\n",
       "\n",
       "    .dataframe thead th {\n",
       "        text-align: right;\n",
       "    }\n",
       "</style>\n",
       "<table border=\"1\" class=\"dataframe\">\n",
       "  <thead>\n",
       "    <tr style=\"text-align: right;\">\n",
       "      <th></th>\n",
       "      <th>id</th>\n",
       "      <th>name</th>\n",
       "      <th>gene_name</th>\n",
       "      <th>description</th>\n",
       "      <th>go_classification</th>\n",
       "      <th>general_function</th>\n",
       "      <th>specific_function</th>\n",
       "      <th>pathway</th>\n",
       "      <th>reaction</th>\n",
       "      <th>cellular_location</th>\n",
       "      <th>...</th>\n",
       "      <th>genatlas_id</th>\n",
       "      <th>hgnc_id</th>\n",
       "      <th>hprd_id</th>\n",
       "      <th>organism</th>\n",
       "      <th>general_citations</th>\n",
       "      <th>comments</th>\n",
       "      <th>creator_id</th>\n",
       "      <th>updater_id</th>\n",
       "      <th>created_at</th>\n",
       "      <th>updated_at</th>\n",
       "    </tr>\n",
       "  </thead>\n",
       "  <tbody>\n",
       "    <tr>\n",
       "      <th>0</th>\n",
       "      <td>1</td>\n",
       "      <td>UDP-glucuronosyltransferase 2B28</td>\n",
       "      <td>UGT2B28</td>\n",
       "      <td>NULL</td>\n",
       "      <td>NULL</td>\n",
       "      <td>NULL</td>\n",
       "      <td>NULL</td>\n",
       "      <td>NULL</td>\n",
       "      <td>NULL</td>\n",
       "      <td>NULL</td>\n",
       "      <td>...</td>\n",
       "      <td>NULL</td>\n",
       "      <td>NULL</td>\n",
       "      <td>NULL</td>\n",
       "      <td>NULL</td>\n",
       "      <td>NULL</td>\n",
       "      <td>NULL</td>\n",
       "      <td>NULL</td>\n",
       "      <td>NULL</td>\n",
       "      <td>2015-02-23 22:40:56</td>\n",
       "      <td>2015-02-23 22:40:56</td>\n",
       "    </tr>\n",
       "    <tr>\n",
       "      <th>1</th>\n",
       "      <td>2</td>\n",
       "      <td>Estrogen receptor beta</td>\n",
       "      <td>ESR2</td>\n",
       "      <td>NULL</td>\n",
       "      <td>NULL</td>\n",
       "      <td>NULL</td>\n",
       "      <td>NULL</td>\n",
       "      <td>NULL</td>\n",
       "      <td>NULL</td>\n",
       "      <td>NULL</td>\n",
       "      <td>...</td>\n",
       "      <td>NULL</td>\n",
       "      <td>NULL</td>\n",
       "      <td>NULL</td>\n",
       "      <td>NULL</td>\n",
       "      <td>NULL</td>\n",
       "      <td>NULL</td>\n",
       "      <td>NULL</td>\n",
       "      <td>NULL</td>\n",
       "      <td>2015-02-23 22:40:57</td>\n",
       "      <td>2015-02-23 22:40:57</td>\n",
       "    </tr>\n",
       "    <tr>\n",
       "      <th>2</th>\n",
       "      <td>3</td>\n",
       "      <td>UDP-glucuronosyltransferase 2B4</td>\n",
       "      <td>UGT2B4</td>\n",
       "      <td>NULL</td>\n",
       "      <td>NULL</td>\n",
       "      <td>NULL</td>\n",
       "      <td>NULL</td>\n",
       "      <td>NULL</td>\n",
       "      <td>NULL</td>\n",
       "      <td>NULL</td>\n",
       "      <td>...</td>\n",
       "      <td>NULL</td>\n",
       "      <td>NULL</td>\n",
       "      <td>NULL</td>\n",
       "      <td>NULL</td>\n",
       "      <td>NULL</td>\n",
       "      <td>NULL</td>\n",
       "      <td>NULL</td>\n",
       "      <td>NULL</td>\n",
       "      <td>2015-02-23 22:40:57</td>\n",
       "      <td>2015-02-23 22:40:57</td>\n",
       "    </tr>\n",
       "  </tbody>\n",
       "</table>\n",
       "<p>3 rows × 32 columns</p>\n",
       "</div>"
      ],
      "text/plain": [
       "  id                              name gene_name description  \\\n",
       "0  1  UDP-glucuronosyltransferase 2B28   UGT2B28        NULL   \n",
       "1  2            Estrogen receptor beta      ESR2        NULL   \n",
       "2  3   UDP-glucuronosyltransferase 2B4    UGT2B4        NULL   \n",
       "\n",
       "  go_classification general_function specific_function pathway reaction  \\\n",
       "0              NULL             NULL              NULL    NULL     NULL   \n",
       "1              NULL             NULL              NULL    NULL     NULL   \n",
       "2              NULL             NULL              NULL    NULL     NULL   \n",
       "\n",
       "  cellular_location         ...          genatlas_id hgnc_id hprd_id organism  \\\n",
       "0              NULL         ...                 NULL    NULL    NULL     NULL   \n",
       "1              NULL         ...                 NULL    NULL    NULL     NULL   \n",
       "2              NULL         ...                 NULL    NULL    NULL     NULL   \n",
       "\n",
       "  general_citations comments creator_id updater_id           created_at  \\\n",
       "0              NULL     NULL       NULL       NULL  2015-02-23 22:40:56   \n",
       "1              NULL     NULL       NULL       NULL  2015-02-23 22:40:57   \n",
       "2              NULL     NULL       NULL       NULL  2015-02-23 22:40:57   \n",
       "\n",
       "            updated_at  \n",
       "0  2015-02-23 22:40:56  \n",
       "1  2015-02-23 22:40:57  \n",
       "2  2015-02-23 22:40:57  \n",
       "\n",
       "[3 rows x 32 columns]"
      ]
     },
     "execution_count": 112,
     "metadata": {},
     "output_type": "execute_result"
    }
   ],
   "source": [
    "enzymes.head(3)"
   ]
  },
  {
   "cell_type": "code",
   "execution_count": 117,
   "metadata": {},
   "outputs": [],
   "source": [
    "null_enzyme_descriptions = enzymes['description'] == 'NULL'"
   ]
  },
  {
   "cell_type": "code",
   "execution_count": 118,
   "metadata": {},
   "outputs": [
    {
     "data": {
      "text/plain": [
       "1744"
      ]
     },
     "execution_count": 118,
     "metadata": {},
     "output_type": "execute_result"
    }
   ],
   "source": [
    "null_enzyme_descriptions.sum()"
   ]
  },
  {
   "cell_type": "code",
   "execution_count": 121,
   "metadata": {},
   "outputs": [
    {
     "data": {
      "text/plain": [
       "(1744, 32)"
      ]
     },
     "execution_count": 121,
     "metadata": {},
     "output_type": "execute_result"
    }
   ],
   "source": [
    "enzymes[enzymes['description'] == 'NULL'].shape"
   ]
  },
  {
   "cell_type": "code",
   "execution_count": 122,
   "metadata": {},
   "outputs": [
    {
     "data": {
      "text/plain": [
       "(1744, 32)"
      ]
     },
     "execution_count": 122,
     "metadata": {},
     "output_type": "execute_result"
    }
   ],
   "source": [
    "enzymes[enzymes['go_classification'] == 'NULL'].shape"
   ]
  },
  {
   "cell_type": "code",
   "execution_count": 123,
   "metadata": {},
   "outputs": [
    {
     "data": {
      "text/plain": [
       "(1744, 32)"
      ]
     },
     "execution_count": 123,
     "metadata": {},
     "output_type": "execute_result"
    }
   ],
   "source": [
    "enzymes[enzymes['general_function'] == 'NULL'].shape"
   ]
  },
  {
   "cell_type": "code",
   "execution_count": 124,
   "metadata": {},
   "outputs": [
    {
     "data": {
      "text/plain": [
       "(1744, 32)"
      ]
     },
     "execution_count": 124,
     "metadata": {},
     "output_type": "execute_result"
    }
   ],
   "source": [
    "enzymes[enzymes['specific_function'] == 'NULL'].shape"
   ]
  },
  {
   "cell_type": "code",
   "execution_count": 131,
   "metadata": {
    "scrolled": false
   },
   "outputs": [
    {
     "name": "stdout",
     "output_type": "stream",
     "text": [
      "id 0\n",
      "name 0\n",
      "gene_name 0\n",
      "description 1744\n",
      "go_classification 1744\n",
      "general_function 1744\n",
      "specific_function 1744\n",
      "pathway 1744\n",
      "reaction 1744\n",
      "cellular_location 1744\n",
      "signals 1744\n",
      "transmembrane_regions 1744\n",
      "molecular_weight 1744\n",
      "theoretical_pi 1744\n",
      "locus 1744\n",
      "chromosome 1744\n",
      "uniprot_name 1744\n",
      "uniprot_id 0\n",
      "pdb_id 1744\n",
      "genbank_protein_id 1744\n",
      "genbank_gene_id 1744\n",
      "genecard_id 1744\n",
      "genatlas_id 1744\n",
      "hgnc_id 1744\n",
      "hprd_id 1744\n",
      "organism 1744\n",
      "general_citations 1744\n",
      "comments 1744\n",
      "creator_id 1744\n",
      "updater_id 1744\n",
      "created_at 0\n",
      "updated_at 0\n"
     ]
    }
   ],
   "source": [
    "for column in enzymes.columns:\n",
    "    print(column, enzymes[enzymes[column] == 'NULL'].shape[0])"
   ]
  },
  {
   "cell_type": "markdown",
   "metadata": {},
   "source": [
    "### Drop all columns except id, name, and gene_name."
   ]
  },
  {
   "cell_type": "code",
   "execution_count": 136,
   "metadata": {},
   "outputs": [
    {
     "data": {
      "text/plain": [
       "1744"
      ]
     },
     "execution_count": 136,
     "metadata": {},
     "output_type": "execute_result"
    }
   ],
   "source": [
    "enzymes['gene_name'].value_counts().sum()"
   ]
  },
  {
   "cell_type": "code",
   "execution_count": null,
   "metadata": {},
   "outputs": [],
   "source": []
  },
  {
   "cell_type": "markdown",
   "metadata": {},
   "source": [
    "# Exploratory data analysis\n",
    "## flavors table"
   ]
  },
  {
   "cell_type": "code",
   "execution_count": 139,
   "metadata": {},
   "outputs": [
    {
     "name": "stdout",
     "output_type": "stream",
     "text": [
      "2019-03-12 20:53:19,169 INFO sqlalchemy.engine.base.Engine SELECT fl.* \n",
      "                            FROM flavors fl\n",
      "                            ;\n",
      "2019-03-12 20:53:19,170 INFO sqlalchemy.engine.base.Engine ()\n"
     ]
    }
   ],
   "source": [
    "flavors = pd.read_sql_query('''SELECT fl.* \n",
    "                            FROM flavors fl\n",
    "                            ;''', engine)"
   ]
  },
  {
   "cell_type": "code",
   "execution_count": 146,
   "metadata": {},
   "outputs": [
    {
     "data": {
      "text/html": [
       "<div>\n",
       "<style scoped>\n",
       "    .dataframe tbody tr th:only-of-type {\n",
       "        vertical-align: middle;\n",
       "    }\n",
       "\n",
       "    .dataframe tbody tr th {\n",
       "        vertical-align: top;\n",
       "    }\n",
       "\n",
       "    .dataframe thead th {\n",
       "        text-align: right;\n",
       "    }\n",
       "</style>\n",
       "<table border=\"1\" class=\"dataframe\">\n",
       "  <thead>\n",
       "    <tr style=\"text-align: right;\">\n",
       "      <th></th>\n",
       "      <th>id</th>\n",
       "      <th>name</th>\n",
       "      <th>flavor_group</th>\n",
       "      <th>category</th>\n",
       "      <th>created_at</th>\n",
       "      <th>updated_at</th>\n",
       "      <th>creator_id</th>\n",
       "      <th>updater_id</th>\n",
       "    </tr>\n",
       "  </thead>\n",
       "  <tbody>\n",
       "    <tr>\n",
       "      <th>0</th>\n",
       "      <td>1</td>\n",
       "      <td>celery</td>\n",
       "      <td>vegetable</td>\n",
       "      <td>odor</td>\n",
       "      <td>2011-10-02 06:10:04</td>\n",
       "      <td>2011-10-02 06:10:04</td>\n",
       "      <td>NULL</td>\n",
       "      <td>NULL</td>\n",
       "    </tr>\n",
       "    <tr>\n",
       "      <th>1</th>\n",
       "      <td>2</td>\n",
       "      <td>corn</td>\n",
       "      <td>vegetable</td>\n",
       "      <td>odor</td>\n",
       "      <td>2011-10-02 06:10:04</td>\n",
       "      <td>2011-10-02 06:10:04</td>\n",
       "      <td>NULL</td>\n",
       "      <td>NULL</td>\n",
       "    </tr>\n",
       "    <tr>\n",
       "      <th>2</th>\n",
       "      <td>3</td>\n",
       "      <td>cucumber</td>\n",
       "      <td>vegetable</td>\n",
       "      <td>odor</td>\n",
       "      <td>2011-10-02 06:10:04</td>\n",
       "      <td>2011-10-02 06:10:04</td>\n",
       "      <td>NULL</td>\n",
       "      <td>NULL</td>\n",
       "    </tr>\n",
       "    <tr>\n",
       "      <th>3</th>\n",
       "      <td>4</td>\n",
       "      <td>horseradish</td>\n",
       "      <td>vegetable</td>\n",
       "      <td>odor</td>\n",
       "      <td>2011-10-02 06:10:05</td>\n",
       "      <td>2011-10-02 06:10:05</td>\n",
       "      <td>NULL</td>\n",
       "      <td>NULL</td>\n",
       "    </tr>\n",
       "    <tr>\n",
       "      <th>4</th>\n",
       "      <td>5</td>\n",
       "      <td>vegetable</td>\n",
       "      <td>vegetable</td>\n",
       "      <td>odor</td>\n",
       "      <td>2011-10-02 06:10:05</td>\n",
       "      <td>2011-10-02 06:10:05</td>\n",
       "      <td>NULL</td>\n",
       "      <td>NULL</td>\n",
       "    </tr>\n",
       "  </tbody>\n",
       "</table>\n",
       "</div>"
      ],
      "text/plain": [
       "  id         name flavor_group category           created_at  \\\n",
       "0  1       celery    vegetable     odor  2011-10-02 06:10:04   \n",
       "1  2         corn    vegetable     odor  2011-10-02 06:10:04   \n",
       "2  3     cucumber    vegetable     odor  2011-10-02 06:10:04   \n",
       "3  4  horseradish    vegetable     odor  2011-10-02 06:10:05   \n",
       "4  5    vegetable    vegetable     odor  2011-10-02 06:10:05   \n",
       "\n",
       "            updated_at creator_id updater_id  \n",
       "0  2011-10-02 06:10:04       NULL       NULL  \n",
       "1  2011-10-02 06:10:04       NULL       NULL  \n",
       "2  2011-10-02 06:10:04       NULL       NULL  \n",
       "3  2011-10-02 06:10:05       NULL       NULL  \n",
       "4  2011-10-02 06:10:05       NULL       NULL  "
      ]
     },
     "execution_count": 146,
     "metadata": {},
     "output_type": "execute_result"
    }
   ],
   "source": [
    "flavors.head()"
   ]
  },
  {
   "cell_type": "code",
   "execution_count": 150,
   "metadata": {},
   "outputs": [
    {
     "data": {
      "text/plain": [
       "citral                         1\n",
       "fungal                         1\n",
       "dill                           1\n",
       "clean                          1\n",
       "paint                          1\n",
       "maple syrup                    1\n",
       "coriander                      1\n",
       "prune                          1\n",
       "heliotropin                    1\n",
       "flower shop                    1\n",
       "laundered cloths               1\n",
       "cardamom                       1\n",
       "green leaf                     1\n",
       "paper                          1\n",
       "burnt almonds                  1\n",
       "laundry                        1\n",
       "fecal                          1\n",
       "waxy                           1\n",
       "bark                           1\n",
       "peppery                        1\n",
       "cayloxol                       1\n",
       "benzyl propionate              1\n",
       "lemongrass                     1\n",
       "linseed                        1\n",
       "syrup                          1\n",
       "cereal                         1\n",
       "apple skin                     1\n",
       "mild cooling                   1\n",
       "pistachio                      1\n",
       "freshly bruised sage leaves    1\n",
       "                              ..\n",
       "clove                          1\n",
       "beer                           1\n",
       "ground                         1\n",
       "soil                           1\n",
       "cabbage                        1\n",
       "feta cheese                    1\n",
       "egg                            1\n",
       "lime blossom                   1\n",
       "citric                         1\n",
       "jam                            1\n",
       "feet                           1\n",
       "smoky                          1\n",
       "red hots                       1\n",
       "iodine                         1\n",
       "fennel                         1\n",
       "rosy                           1\n",
       "boiled beef                    1\n",
       "clover                         1\n",
       "rotten                         1\n",
       "hawthorn                       1\n",
       "orange blossom                 1\n",
       "clary                          1\n",
       "cauliflower                    1\n",
       "casky                          1\n",
       "metal                          1\n",
       "violet-leaf                    1\n",
       "cherry                         1\n",
       "cardboard                      1\n",
       "dried berry                    1\n",
       "curry                          1\n",
       "Name: name, Length: 856, dtype: int64"
      ]
     },
     "execution_count": 150,
     "metadata": {},
     "output_type": "execute_result"
    }
   ],
   "source": [
    "flavors['name'].value_counts()"
   ]
  },
  {
   "cell_type": "code",
   "execution_count": 151,
   "metadata": {},
   "outputs": [
    {
     "data": {
      "text/plain": [
       "NULL             743\n",
       "fruity            24\n",
       "floral            14\n",
       "balsamic          10\n",
       "vegetable          8\n",
       "fatty              7\n",
       "wine_like          5\n",
       "herbaceous         5\n",
       "citrus             5\n",
       "nutty              5\n",
       "woody              4\n",
       "chemical           3\n",
       "meaty              3\n",
       "green              3\n",
       "earthy             3\n",
       "spicy              2\n",
       "musky              1\n",
       "tobacco            1\n",
       "smoky              1\n",
       "minty              1\n",
       "medicinal          1\n",
       "camphoraceous      1\n",
       "mossy              1\n",
       "fishy              1\n",
       "pepper             1\n",
       "seedy              1\n",
       "animal             1\n",
       "soapy              1\n",
       "Name: flavor_group, dtype: int64"
      ]
     },
     "execution_count": 151,
     "metadata": {},
     "output_type": "execute_result"
    }
   ],
   "source": [
    "flavors['flavor_group'].value_counts()"
   ]
  },
  {
   "cell_type": "code",
   "execution_count": 153,
   "metadata": {},
   "outputs": [
    {
     "data": {
      "text/plain": [
       "odor    856\n",
       "Name: category, dtype: int64"
      ]
     },
     "execution_count": 153,
     "metadata": {},
     "output_type": "execute_result"
    }
   ],
   "source": [
    "flavors['category'].value_counts()"
   ]
  },
  {
   "cell_type": "code",
   "execution_count": 156,
   "metadata": {},
   "outputs": [
    {
     "data": {
      "text/plain": [
       "['compound_alternate_parents',\n",
       " 'compound_external_descriptors',\n",
       " 'compound_substituents',\n",
       " 'compound_synonyms',\n",
       " 'compounds',\n",
       " 'compounds_enzymes',\n",
       " 'compounds_flavors',\n",
       " 'compounds_health_effects',\n",
       " 'compounds_pathways',\n",
       " 'enzymes',\n",
       " 'flavors',\n",
       " 'food_taxonomies',\n",
       " 'foodcomex_compound_providers',\n",
       " 'foodcomex_compounds',\n",
       " 'foods',\n",
       " 'health_effects',\n",
       " 'nutrients',\n",
       " 'pathways',\n",
       " 'references']"
      ]
     },
     "execution_count": 156,
     "metadata": {},
     "output_type": "execute_result"
    }
   ],
   "source": [
    "table_names"
   ]
  },
  {
   "cell_type": "markdown",
   "metadata": {},
   "source": [
    "### Drop all columns except id, name, and flavor_group\n",
    "### Will have to see later how compounds are connected to these descriptions of flavor. Disappointed that there are 856 unique descriptors ('name') and very few useful flavor_group designations."
   ]
  },
  {
   "cell_type": "code",
   "execution_count": null,
   "metadata": {},
   "outputs": [],
   "source": []
  },
  {
   "cell_type": "code",
   "execution_count": null,
   "metadata": {},
   "outputs": [],
   "source": []
  },
  {
   "cell_type": "code",
   "execution_count": null,
   "metadata": {},
   "outputs": [],
   "source": []
  },
  {
   "cell_type": "markdown",
   "metadata": {},
   "source": [
    "# Exploratory Data Analysis\n",
    "## Health effects table"
   ]
  },
  {
   "cell_type": "code",
   "execution_count": 157,
   "metadata": {},
   "outputs": [
    {
     "name": "stdout",
     "output_type": "stream",
     "text": [
      "2019-03-12 21:02:44,726 INFO sqlalchemy.engine.base.Engine SELECT he.* \n",
      "                            FROM health_effects he\n",
      "                            ;\n",
      "2019-03-12 21:02:44,728 INFO sqlalchemy.engine.base.Engine ()\n"
     ]
    }
   ],
   "source": [
    "health_effects = pd.read_sql_query('''SELECT he.* \n",
    "                            FROM health_effects he\n",
    "                            ;''', engine)"
   ]
  },
  {
   "cell_type": "code",
   "execution_count": 158,
   "metadata": {},
   "outputs": [
    {
     "data": {
      "text/plain": [
       "(1435, 10)"
      ]
     },
     "execution_count": 158,
     "metadata": {},
     "output_type": "execute_result"
    }
   ],
   "source": [
    "health_effects.shape"
   ]
  },
  {
   "cell_type": "code",
   "execution_count": 159,
   "metadata": {
    "scrolled": true
   },
   "outputs": [
    {
     "name": "stdout",
     "output_type": "stream",
     "text": [
      "<class 'pandas.core.frame.DataFrame'>\n",
      "RangeIndex: 1435 entries, 0 to 1434\n",
      "Data columns (total 10 columns):\n",
      "id                  1435 non-null object\n",
      "name                1435 non-null object\n",
      "description         1435 non-null object\n",
      "chebi_name          1435 non-null object\n",
      "chebi_id            1435 non-null object\n",
      "created_at          1435 non-null object\n",
      "updated_at          1435 non-null object\n",
      "creator_id          1435 non-null object\n",
      "updater_id          1435 non-null object\n",
      "chebi_definition    1435 non-null object\n",
      "dtypes: object(10)\n",
      "memory usage: 112.2+ KB\n"
     ]
    }
   ],
   "source": [
    "health_effects.info()"
   ]
  },
  {
   "cell_type": "code",
   "execution_count": 160,
   "metadata": {},
   "outputs": [
    {
     "data": {
      "text/html": [
       "<div>\n",
       "<style scoped>\n",
       "    .dataframe tbody tr th:only-of-type {\n",
       "        vertical-align: middle;\n",
       "    }\n",
       "\n",
       "    .dataframe tbody tr th {\n",
       "        vertical-align: top;\n",
       "    }\n",
       "\n",
       "    .dataframe thead th {\n",
       "        text-align: right;\n",
       "    }\n",
       "</style>\n",
       "<table border=\"1\" class=\"dataframe\">\n",
       "  <thead>\n",
       "    <tr style=\"text-align: right;\">\n",
       "      <th></th>\n",
       "      <th>id</th>\n",
       "      <th>name</th>\n",
       "      <th>description</th>\n",
       "      <th>chebi_name</th>\n",
       "      <th>chebi_id</th>\n",
       "      <th>created_at</th>\n",
       "      <th>updated_at</th>\n",
       "      <th>creator_id</th>\n",
       "      <th>updater_id</th>\n",
       "      <th>chebi_definition</th>\n",
       "    </tr>\n",
       "  </thead>\n",
       "  <tbody>\n",
       "    <tr>\n",
       "      <th>0</th>\n",
       "      <td>1</td>\n",
       "      <td>(+)-inotropic</td>\n",
       "      <td>An agent that alters the force or energy of mu...</td>\n",
       "      <td>NULL</td>\n",
       "      <td>NULL</td>\n",
       "      <td>2012-04-10 10:05:13</td>\n",
       "      <td>2015-11-11 02:32:19</td>\n",
       "      <td>NULL</td>\n",
       "      <td>NULL</td>\n",
       "      <td>NULL</td>\n",
       "    </tr>\n",
       "    <tr>\n",
       "      <th>1</th>\n",
       "      <td>2</td>\n",
       "      <td>(-)-chronotropic</td>\n",
       "      <td>An agent that may change theÂ heartÂ rate by a...</td>\n",
       "      <td>NULL</td>\n",
       "      <td>NULL</td>\n",
       "      <td>2012-04-10 10:05:13</td>\n",
       "      <td>2015-11-11 02:32:19</td>\n",
       "      <td>NULL</td>\n",
       "      <td>NULL</td>\n",
       "      <td>NULL</td>\n",
       "    </tr>\n",
       "    <tr>\n",
       "      <th>2</th>\n",
       "      <td>3</td>\n",
       "      <td>(-)-inotropic</td>\n",
       "      <td>An agent that alters the force or energy of mu...</td>\n",
       "      <td>NULL</td>\n",
       "      <td>NULL</td>\n",
       "      <td>2012-04-10 10:05:13</td>\n",
       "      <td>2015-11-11 02:32:19</td>\n",
       "      <td>NULL</td>\n",
       "      <td>NULL</td>\n",
       "      <td>NULL</td>\n",
       "    </tr>\n",
       "    <tr>\n",
       "      <th>3</th>\n",
       "      <td>4</td>\n",
       "      <td>11beta-hydroxysteroid-dehydrogenase inhibitor</td>\n",
       "      <td>NULL</td>\n",
       "      <td>enzyme inhibitor</td>\n",
       "      <td>23924</td>\n",
       "      <td>2012-04-10 10:05:13</td>\n",
       "      <td>2015-10-27 17:47:35</td>\n",
       "      <td>NULL</td>\n",
       "      <td>NULL</td>\n",
       "      <td>A compound or agent that combines with an enzy...</td>\n",
       "    </tr>\n",
       "    <tr>\n",
       "      <th>4</th>\n",
       "      <td>5</td>\n",
       "      <td>12-lipoxygenase inhibitor</td>\n",
       "      <td>NULL</td>\n",
       "      <td>enzyme inhibitor</td>\n",
       "      <td>23924</td>\n",
       "      <td>2012-04-10 10:05:13</td>\n",
       "      <td>2015-10-27 17:47:36</td>\n",
       "      <td>NULL</td>\n",
       "      <td>NULL</td>\n",
       "      <td>A compound or agent that combines with an enzy...</td>\n",
       "    </tr>\n",
       "  </tbody>\n",
       "</table>\n",
       "</div>"
      ],
      "text/plain": [
       "  id                                           name  \\\n",
       "0  1                                  (+)-inotropic   \n",
       "1  2                               (-)-chronotropic   \n",
       "2  3                                  (-)-inotropic   \n",
       "3  4  11beta-hydroxysteroid-dehydrogenase inhibitor   \n",
       "4  5                      12-lipoxygenase inhibitor   \n",
       "\n",
       "                                         description        chebi_name  \\\n",
       "0  An agent that alters the force or energy of mu...              NULL   \n",
       "1  An agent that may change theÂ heartÂ rate by a...              NULL   \n",
       "2  An agent that alters the force or energy of mu...              NULL   \n",
       "3                                               NULL  enzyme inhibitor   \n",
       "4                                               NULL  enzyme inhibitor   \n",
       "\n",
       "  chebi_id           created_at           updated_at creator_id updater_id  \\\n",
       "0     NULL  2012-04-10 10:05:13  2015-11-11 02:32:19       NULL       NULL   \n",
       "1     NULL  2012-04-10 10:05:13  2015-11-11 02:32:19       NULL       NULL   \n",
       "2     NULL  2012-04-10 10:05:13  2015-11-11 02:32:19       NULL       NULL   \n",
       "3    23924  2012-04-10 10:05:13  2015-10-27 17:47:35       NULL       NULL   \n",
       "4    23924  2012-04-10 10:05:13  2015-10-27 17:47:36       NULL       NULL   \n",
       "\n",
       "                                    chebi_definition  \n",
       "0                                               NULL  \n",
       "1                                               NULL  \n",
       "2                                               NULL  \n",
       "3  A compound or agent that combines with an enzy...  \n",
       "4  A compound or agent that combines with an enzy...  "
      ]
     },
     "execution_count": 160,
     "metadata": {},
     "output_type": "execute_result"
    }
   ],
   "source": [
    "health_effects.head()"
   ]
  },
  {
   "cell_type": "code",
   "execution_count": 161,
   "metadata": {},
   "outputs": [
    {
     "name": "stdout",
     "output_type": "stream",
     "text": [
      "id 1435\n",
      "name 1435\n",
      "description 619\n",
      "chebi_name 710\n",
      "chebi_id 710\n",
      "created_at 1435\n",
      "updated_at 1435\n",
      "creator_id 0\n",
      "updater_id 0\n",
      "chebi_definition 698\n"
     ]
    }
   ],
   "source": [
    "for column in health_effects.columns:\n",
    "    print(column, health_effects[health_effects[column] != 'NULL'].shape[0])"
   ]
  },
  {
   "cell_type": "code",
   "execution_count": 162,
   "metadata": {},
   "outputs": [],
   "source": [
    "#Are the rows with a non-null chebi_id the same as the rows with a non-null chebi_name?\n",
    "chebi_ids = health_effects[health_effects['chebi_id'] != 'NULL']"
   ]
  },
  {
   "cell_type": "code",
   "execution_count": 165,
   "metadata": {},
   "outputs": [],
   "source": [
    "chebi_name = health_effects[health_effects['chebi_name'] != 'NULL']"
   ]
  },
  {
   "cell_type": "code",
   "execution_count": 167,
   "metadata": {},
   "outputs": [],
   "source": [
    "trues = chebi_ids == chebi_name"
   ]
  },
  {
   "cell_type": "markdown",
   "metadata": {},
   "source": [
    "### Drop created_at, updated_at, creator_id, updater_id"
   ]
  },
  {
   "cell_type": "markdown",
   "metadata": {},
   "source": [
    "# Exploratory Data Analysis\n",
    "## Nutrients table"
   ]
  },
  {
   "cell_type": "code",
   "execution_count": null,
   "metadata": {},
   "outputs": [],
   "source": [
    "nutrients = pd.read_sql_query('''SELECT n.* \n",
    "                            FROM nutrients n\n",
    "                            ;''', engine)"
   ]
  },
  {
   "cell_type": "code",
   "execution_count": null,
   "metadata": {},
   "outputs": [],
   "source": []
  },
  {
   "cell_type": "markdown",
   "metadata": {},
   "source": [
    "# Exploratory data analysis\n",
    "## Pathways table"
   ]
  },
  {
   "cell_type": "code",
   "execution_count": null,
   "metadata": {},
   "outputs": [],
   "source": [
    "pathways = pd.read_sql_query('''SELECT pa.* \n",
    "                            FROM pathways pa\n",
    "                            ;''', engine)"
   ]
  },
  {
   "cell_type": "code",
   "execution_count": null,
   "metadata": {},
   "outputs": [],
   "source": []
  },
  {
   "cell_type": "markdown",
   "metadata": {},
   "source": [
    "# Exploratory data analysis\n",
    "## References table"
   ]
  },
  {
   "cell_type": "code",
   "execution_count": null,
   "metadata": {},
   "outputs": [],
   "source": [
    "references = pd.read_sql_query('''SELECT r.* \n",
    "                            FROM references r\n",
    "                            ;''', engine)"
   ]
  },
  {
   "cell_type": "code",
   "execution_count": null,
   "metadata": {},
   "outputs": [],
   "source": []
  },
  {
   "cell_type": "markdown",
   "metadata": {},
   "source": [
    "# Exploratory data analysis\n",
    "## food taxonomies table"
   ]
  },
  {
   "cell_type": "code",
   "execution_count": null,
   "metadata": {},
   "outputs": [],
   "source": [
    "food_taxonomies = pd.read_sql_query('''SELECT ft.* \n",
    "                            FROM food_taxonomies ft\n",
    "                            ;''', engine)"
   ]
  },
  {
   "cell_type": "markdown",
   "metadata": {},
   "source": [
    "# Exploratory data analysis\n",
    "## foodcomex compound providers  table"
   ]
  },
  {
   "cell_type": "code",
   "execution_count": null,
   "metadata": {},
   "outputs": [],
   "source": [
    "foodcomex_compound_providers = pd.read_sql_query('''SELECT fcp.* \n",
    "                            FROM foodcomex_compound_providers fcp\n",
    "                            ;''', engine)"
   ]
  },
  {
   "cell_type": "markdown",
   "metadata": {},
   "source": [
    "# Exploratory data analysis\n",
    "## foodcomex compounds  table"
   ]
  },
  {
   "cell_type": "code",
   "execution_count": null,
   "metadata": {},
   "outputs": [],
   "source": [
    "foodcomex_compounds = pd.read_sql_query('''SELECT fc.* \n",
    "                            FROM foodcomex_compounds fc\n",
    "                            ;''', engine)"
   ]
  },
  {
   "cell_type": "markdown",
   "metadata": {},
   "source": [
    "# Exploratory data analysis\n",
    "## compounds table"
   ]
  },
  {
   "cell_type": "code",
   "execution_count": null,
   "metadata": {},
   "outputs": [],
   "source": [
    "compounds = pd.read_sql_query('''SELECT c.* \n",
    "                            FROM compounds c\n",
    "                            ;''', engine)"
   ]
  },
  {
   "cell_type": "markdown",
   "metadata": {},
   "source": [
    "# Exploratory data analysis\n",
    "## compound alternate parents table"
   ]
  },
  {
   "cell_type": "code",
   "execution_count": null,
   "metadata": {},
   "outputs": [],
   "source": [
    "compound_alternate_parents = pd.read_sql_query('''SELECT cap.* \n",
    "                            FROM compounds_alternate_parents cap\n",
    "                            ;''', engine)"
   ]
  },
  {
   "cell_type": "markdown",
   "metadata": {},
   "source": [
    "# Exploratory data analysis\n",
    "## compound external descriptors"
   ]
  },
  {
   "cell_type": "code",
   "execution_count": null,
   "metadata": {},
   "outputs": [],
   "source": [
    "compound_external_descriptors = pd.read_sql_query('''SELECT ced.* \n",
    "                            FROM compound_external_descriptors ced\n",
    "                            ;''', engine)"
   ]
  },
  {
   "cell_type": "markdown",
   "metadata": {},
   "source": [
    "# Exploratory data analysis\n",
    "## compound substituents"
   ]
  },
  {
   "cell_type": "code",
   "execution_count": null,
   "metadata": {},
   "outputs": [],
   "source": [
    "compound_substituents = pd.read_sql_query('''SELECT csu.* \n",
    "                            FROM compound_substituents csu\n",
    "                            ;''', engine)"
   ]
  },
  {
   "cell_type": "markdown",
   "metadata": {},
   "source": [
    "# Exploratory data analysis\n",
    "## compound synonyms table"
   ]
  },
  {
   "cell_type": "code",
   "execution_count": null,
   "metadata": {},
   "outputs": [],
   "source": [
    "compound_synonyms = pd.read_sql_query('''SELECT csy.* \n",
    "                            FROM compound_synonyms csy\n",
    "                            ;''', engine)"
   ]
  },
  {
   "cell_type": "code",
   "execution_count": null,
   "metadata": {},
   "outputs": [],
   "source": [
    "['compound_alternate_parents',\n",
    " 'compound_external_descriptors',\n",
    " 'compound_substituents',\n",
    " 'compound_synonyms',\n",
    " 'compounds',\n",
    " 'compounds_enzymes',\n",
    " 'compounds_flavors',\n",
    " 'compounds_health_effects',\n",
    " 'compounds_pathways',\n",
    " 'enzymes',\n",
    " 'flavors',\n",
    " 'food_taxonomies',\n",
    " 'foodcomex_compound_providers',\n",
    " 'foodcomex_compounds',\n",
    " 'foods',\n",
    " 'health_effects',\n",
    " 'nutrients',\n",
    " 'pathways',\n",
    " 'references']"
   ]
  },
  {
   "cell_type": "markdown",
   "metadata": {},
   "source": [
    "# Exploratory data analysis\n",
    "## compounds enzymes table"
   ]
  },
  {
   "cell_type": "code",
   "execution_count": null,
   "metadata": {},
   "outputs": [],
   "source": [
    "compounds_enzymes = pd.read_sql_query('''SELECT ce.* \n",
    "                            FROM compounds_enzymes ce\n",
    "                            ;''', engine)"
   ]
  },
  {
   "cell_type": "markdown",
   "metadata": {},
   "source": [
    "# Exploratory data analysis\n",
    "## compounds flavors table"
   ]
  },
  {
   "cell_type": "code",
   "execution_count": null,
   "metadata": {},
   "outputs": [],
   "source": [
    "compounds_flavors = pd.read_sql_query('''SELECT cf.* \n",
    "                            FROM compounds_flavors cf\n",
    "                            ;''', engine)"
   ]
  },
  {
   "cell_type": "markdown",
   "metadata": {},
   "source": [
    "# Exploratory data analysis\n",
    "## compounds health effects table"
   ]
  },
  {
   "cell_type": "code",
   "execution_count": null,
   "metadata": {},
   "outputs": [],
   "source": [
    "compounds_health_effects = pd.read_sql_query('''SELECT che.* \n",
    "                            FROM compounds_health_effects che\n",
    "                            ;''', engine)"
   ]
  },
  {
   "cell_type": "markdown",
   "metadata": {},
   "source": [
    "# Exploratory data analysis\n",
    "## compounds pathways table"
   ]
  },
  {
   "cell_type": "code",
   "execution_count": null,
   "metadata": {},
   "outputs": [],
   "source": [
    "compounds_pathways = pd.read_sql_query('''SELECT cp.* \n",
    "                            FROM compounds_pathways cp\n",
    "                            ;''', engine)"
   ]
  },
  {
   "cell_type": "code",
   "execution_count": null,
   "metadata": {},
   "outputs": [],
   "source": []
  },
  {
   "cell_type": "code",
   "execution_count": null,
   "metadata": {},
   "outputs": [],
   "source": []
  },
  {
   "cell_type": "code",
   "execution_count": null,
   "metadata": {},
   "outputs": [],
   "source": []
  },
  {
   "cell_type": "code",
   "execution_count": null,
   "metadata": {},
   "outputs": [],
   "source": []
  },
  {
   "cell_type": "code",
   "execution_count": null,
   "metadata": {},
   "outputs": [],
   "source": []
  },
  {
   "cell_type": "code",
   "execution_count": null,
   "metadata": {},
   "outputs": [],
   "source": []
  },
  {
   "cell_type": "code",
   "execution_count": null,
   "metadata": {},
   "outputs": [],
   "source": [
    "###############################################################################################"
   ]
  },
  {
   "cell_type": "code",
   "execution_count": null,
   "metadata": {
    "scrolled": true
   },
   "outputs": [],
   "source": [
    "#This encoding works with Windows.\n",
    "foods = pd.read_csv('foods.csv', encoding = \"ISO-8859-1\")\n",
    "\n",
    "\n"
   ]
  },
  {
   "cell_type": "code",
   "execution_count": null,
   "metadata": {},
   "outputs": [],
   "source": [
    "foods.head()"
   ]
  },
  {
   "cell_type": "code",
   "execution_count": null,
   "metadata": {},
   "outputs": [],
   "source": [
    "compounds = pd.read_csv('compounds.csv', encoding = \"ISO-8859-1\")"
   ]
  },
  {
   "cell_type": "code",
   "execution_count": null,
   "metadata": {},
   "outputs": [],
   "source": [
    "compounds_flavors = pd.read_csv('compounds_flavors.csv', encoding = \"ISO-8859-1\")"
   ]
  },
  {
   "cell_type": "code",
   "execution_count": null,
   "metadata": {},
   "outputs": [],
   "source": [
    "foodcomex_compounds = pd.read_csv('foodcomex_compounds.csv', encoding = \"ISO-8859-1\")"
   ]
  },
  {
   "cell_type": "code",
   "execution_count": null,
   "metadata": {},
   "outputs": [],
   "source": []
  }
 ],
 "metadata": {
  "kernelspec": {
   "display_name": "learn-env",
   "language": "python",
   "name": "learn-env"
  },
  "language_info": {
   "codemirror_mode": {
    "name": "ipython",
    "version": 3
   },
   "file_extension": ".py",
   "mimetype": "text/x-python",
   "name": "python",
   "nbconvert_exporter": "python",
   "pygments_lexer": "ipython3",
   "version": "3.6.6"
  }
 },
 "nbformat": 4,
 "nbformat_minor": 2
}
